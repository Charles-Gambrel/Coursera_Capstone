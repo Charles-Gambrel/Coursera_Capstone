{
    "cells": [
        {
            "cell_type": "markdown",
            "metadata": {},
            "source": "# Using Housing Market Appreciation and Foursquare API to Determine the Best Locations for Future Business Development in Omaha, Nebraska"
        },
        {
            "cell_type": "markdown",
            "metadata": {},
            "source": "The parts of town in any major metropolitan area can vary wildly in terms of average resident income, crime rates, and economic opportunity. These metrics determine which areas of a city are growing and which are stagnating. If this information can be harnessed and visualized it would be of great help to potential business developers looking to build or expand into new markets.\n\nIn this notebook, the Amercian midwestern city of Omaha, Nebraska will be organized by zip code. Within each zip code the average price per square foot of single family homes will be examined over time in order to obtain the yearly appreciation rate of the area. The appreciation rate is a simple way to determine which areas of the city are the most desired by home buyers and will therefore show which parts of the city are growing economically as opposed to stagnating. These growing sections will generate the greatest demand for goods and services resulting in hotbeds for business success.\n\nOnce the fastest growing sections of the city are found, the section will then be clustered using K-means Clustering to see if any zip codes display business preferences to provide even more economic detail to future developers."
        },
        {
            "cell_type": "code",
            "execution_count": 1,
            "metadata": {},
            "outputs": [],
            "source": "import numpy as np\nimport pandas as pd\nimport json\n%matplotlib inline\nimport matplotlib as mpl\nimport matplotlib.pyplot as plt\nimport warnings\nwarnings.filterwarnings('ignore')"
        },
        {
            "cell_type": "markdown",
            "metadata": {},
            "source": "\n\nThe primary source of data for this project will be obtained through Redfin, a realestate website with a wonderful supply of housing data for free. The only downside of Redfin is their 350 datapoint limit per download meaning multiple datasets had to be downloaded from the website and uploaded to IBM cloud server. Below is an example dataframe of 350 rows followed by several other dataframes being uploaded."
        },
        {
            "cell_type": "code",
            "execution_count": 2,
            "metadata": {},
            "outputs": [
                {
                    "data": {
                        "text/html": "<div>\n<style scoped>\n    .dataframe tbody tr th:only-of-type {\n        vertical-align: middle;\n    }\n\n    .dataframe tbody tr th {\n        vertical-align: top;\n    }\n\n    .dataframe thead th {\n        text-align: right;\n    }\n</style>\n<table border=\"1\" class=\"dataframe\">\n  <thead>\n    <tr style=\"text-align: right;\">\n      <th></th>\n      <th>SALE TYPE</th>\n      <th>SOLD DATE</th>\n      <th>PROPERTY TYPE</th>\n      <th>ADDRESS</th>\n      <th>CITY</th>\n      <th>STATE OR PROVINCE</th>\n      <th>ZIP OR POSTAL CODE</th>\n      <th>PRICE</th>\n      <th>BEDS</th>\n      <th>BATHS</th>\n      <th>...</th>\n      <th>STATUS</th>\n      <th>NEXT OPEN HOUSE START TIME</th>\n      <th>NEXT OPEN HOUSE END TIME</th>\n      <th>URL (SEE http://www.redfin.com/buy-a-home/comparative-market-analysis FOR INFO ON PRICING)</th>\n      <th>SOURCE</th>\n      <th>MLS#</th>\n      <th>FAVORITE</th>\n      <th>INTERESTED</th>\n      <th>LATITUDE</th>\n      <th>LONGITUDE</th>\n    </tr>\n  </thead>\n  <tbody>\n    <tr>\n      <th>0</th>\n      <td>PAST SALE</td>\n      <td>August-9-2019</td>\n      <td>Single Family Residential</td>\n      <td>4930 S 129th St</td>\n      <td>Omaha</td>\n      <td>NE</td>\n      <td>68137</td>\n      <td>172000</td>\n      <td>3</td>\n      <td>2.0</td>\n      <td>...</td>\n      <td>Sold</td>\n      <td>NaN</td>\n      <td>NaN</td>\n      <td>http://www.redfin.com/NE/Omaha/4930-S-129th-St...</td>\n      <td>GPRMLS</td>\n      <td>21914034.0</td>\n      <td>N</td>\n      <td>Y</td>\n      <td>41.209122</td>\n      <td>-96.115945</td>\n    </tr>\n    <tr>\n      <th>1</th>\n      <td>PAST SALE</td>\n      <td>July-26-2019</td>\n      <td>Single Family Residential</td>\n      <td>9608 S 173rd St</td>\n      <td>Omaha</td>\n      <td>NE</td>\n      <td>68136</td>\n      <td>300000</td>\n      <td>4</td>\n      <td>4.0</td>\n      <td>...</td>\n      <td>Sold</td>\n      <td>NaN</td>\n      <td>NaN</td>\n      <td>http://www.redfin.com/NE/Omaha/9608-S-173rd-St...</td>\n      <td>GPRMLS</td>\n      <td>21909883.0</td>\n      <td>N</td>\n      <td>Y</td>\n      <td>41.164223</td>\n      <td>-96.185320</td>\n    </tr>\n    <tr>\n      <th>2</th>\n      <td>PAST SALE</td>\n      <td>September-1-2017</td>\n      <td>Single Family Residential</td>\n      <td>10317 S 124 Ave</td>\n      <td>Papillion</td>\n      <td>NE</td>\n      <td>68046</td>\n      <td>365000</td>\n      <td>4</td>\n      <td>3.0</td>\n      <td>...</td>\n      <td>Sold</td>\n      <td>NaN</td>\n      <td>NaN</td>\n      <td>http://www.redfin.com/NE/Papillion/10317-S-124...</td>\n      <td>GPRMLS</td>\n      <td>21712309.0</td>\n      <td>N</td>\n      <td>Y</td>\n      <td>41.158438</td>\n      <td>-96.107045</td>\n    </tr>\n    <tr>\n      <th>3</th>\n      <td>PAST SALE</td>\n      <td>April-1-2020</td>\n      <td>Single Family Residential</td>\n      <td>17252 Drexel St</td>\n      <td>Omaha</td>\n      <td>NE</td>\n      <td>68135</td>\n      <td>410000</td>\n      <td>3</td>\n      <td>3.0</td>\n      <td>...</td>\n      <td>Sold</td>\n      <td>NaN</td>\n      <td>NaN</td>\n      <td>http://www.redfin.com/NE/Omaha/17252-Drexel-St...</td>\n      <td>GPRMLS</td>\n      <td>22003900.0</td>\n      <td>N</td>\n      <td>Y</td>\n      <td>41.192289</td>\n      <td>-96.183019</td>\n    </tr>\n    <tr>\n      <th>4</th>\n      <td>PAST SALE</td>\n      <td>August-5-2019</td>\n      <td>Single Family Residential</td>\n      <td>5387 S 194th St</td>\n      <td>Omaha</td>\n      <td>NE</td>\n      <td>68135</td>\n      <td>190000</td>\n      <td>3</td>\n      <td>2.0</td>\n      <td>...</td>\n      <td>Sold</td>\n      <td>NaN</td>\n      <td>NaN</td>\n      <td>http://www.redfin.com/NE/Omaha/5387-S-194th-St...</td>\n      <td>GPRMLS</td>\n      <td>21914140.0</td>\n      <td>N</td>\n      <td>Y</td>\n      <td>41.203011</td>\n      <td>-96.218371</td>\n    </tr>\n  </tbody>\n</table>\n<p>5 rows \u00d7 27 columns</p>\n</div>",
                        "text/plain": "   SALE TYPE         SOLD DATE              PROPERTY TYPE          ADDRESS  \\\n0  PAST SALE     August-9-2019  Single Family Residential  4930 S 129th St   \n1  PAST SALE      July-26-2019  Single Family Residential  9608 S 173rd St   \n2  PAST SALE  September-1-2017  Single Family Residential  10317 S 124 Ave   \n3  PAST SALE      April-1-2020  Single Family Residential  17252 Drexel St   \n4  PAST SALE     August-5-2019  Single Family Residential  5387 S 194th St   \n\n        CITY STATE OR PROVINCE ZIP OR POSTAL CODE   PRICE  BEDS  BATHS  ...  \\\n0      Omaha                NE              68137  172000     3    2.0  ...   \n1      Omaha                NE              68136  300000     4    4.0  ...   \n2  Papillion                NE              68046  365000     4    3.0  ...   \n3      Omaha                NE              68135  410000     3    3.0  ...   \n4      Omaha                NE              68135  190000     3    2.0  ...   \n\n  STATUS  NEXT OPEN HOUSE START TIME  NEXT OPEN HOUSE END TIME  \\\n0   Sold                         NaN                       NaN   \n1   Sold                         NaN                       NaN   \n2   Sold                         NaN                       NaN   \n3   Sold                         NaN                       NaN   \n4   Sold                         NaN                       NaN   \n\n   URL (SEE http://www.redfin.com/buy-a-home/comparative-market-analysis FOR INFO ON PRICING)  \\\n0  http://www.redfin.com/NE/Omaha/4930-S-129th-St...                                            \n1  http://www.redfin.com/NE/Omaha/9608-S-173rd-St...                                            \n2  http://www.redfin.com/NE/Papillion/10317-S-124...                                            \n3  http://www.redfin.com/NE/Omaha/17252-Drexel-St...                                            \n4  http://www.redfin.com/NE/Omaha/5387-S-194th-St...                                            \n\n   SOURCE        MLS#  FAVORITE INTERESTED   LATITUDE  LONGITUDE  \n0  GPRMLS  21914034.0         N          Y  41.209122 -96.115945  \n1  GPRMLS  21909883.0         N          Y  41.164223 -96.185320  \n2  GPRMLS  21712309.0         N          Y  41.158438 -96.107045  \n3  GPRMLS  22003900.0         N          Y  41.192289 -96.183019  \n4  GPRMLS  21914140.0         N          Y  41.203011 -96.218371  \n\n[5 rows x 27 columns]"
                    },
                    "execution_count": 2,
                    "metadata": {},
                    "output_type": "execute_result"
                }
            ],
            "source": "# The code was removed by Watson Studio for sharing."
        },
        {
            "cell_type": "code",
            "execution_count": 3,
            "metadata": {},
            "outputs": [],
            "source": "body = client_9cc1e829eb364eeb975762bbc8a0b54a.get_object(Bucket='ibmcapstoneproject-donotdelete-pr-khzyilauutpsgg',Key='redfin_2020-04-11-13-02-19.csv')['Body']\n# add missing __iter__ method, so pandas accepts body as file-like object\nif not hasattr(body, \"__iter__\"): body.__iter__ = types.MethodType( __iter__, body )\n\ndf_data_19 = pd.read_csv(body)\n\nbody = client_9cc1e829eb364eeb975762bbc8a0b54a.get_object(Bucket='ibmcapstoneproject-donotdelete-pr-khzyilauutpsgg',Key='redfin_2020-04-11-13-02-09.csv')['Body']\n# add missing __iter__ method, so pandas accepts body as file-like object\nif not hasattr(body, \"__iter__\"): body.__iter__ = types.MethodType( __iter__, body )\n\ndf_data_18 = pd.read_csv(body)\n\nbody = client_9cc1e829eb364eeb975762bbc8a0b54a.get_object(Bucket='ibmcapstoneproject-donotdelete-pr-khzyilauutpsgg',Key='redfin_2020-04-11-13-01-48.csv')['Body']\n# add missing __iter__ method, so pandas accepts body as file-like object\nif not hasattr(body, \"__iter__\"): body.__iter__ = types.MethodType( __iter__, body )\n\ndf_data_17 = pd.read_csv(body)\n\nbody = client_9cc1e829eb364eeb975762bbc8a0b54a.get_object(Bucket='ibmcapstoneproject-donotdelete-pr-khzyilauutpsgg',Key='redfin_2020-04-11-13-01-40.csv')['Body']\n# add missing __iter__ method, so pandas accepts body as file-like object\nif not hasattr(body, \"__iter__\"): body.__iter__ = types.MethodType( __iter__, body )\n\ndf_data_16 = pd.read_csv(body)\n\nbody = client_9cc1e829eb364eeb975762bbc8a0b54a.get_object(Bucket='ibmcapstoneproject-donotdelete-pr-khzyilauutpsgg',Key='redfin_2020-04-11-13-01-25.csv')['Body']\n# add missing __iter__ method, so pandas accepts body as file-like object\nif not hasattr(body, \"__iter__\"): body.__iter__ = types.MethodType( __iter__, body )\n\ndf_data_15 = pd.read_csv(body)\n\nbody = client_9cc1e829eb364eeb975762bbc8a0b54a.get_object(Bucket='ibmcapstoneproject-donotdelete-pr-khzyilauutpsgg',Key='redfin_2020-04-11-13-01-14.csv')['Body']\n# add missing __iter__ method, so pandas accepts body as file-like object\nif not hasattr(body, \"__iter__\"): body.__iter__ = types.MethodType( __iter__, body )\n\ndf_data_14 = pd.read_csv(body)\n\nbody = client_9cc1e829eb364eeb975762bbc8a0b54a.get_object(Bucket='ibmcapstoneproject-donotdelete-pr-khzyilauutpsgg',Key='redfin_2020-04-11-13-00-49.csv')['Body']\n# add missing __iter__ method, so pandas accepts body as file-like object\nif not hasattr(body, \"__iter__\"): body.__iter__ = types.MethodType( __iter__, body )\n\ndf_data_13 = pd.read_csv(body)\n\nbody = client_9cc1e829eb364eeb975762bbc8a0b54a.get_object(Bucket='ibmcapstoneproject-donotdelete-pr-khzyilauutpsgg',Key='redfin_2020-04-11-13-00-44.csv')['Body']\n# add missing __iter__ method, so pandas accepts body as file-like object\nif not hasattr(body, \"__iter__\"): body.__iter__ = types.MethodType( __iter__, body )\n\ndf_data_12 = pd.read_csv(body)\n\nbody = client_9cc1e829eb364eeb975762bbc8a0b54a.get_object(Bucket='ibmcapstoneproject-donotdelete-pr-khzyilauutpsgg',Key='redfin_2020-04-11-13-00-15.csv')['Body']\n# add missing __iter__ method, so pandas accepts body as file-like object\nif not hasattr(body, \"__iter__\"): body.__iter__ = types.MethodType( __iter__, body )\n\ndf_data_11 = pd.read_csv(body)\n\nbody = client_9cc1e829eb364eeb975762bbc8a0b54a.get_object(Bucket='ibmcapstoneproject-donotdelete-pr-khzyilauutpsgg',Key='redfin_2020-04-11-13-00-09.csv')['Body']\n# add missing __iter__ method, so pandas accepts body as file-like object\nif not hasattr(body, \"__iter__\"): body.__iter__ = types.MethodType( __iter__, body )\n\ndf_data_10 = pd.read_csv(body)\n\nbody = client_9cc1e829eb364eeb975762bbc8a0b54a.get_object(Bucket='ibmcapstoneproject-donotdelete-pr-khzyilauutpsgg',Key='redfin_2020-04-11-12-59-34.csv')['Body']\n# add missing __iter__ method, so pandas accepts body as file-like object\nif not hasattr(body, \"__iter__\"): body.__iter__ = types.MethodType( __iter__, body )\n\ndf_data_9 = pd.read_csv(body)\n\nbody = client_9cc1e829eb364eeb975762bbc8a0b54a.get_object(Bucket='ibmcapstoneproject-donotdelete-pr-khzyilauutpsgg',Key='redfin_2020-04-11-12-58-30.csv')['Body']\n# add missing __iter__ method, so pandas accepts body as file-like object\nif not hasattr(body, \"__iter__\"): body.__iter__ = types.MethodType( __iter__, body )\n\ndf_data_8 = pd.read_csv(body)\n\nbody = client_9cc1e829eb364eeb975762bbc8a0b54a.get_object(Bucket='ibmcapstoneproject-donotdelete-pr-khzyilauutpsgg',Key='redfin_2020-04-11-12-58-20.csv')['Body']\n# add missing __iter__ method, so pandas accepts body as file-like object\nif not hasattr(body, \"__iter__\"): body.__iter__ = types.MethodType( __iter__, body )\n\ndf_data_7 = pd.read_csv(body)\n\nbody = client_9cc1e829eb364eeb975762bbc8a0b54a.get_object(Bucket='ibmcapstoneproject-donotdelete-pr-khzyilauutpsgg',Key='redfin_2020-04-11-12-58-02.csv')['Body']\n# add missing __iter__ method, so pandas accepts body as file-like object\nif not hasattr(body, \"__iter__\"): body.__iter__ = types.MethodType( __iter__, body )\n\ndf_data_6 = pd.read_csv(body)\n\nbody = client_9cc1e829eb364eeb975762bbc8a0b54a.get_object(Bucket='ibmcapstoneproject-donotdelete-pr-khzyilauutpsgg',Key='redfin_2020-04-11-12-57-52.csv')['Body']\n# add missing __iter__ method, so pandas accepts body as file-like object\nif not hasattr(body, \"__iter__\"): body.__iter__ = types.MethodType( __iter__, body )\n\ndf_data_5 = pd.read_csv(body)\n\nbody = client_9cc1e829eb364eeb975762bbc8a0b54a.get_object(Bucket='ibmcapstoneproject-donotdelete-pr-khzyilauutpsgg',Key='redfin_2020-04-11-12-57-01.csv')['Body']\n# add missing __iter__ method, so pandas accepts body as file-like object\nif not hasattr(body, \"__iter__\"): body.__iter__ = types.MethodType( __iter__, body )\n\ndf_data_4 = pd.read_csv(body)\n\nbody = client_9cc1e829eb364eeb975762bbc8a0b54a.get_object(Bucket='ibmcapstoneproject-donotdelete-pr-khzyilauutpsgg',Key='redfin_2020-04-11-12-56-38.csv')['Body']\n# add missing __iter__ method, so pandas accepts body as file-like object\nif not hasattr(body, \"__iter__\"): body.__iter__ = types.MethodType( __iter__, body )\n\ndf_data_3 = pd.read_csv(body)"
        },
        {
            "cell_type": "markdown",
            "metadata": {},
            "source": "This absurd amount of dataframes will be concatenated into a single dataframe."
        },
        {
            "cell_type": "code",
            "execution_count": 4,
            "metadata": {},
            "outputs": [],
            "source": "df_omaha = pd.concat([df_data_1, df_data_3, df_data_4, df_data_5, df_data_6, df_data_7, df_data_8, df_data_9, df_data_10, df_data_11, df_data_12, df_data_13, df_data_14, df_data_15, df_data_16, df_data_17, df_data_18, df_data_19], axis=0)"
        },
        {
            "cell_type": "code",
            "execution_count": 5,
            "metadata": {},
            "outputs": [
                {
                    "data": {
                        "text/plain": "(6300, 27)"
                    },
                    "execution_count": 5,
                    "metadata": {},
                    "output_type": "execute_result"
                }
            ],
            "source": "df_omaha.shape"
        },
        {
            "cell_type": "markdown",
            "metadata": {},
            "source": "Redfin provides a wealth of information for each house listing, the majority of which are unneeded for this project."
        },
        {
            "cell_type": "code",
            "execution_count": 6,
            "metadata": {},
            "outputs": [
                {
                    "name": "stdout",
                    "output_type": "stream",
                    "text": "SALE TYPE\nSOLD DATE\nPROPERTY TYPE\nADDRESS\nCITY\nSTATE OR PROVINCE\nZIP OR POSTAL CODE\nPRICE\nBEDS\nBATHS\nLOCATION\nSQUARE FEET\nLOT SIZE\nYEAR BUILT\nDAYS ON MARKET\n$/SQUARE FEET\nHOA/MONTH\nSTATUS\nNEXT OPEN HOUSE START TIME\nNEXT OPEN HOUSE END TIME\nURL (SEE http://www.redfin.com/buy-a-home/comparative-market-analysis FOR INFO ON PRICING)\nSOURCE\nMLS#\nFAVORITE\nINTERESTED\nLATITUDE\nLONGITUDE\n"
                }
            ],
            "source": "for col in df_omaha.columns:\n    print(col)"
        },
        {
            "cell_type": "markdown",
            "metadata": {},
            "source": "The awkward nature in which the data had to be downloaded resulted in a great deal of dulicated rows. No matter, as these can be easily dropped using python."
        },
        {
            "cell_type": "code",
            "execution_count": 7,
            "metadata": {},
            "outputs": [
                {
                    "data": {
                        "text/plain": "2944"
                    },
                    "execution_count": 7,
                    "metadata": {},
                    "output_type": "execute_result"
                }
            ],
            "source": "df_omaha.duplicated().sum()"
        },
        {
            "cell_type": "code",
            "execution_count": 8,
            "metadata": {},
            "outputs": [],
            "source": "df_omaha.drop_duplicates(subset=None, keep='first', inplace=True)"
        },
        {
            "cell_type": "code",
            "execution_count": 9,
            "metadata": {},
            "outputs": [
                {
                    "data": {
                        "text/plain": "(3356, 27)"
                    },
                    "execution_count": 9,
                    "metadata": {},
                    "output_type": "execute_result"
                }
            ],
            "source": "df_omaha.shape"
        },
        {
            "cell_type": "markdown",
            "metadata": {},
            "source": "The unnecessary columns will now be dropped."
        },
        {
            "cell_type": "code",
            "execution_count": 10,
            "metadata": {},
            "outputs": [],
            "source": "df_omaha.drop(['SALE TYPE', 'PROPERTY TYPE', 'CITY', 'STATE OR PROVINCE', 'BEDS', 'BATHS', 'SQUARE FEET', 'LOT SIZE', 'YEAR BUILT', 'DAYS ON MARKET', 'HOA/MONTH', 'STATUS', 'NEXT OPEN HOUSE START TIME', 'NEXT OPEN HOUSE END TIME', 'URL (SEE http://www.redfin.com/buy-a-home/comparative-market-analysis FOR INFO ON PRICING)', 'SOURCE', 'MLS#', 'FAVORITE', 'INTERESTED', 'ADDRESS', 'PRICE', 'LOCATION', 'LATITUDE', 'LONGITUDE'], axis = 1, inplace=True)"
        },
        {
            "cell_type": "markdown",
            "metadata": {},
            "source": "Any NA values will now be dropped."
        },
        {
            "cell_type": "code",
            "execution_count": 11,
            "metadata": {},
            "outputs": [],
            "source": "df_omaha.dropna(inplace=True)"
        },
        {
            "cell_type": "code",
            "execution_count": 12,
            "metadata": {},
            "outputs": [
                {
                    "data": {
                        "text/plain": "(2847, 3)"
                    },
                    "execution_count": 12,
                    "metadata": {},
                    "output_type": "execute_result"
                }
            ],
            "source": "df_omaha.shape"
        },
        {
            "cell_type": "code",
            "execution_count": 13,
            "metadata": {},
            "outputs": [
                {
                    "data": {
                        "text/html": "<div>\n<style scoped>\n    .dataframe tbody tr th:only-of-type {\n        vertical-align: middle;\n    }\n\n    .dataframe tbody tr th {\n        vertical-align: top;\n    }\n\n    .dataframe thead th {\n        text-align: right;\n    }\n</style>\n<table border=\"1\" class=\"dataframe\">\n  <thead>\n    <tr style=\"text-align: right;\">\n      <th></th>\n      <th>SOLD DATE</th>\n      <th>ZIP OR POSTAL CODE</th>\n      <th>$/SQUARE FEET</th>\n    </tr>\n  </thead>\n  <tbody>\n    <tr>\n      <th>0</th>\n      <td>August-9-2019</td>\n      <td>68137</td>\n      <td>116.0</td>\n    </tr>\n    <tr>\n      <th>1</th>\n      <td>July-26-2019</td>\n      <td>68136</td>\n      <td>96.0</td>\n    </tr>\n    <tr>\n      <th>2</th>\n      <td>September-1-2017</td>\n      <td>68046</td>\n      <td>127.0</td>\n    </tr>\n    <tr>\n      <th>3</th>\n      <td>April-1-2020</td>\n      <td>68135</td>\n      <td>148.0</td>\n    </tr>\n    <tr>\n      <th>4</th>\n      <td>August-5-2019</td>\n      <td>68135</td>\n      <td>140.0</td>\n    </tr>\n  </tbody>\n</table>\n</div>",
                        "text/plain": "          SOLD DATE ZIP OR POSTAL CODE  $/SQUARE FEET\n0     August-9-2019              68137          116.0\n1      July-26-2019              68136           96.0\n2  September-1-2017              68046          127.0\n3      April-1-2020              68135          148.0\n4     August-5-2019              68135          140.0"
                    },
                    "execution_count": 13,
                    "metadata": {},
                    "output_type": "execute_result"
                }
            ],
            "source": "df_omaha.head()"
        },
        {
            "cell_type": "markdown",
            "metadata": {},
            "source": "Below is a quick check to ensure there are no unexpected zip code values recorded in the data."
        },
        {
            "cell_type": "code",
            "execution_count": 14,
            "metadata": {},
            "outputs": [
                {
                    "data": {
                        "text/plain": "array(['68137', '68136', '68046', '68135', '68154', '68164', '68116',\n       '68022', '68132', '68104', '68106', '68138', '68124', '68117',\n       '68114', '68118', '68127', '68130', '68105', '68134', '68122',\n       '68152', '68107', '68122-2269', '68111', '68144', '68116-2238',\n       '68108', '68111-0000', '68131', '68105-0000', '68106-3105',\n       '68110', '68142', '68007', '68112', '68166', '68135-3572',\n       '68107-1605', '68137-3730', '68137-3964', '68104-0000', '68146',\n       '68164-2237', '68022-0000', '68147', '68104-3554', '68016',\n       '51510', '68132-1705', '68114-0000', '68134-0000', '68144-0000',\n       '68112-3317', '68112-0000', '68112-3025', '68711-2', '68104-2307',\n       '68101', '68111-2703', '68110-1041', '68108-3536', '68105-1938',\n       '68107-0000', '68107-3312', '68109', '68107-1827', '68105-2204',\n       '68108-0000', '68105-2002', '68107-4327', '68107-3870', '68102',\n       '60107', '68107-3610', '68107-3906', '68147-1131', '38107',\n       '68107-3640', '68107-3728', '51503-0000', '68105-3635',\n       '68105-3774', '68107-1302', '68104-4502', '68104-3020',\n       '68104-3023', '68131-0000', '68104-3715', '68111-3950',\n       '68106-0000', '68104-2901', '68104-3811', '68106-1517',\n       '68104-4161', '68152-2252', '09197-2089', '68154-0000',\n       '68130-1970', '68154-2742', '68164-2510', '68164-6847',\n       '68142-0000', '68135-1227', '68135-1108', '68137-2486',\n       '68154-1146', '68135-1357'], dtype=object)"
                    },
                    "execution_count": 14,
                    "metadata": {},
                    "output_type": "execute_result"
                }
            ],
            "source": "df_omaha['ZIP OR POSTAL CODE'].unique()"
        },
        {
            "cell_type": "markdown",
            "metadata": {},
            "source": "As it turns out, there are several unexpected zip code values in the data. Several of the zip codes have an additional four digit mailing route code. Others like '09197' are obviously clerical errors. This lack of internal consistency means the zip code data needs cleaning. Thus, a copy dataframe will be made of just the zip code values. The data will be cleaned and merged back onto the original dataframe. The original, uncleaned 'ZIP AND POSTAL CODE' column will be dropped and replaced with the cleaned 'ZIP CODE' column. Finally, the rows containing the incorrect zip codes will be dropped.  "
        },
        {
            "cell_type": "code",
            "execution_count": 15,
            "metadata": {},
            "outputs": [
                {
                    "data": {
                        "text/html": "<div>\n<style scoped>\n    .dataframe tbody tr th:only-of-type {\n        vertical-align: middle;\n    }\n\n    .dataframe tbody tr th {\n        vertical-align: top;\n    }\n\n    .dataframe thead th {\n        text-align: right;\n    }\n</style>\n<table border=\"1\" class=\"dataframe\">\n  <thead>\n    <tr style=\"text-align: right;\">\n      <th></th>\n      <th>ZIP OR POSTAL CODE</th>\n    </tr>\n  </thead>\n  <tbody>\n    <tr>\n      <th>0</th>\n      <td>68137</td>\n    </tr>\n    <tr>\n      <th>1</th>\n      <td>68136</td>\n    </tr>\n    <tr>\n      <th>2</th>\n      <td>68046</td>\n    </tr>\n    <tr>\n      <th>3</th>\n      <td>68135</td>\n    </tr>\n    <tr>\n      <th>4</th>\n      <td>68135</td>\n    </tr>\n  </tbody>\n</table>\n</div>",
                        "text/plain": "  ZIP OR POSTAL CODE\n0              68137\n1              68136\n2              68046\n3              68135\n4              68135"
                    },
                    "execution_count": 15,
                    "metadata": {},
                    "output_type": "execute_result"
                }
            ],
            "source": "df_zip = df_omaha[['ZIP OR POSTAL CODE']].copy()\ndf_zip.head()"
        },
        {
            "cell_type": "code",
            "execution_count": 16,
            "metadata": {},
            "outputs": [],
            "source": "df_zip.replace(df_zip[df_zip['ZIP OR POSTAL CODE'].str.match('68122')], '68122', inplace=True)\ndf_zip.replace(df_zip[df_zip['ZIP OR POSTAL CODE'].str.match('68116')], '68116', inplace=True)\ndf_zip.replace(df_zip[df_zip['ZIP OR POSTAL CODE'].str.match('68111')], '68111', inplace=True)\ndf_zip.replace(df_zip[df_zip['ZIP OR POSTAL CODE'].str.match('68105')], '68105', inplace=True)\ndf_zip.replace(df_zip[df_zip['ZIP OR POSTAL CODE'].str.match('68106')], '68106', inplace=True)\ndf_zip.replace(df_zip[df_zip['ZIP OR POSTAL CODE'].str.match('68135')], '68135', inplace=True)\ndf_zip.replace(df_zip[df_zip['ZIP OR POSTAL CODE'].str.match('68107')], '68107', inplace=True)\ndf_zip.replace(df_zip[df_zip['ZIP OR POSTAL CODE'].str.match('68137')], '68137', inplace=True)\ndf_zip.replace(df_zip[df_zip['ZIP OR POSTAL CODE'].str.match('68104')], '68104', inplace=True)\ndf_zip.replace(df_zip[df_zip['ZIP OR POSTAL CODE'].str.match('68164')], '68164', inplace=True)\ndf_zip.replace(df_zip[df_zip['ZIP OR POSTAL CODE'].str.match('68132')], '68132', inplace=True)\ndf_zip.replace(df_zip[df_zip['ZIP OR POSTAL CODE'].str.match('68114')], '68114', inplace=True)\ndf_zip.replace(df_zip[df_zip['ZIP OR POSTAL CODE'].str.match('68134')], '68134', inplace=True)\ndf_zip.replace(df_zip[df_zip['ZIP OR POSTAL CODE'].str.match('68144')], '68144', inplace=True)\ndf_zip.replace(df_zip[df_zip['ZIP OR POSTAL CODE'].str.match('68110')], '68110', inplace=True)\ndf_zip.replace(df_zip[df_zip['ZIP OR POSTAL CODE'].str.match('68108')], '68108', inplace=True)\ndf_zip.replace(df_zip[df_zip['ZIP OR POSTAL CODE'].str.match('38107')], '68107', inplace=True)\ndf_zip.replace(df_zip[df_zip['ZIP OR POSTAL CODE'].str.match('68131')], '68131', inplace=True)\ndf_zip.replace(df_zip[df_zip['ZIP OR POSTAL CODE'].str.match('68152')], '68152', inplace=True)\ndf_zip.replace(df_zip[df_zip['ZIP OR POSTAL CODE'].str.match('68154')], '68154', inplace=True)\ndf_zip.replace(df_zip[df_zip['ZIP OR POSTAL CODE'].str.match('68130')], '68130', inplace=True)\ndf_zip.replace(df_zip[df_zip['ZIP OR POSTAL CODE'].str.match('68142')], '68142', inplace=True)\ndf_zip.replace(df_zip[df_zip['ZIP OR POSTAL CODE'].str.match('68112')], '68112', inplace=True)"
        },
        {
            "cell_type": "code",
            "execution_count": 17,
            "metadata": {},
            "outputs": [
                {
                    "data": {
                        "text/plain": "array(['68137', '68136', '68046', '68135', '68154', '68164', '68116',\n       '68022', '68132', '68104', '68106', '68138', '68124', '68117',\n       '68114', '68118', '68127', '68130', '68105', '68134', '68122',\n       '68152', '68107', '68111', '68144', '68108', '68131', '68110',\n       '68142', '68007', '68112', '68166', '68146', '68022-0000', '68147',\n       '68016', '51510', '68711-2', '68101', '68109', '68102', '60107',\n       '68147-1131', '51503-0000', '09197-2089'], dtype=object)"
                    },
                    "execution_count": 17,
                    "metadata": {},
                    "output_type": "execute_result"
                }
            ],
            "source": "df_zip['ZIP OR POSTAL CODE'].unique()"
        },
        {
            "cell_type": "code",
            "execution_count": 18,
            "metadata": {},
            "outputs": [
                {
                    "data": {
                        "text/plain": "(2847, 1)"
                    },
                    "execution_count": 18,
                    "metadata": {},
                    "output_type": "execute_result"
                }
            ],
            "source": "df_zip.shape"
        },
        {
            "cell_type": "code",
            "execution_count": 19,
            "metadata": {},
            "outputs": [
                {
                    "data": {
                        "text/html": "<div>\n<style scoped>\n    .dataframe tbody tr th:only-of-type {\n        vertical-align: middle;\n    }\n\n    .dataframe tbody tr th {\n        vertical-align: top;\n    }\n\n    .dataframe thead th {\n        text-align: right;\n    }\n</style>\n<table border=\"1\" class=\"dataframe\">\n  <thead>\n    <tr style=\"text-align: right;\">\n      <th></th>\n      <th>ZIP CODE</th>\n    </tr>\n  </thead>\n  <tbody>\n    <tr>\n      <th>0</th>\n      <td>68137</td>\n    </tr>\n    <tr>\n      <th>1</th>\n      <td>68136</td>\n    </tr>\n    <tr>\n      <th>2</th>\n      <td>68046</td>\n    </tr>\n    <tr>\n      <th>3</th>\n      <td>68135</td>\n    </tr>\n    <tr>\n      <th>4</th>\n      <td>68135</td>\n    </tr>\n  </tbody>\n</table>\n</div>",
                        "text/plain": "  ZIP CODE\n0    68137\n1    68136\n2    68046\n3    68135\n4    68135"
                    },
                    "execution_count": 19,
                    "metadata": {},
                    "output_type": "execute_result"
                }
            ],
            "source": "df_zip.rename(columns = {'ZIP OR POSTAL CODE':'ZIP CODE'}, inplace = True)\ndf_zip.head()"
        },
        {
            "cell_type": "code",
            "execution_count": 20,
            "metadata": {},
            "outputs": [
                {
                    "data": {
                        "text/html": "<div>\n<style scoped>\n    .dataframe tbody tr th:only-of-type {\n        vertical-align: middle;\n    }\n\n    .dataframe tbody tr th {\n        vertical-align: top;\n    }\n\n    .dataframe thead th {\n        text-align: right;\n    }\n</style>\n<table border=\"1\" class=\"dataframe\">\n  <thead>\n    <tr style=\"text-align: right;\">\n      <th></th>\n      <th>SOLD DATE</th>\n      <th>$/SQUARE FEET</th>\n      <th>ZIP CODE</th>\n    </tr>\n  </thead>\n  <tbody>\n    <tr>\n      <th>0</th>\n      <td>August-9-2019</td>\n      <td>116.0</td>\n      <td>68137</td>\n    </tr>\n    <tr>\n      <th>1</th>\n      <td>July-26-2019</td>\n      <td>96.0</td>\n      <td>68136</td>\n    </tr>\n    <tr>\n      <th>2</th>\n      <td>September-1-2017</td>\n      <td>127.0</td>\n      <td>68046</td>\n    </tr>\n    <tr>\n      <th>3</th>\n      <td>April-1-2020</td>\n      <td>148.0</td>\n      <td>68135</td>\n    </tr>\n    <tr>\n      <th>4</th>\n      <td>August-5-2019</td>\n      <td>140.0</td>\n      <td>68135</td>\n    </tr>\n  </tbody>\n</table>\n</div>",
                        "text/plain": "          SOLD DATE  $/SQUARE FEET ZIP CODE\n0     August-9-2019          116.0    68137\n1      July-26-2019           96.0    68136\n2  September-1-2017          127.0    68046\n3      April-1-2020          148.0    68135\n4     August-5-2019          140.0    68135"
                    },
                    "execution_count": 20,
                    "metadata": {},
                    "output_type": "execute_result"
                }
            ],
            "source": "df_omaha = pd.concat([df_omaha, df_zip], axis=1)\ndf_omaha.drop(['ZIP OR POSTAL CODE'], axis = 1, inplace=True)\ndf_omaha.head()"
        },
        {
            "cell_type": "code",
            "execution_count": 21,
            "metadata": {},
            "outputs": [],
            "source": "df_omaha.drop(df_omaha[df_omaha['ZIP CODE'] == '68711-2'].index, inplace=True)\ndf_omaha.drop(df_omaha[df_omaha['ZIP CODE'] == '51503-0000'].index, inplace=True)\ndf_omaha.drop(df_omaha[df_omaha['ZIP CODE'] == '09197-2089'].index, inplace=True)\ndf_omaha.drop(df_omaha[df_omaha['ZIP CODE'] == '60107'].index, inplace=True)"
        },
        {
            "cell_type": "code",
            "execution_count": 22,
            "metadata": {},
            "outputs": [
                {
                    "data": {
                        "text/plain": "(2816, 3)"
                    },
                    "execution_count": 22,
                    "metadata": {},
                    "output_type": "execute_result"
                }
            ],
            "source": "df_omaha.shape"
        },
        {
            "cell_type": "code",
            "execution_count": 23,
            "metadata": {},
            "outputs": [
                {
                    "data": {
                        "text/plain": "array(['68137', '68136', '68046', '68135', '68154', '68164', '68116',\n       '68022', '68132', '68104', '68106', '68138', '68124', '68117',\n       '68114', '68118', '68127', '68130', '68105', '68134', '68122',\n       '68107', '68152', '68111', '68144', '68108', '68131', '68110',\n       '68142', '68007', '68112', '68166', '68146', '68022-0000', '68147',\n       '68016', '51510', '68101', '68109', '68102', '68147-1131'],\n      dtype=object)"
                    },
                    "execution_count": 23,
                    "metadata": {},
                    "output_type": "execute_result"
                }
            ],
            "source": "df_omaha['ZIP CODE'].unique()"
        },
        {
            "cell_type": "markdown",
            "metadata": {},
            "source": "Tedious but ultimately successful. Now the 'SOLD DATE' column must be converted to datetime values so that they can be read with python."
        },
        {
            "cell_type": "code",
            "execution_count": 24,
            "metadata": {},
            "outputs": [
                {
                    "data": {
                        "text/html": "<div>\n<style scoped>\n    .dataframe tbody tr th:only-of-type {\n        vertical-align: middle;\n    }\n\n    .dataframe tbody tr th {\n        vertical-align: top;\n    }\n\n    .dataframe thead th {\n        text-align: right;\n    }\n</style>\n<table border=\"1\" class=\"dataframe\">\n  <thead>\n    <tr style=\"text-align: right;\">\n      <th></th>\n      <th>SOLD DATE</th>\n      <th>$/SQUARE FEET</th>\n      <th>ZIP CODE</th>\n    </tr>\n  </thead>\n  <tbody>\n    <tr>\n      <th>0</th>\n      <td>2019-08-09</td>\n      <td>116.0</td>\n      <td>68137</td>\n    </tr>\n    <tr>\n      <th>1</th>\n      <td>2019-07-26</td>\n      <td>96.0</td>\n      <td>68136</td>\n    </tr>\n    <tr>\n      <th>2</th>\n      <td>2017-09-01</td>\n      <td>127.0</td>\n      <td>68046</td>\n    </tr>\n    <tr>\n      <th>3</th>\n      <td>2020-04-01</td>\n      <td>148.0</td>\n      <td>68135</td>\n    </tr>\n    <tr>\n      <th>4</th>\n      <td>2019-08-05</td>\n      <td>140.0</td>\n      <td>68135</td>\n    </tr>\n  </tbody>\n</table>\n</div>",
                        "text/plain": "   SOLD DATE  $/SQUARE FEET ZIP CODE\n0 2019-08-09          116.0    68137\n1 2019-07-26           96.0    68136\n2 2017-09-01          127.0    68046\n3 2020-04-01          148.0    68135\n4 2019-08-05          140.0    68135"
                    },
                    "execution_count": 24,
                    "metadata": {},
                    "output_type": "execute_result"
                }
            ],
            "source": "df_omaha['SOLD DATE'] = pd.to_datetime(df_omaha['SOLD DATE'])\ndf_omaha.head()"
        },
        {
            "cell_type": "markdown",
            "metadata": {},
            "source": "Individual dataframes for each zip code will be made so they can be examined separately. These dataframes will be organized by the date of sale in ascending order."
        },
        {
            "cell_type": "code",
            "execution_count": 25,
            "metadata": {},
            "outputs": [],
            "source": "df_68137 = df_omaha[df_omaha['ZIP CODE'] == '68137'] \ndf_68137.sort_values(by=['SOLD DATE'], inplace = True)\n\ndf_68104 = df_omaha[df_omaha['ZIP CODE'] == '68104'] \ndf_68104.sort_values(by=['SOLD DATE'], inplace = True)\n\ndf_68130 = df_omaha[df_omaha['ZIP CODE'] == '68130'] \ndf_68130.sort_values(by=['SOLD DATE'], inplace = True)\n\ndf_68111 = df_omaha[df_omaha['ZIP CODE'] == '68111'] \ndf_68111.sort_values(by=['SOLD DATE'], inplace = True)\n\ndf_68112 = df_omaha[df_omaha['ZIP CODE'] == '68112'] \ndf_68112.sort_values(by=['SOLD DATE'], inplace = True)\n\ndf_68102 = df_omaha[df_omaha['ZIP CODE'] == '68102'] \ndf_68102.sort_values(by=['SOLD DATE'], inplace = True)"
        },
        {
            "cell_type": "code",
            "execution_count": 26,
            "metadata": {},
            "outputs": [],
            "source": "df_68136 = df_omaha[df_omaha['ZIP CODE'] == '68136'] \ndf_68136.sort_values(by=['SOLD DATE'], inplace = True)\n\ndf_68106 = df_omaha[df_omaha['ZIP CODE'] == '68106'] \ndf_68106.sort_values(by=['SOLD DATE'], inplace = True)\n\ndf_68105 = df_omaha[df_omaha['ZIP CODE'] == '68105'] \ndf_68105.sort_values(by=['SOLD DATE'], inplace = True)\n\ndf_68144 = df_omaha[df_omaha['ZIP CODE'] == '68144'] \ndf_68144.sort_values(by=['SOLD DATE'], inplace = True)\n\ndf_68166 = df_omaha[df_omaha['ZIP CODE'] == '68166'] \ndf_68166.sort_values(by=['SOLD DATE'], inplace = True)"
        },
        {
            "cell_type": "code",
            "execution_count": 27,
            "metadata": {},
            "outputs": [],
            "source": "df_68135 = df_omaha[df_omaha['ZIP CODE'] == '68135'] \ndf_68135.sort_values(by=['SOLD DATE'], inplace = True)\n\ndf_68138 = df_omaha[df_omaha['ZIP CODE'] == '68138'] \ndf_68138.sort_values(by=['SOLD DATE'], inplace = True)\n\ndf_68134 = df_omaha[df_omaha['ZIP CODE'] == '68134'] \ndf_68134.sort_values(by=['SOLD DATE'], inplace = True)\n\ndf_68108 = df_omaha[df_omaha['ZIP CODE'] == '68108'] \ndf_68108.sort_values(by=['SOLD DATE'], inplace = True)\n\ndf_68146 = df_omaha[df_omaha['ZIP CODE'] == '68146'] \ndf_68146.sort_values(by=['SOLD DATE'], inplace = True)"
        },
        {
            "cell_type": "code",
            "execution_count": 28,
            "metadata": {},
            "outputs": [],
            "source": "df_68154 = df_omaha[df_omaha['ZIP CODE'] == '68154'] \ndf_68154.sort_values(by=['SOLD DATE'], inplace = True)\n\ndf_68124 = df_omaha[df_omaha['ZIP CODE'] == '68124'] \ndf_68124.sort_values(by=['SOLD DATE'], inplace = True)\n\ndf_68122 = df_omaha[df_omaha['ZIP CODE'] == '68122'] \ndf_68122.sort_values(by=['SOLD DATE'], inplace = True)\n\ndf_68131 = df_omaha[df_omaha['ZIP CODE'] == '68131'] \ndf_68131.sort_values(by=['SOLD DATE'], inplace = True)\n\ndf_68016 = df_omaha[df_omaha['ZIP CODE'] == '68016'] \ndf_68016.sort_values(by=['SOLD DATE'], inplace = True)"
        },
        {
            "cell_type": "code",
            "execution_count": 29,
            "metadata": {},
            "outputs": [],
            "source": "df_68164 = df_omaha[df_omaha['ZIP CODE'] == '68164'] \ndf_68164.sort_values(by=['SOLD DATE'], inplace = True)\n\ndf_68117 = df_omaha[df_omaha['ZIP CODE'] == '68117'] \ndf_68117.sort_values(by=['SOLD DATE'], inplace = True)\n\ndf_68152 = df_omaha[df_omaha['ZIP CODE'] == '68152'] \ndf_68152.sort_values(by=['SOLD DATE'], inplace = True)\n\ndf_68022 = df_omaha[df_omaha['ZIP CODE'] == '68022'] \ndf_68022.sort_values(by=['SOLD DATE'], inplace = True)\n\ndf_68101 = df_omaha[df_omaha['ZIP CODE'] == '68101'] \ndf_68101.sort_values(by=['SOLD DATE'], inplace = True)"
        },
        {
            "cell_type": "code",
            "execution_count": 30,
            "metadata": {},
            "outputs": [],
            "source": "df_68116 = df_omaha[df_omaha['ZIP CODE'] == '68116'] \ndf_68116.sort_values(by=['SOLD DATE'], inplace = True)\n\ndf_68114 = df_omaha[df_omaha['ZIP CODE'] == '68114'] \ndf_68114.sort_values(by=['SOLD DATE'], inplace = True)\n\ndf_68127 = df_omaha[df_omaha['ZIP CODE'] == '68127'] \ndf_68127.sort_values(by=['SOLD DATE'], inplace = True)\n\ndf_68110 = df_omaha[df_omaha['ZIP CODE'] == '68110'] \ndf_68110.sort_values(by=['SOLD DATE'], inplace = True)\n\ndf_68109 = df_omaha[df_omaha['ZIP CODE'] == '68109'] \ndf_68109.sort_values(by=['SOLD DATE'], inplace = True)"
        },
        {
            "cell_type": "code",
            "execution_count": 31,
            "metadata": {},
            "outputs": [],
            "source": "df_68132 = df_omaha[df_omaha['ZIP CODE'] == '68132'] \ndf_68132.sort_values(by=['SOLD DATE'], inplace = True)\n\ndf_68118 = df_omaha[df_omaha['ZIP CODE'] == '68118'] \ndf_68118.sort_values(by=['SOLD DATE'], inplace = True)\n\ndf_68107 = df_omaha[df_omaha['ZIP CODE'] == '68107'] \ndf_68107.sort_values(by=['SOLD DATE'], inplace = True)\n\ndf_68142 = df_omaha[df_omaha['ZIP CODE'] == '68142'] \ndf_68142.sort_values(by=['SOLD DATE'], inplace = True)\n\ndf_68147 = df_omaha[df_omaha['ZIP CODE'] == '68147'] \ndf_68147.sort_values(by=['SOLD DATE'], inplace = True)"
        },
        {
            "cell_type": "code",
            "execution_count": 32,
            "metadata": {},
            "outputs": [
                {
                    "data": {
                        "text/html": "<div>\n<style scoped>\n    .dataframe tbody tr th:only-of-type {\n        vertical-align: middle;\n    }\n\n    .dataframe tbody tr th {\n        vertical-align: top;\n    }\n\n    .dataframe thead th {\n        text-align: right;\n    }\n</style>\n<table border=\"1\" class=\"dataframe\">\n  <thead>\n    <tr style=\"text-align: right;\">\n      <th></th>\n      <th>SOLD DATE</th>\n      <th>$/SQUARE FEET</th>\n      <th>ZIP CODE</th>\n    </tr>\n  </thead>\n  <tbody>\n    <tr>\n      <th>161</th>\n      <td>2017-04-14</td>\n      <td>87.0</td>\n      <td>68137</td>\n    </tr>\n    <tr>\n      <th>11</th>\n      <td>2017-04-14</td>\n      <td>87.0</td>\n      <td>68137</td>\n    </tr>\n    <tr>\n      <th>220</th>\n      <td>2017-04-21</td>\n      <td>98.0</td>\n      <td>68137</td>\n    </tr>\n    <tr>\n      <th>288</th>\n      <td>2017-04-21</td>\n      <td>137.0</td>\n      <td>68137</td>\n    </tr>\n    <tr>\n      <th>114</th>\n      <td>2017-05-02</td>\n      <td>88.0</td>\n      <td>68137</td>\n    </tr>\n  </tbody>\n</table>\n</div>",
                        "text/plain": "     SOLD DATE  $/SQUARE FEET ZIP CODE\n161 2017-04-14           87.0    68137\n11  2017-04-14           87.0    68137\n220 2017-04-21           98.0    68137\n288 2017-04-21          137.0    68137\n114 2017-05-02           88.0    68137"
                    },
                    "execution_count": 32,
                    "metadata": {},
                    "output_type": "execute_result"
                }
            ],
            "source": "df_68137.head()"
        },
        {
            "cell_type": "code",
            "execution_count": 33,
            "metadata": {},
            "outputs": [
                {
                    "data": {
                        "text/html": "<div>\n<style scoped>\n    .dataframe tbody tr th:only-of-type {\n        vertical-align: middle;\n    }\n\n    .dataframe tbody tr th {\n        vertical-align: top;\n    }\n\n    .dataframe thead th {\n        text-align: right;\n    }\n</style>\n<table border=\"1\" class=\"dataframe\">\n  <thead>\n    <tr style=\"text-align: right;\">\n      <th></th>\n      <th>SOLD DATE</th>\n      <th>$/SQUARE FEET</th>\n      <th>ZIP CODE</th>\n    </tr>\n  </thead>\n  <tbody>\n    <tr>\n      <th>247</th>\n      <td>2019-11-05</td>\n      <td>88.0</td>\n      <td>68137</td>\n    </tr>\n    <tr>\n      <th>146</th>\n      <td>2019-11-07</td>\n      <td>106.0</td>\n      <td>68137</td>\n    </tr>\n    <tr>\n      <th>160</th>\n      <td>2019-11-26</td>\n      <td>125.0</td>\n      <td>68137</td>\n    </tr>\n    <tr>\n      <th>175</th>\n      <td>2019-12-24</td>\n      <td>90.0</td>\n      <td>68137</td>\n    </tr>\n    <tr>\n      <th>257</th>\n      <td>2020-03-13</td>\n      <td>134.0</td>\n      <td>68137</td>\n    </tr>\n  </tbody>\n</table>\n</div>",
                        "text/plain": "     SOLD DATE  $/SQUARE FEET ZIP CODE\n247 2019-11-05           88.0    68137\n146 2019-11-07          106.0    68137\n160 2019-11-26          125.0    68137\n175 2019-12-24           90.0    68137\n257 2020-03-13          134.0    68137"
                    },
                    "execution_count": 33,
                    "metadata": {},
                    "output_type": "execute_result"
                }
            ],
            "source": "df_68137.tail()"
        },
        {
            "cell_type": "markdown",
            "metadata": {},
            "source": "The average appreciation rate per year for each zip code can now be calculated. This will be done by calculating the percent change between each price per square foot value, finding the mean of the percent change, and finally dividing by the change in time in years. "
        },
        {
            "cell_type": "code",
            "execution_count": 34,
            "metadata": {},
            "outputs": [
                {
                    "name": "stdout",
                    "output_type": "stream",
                    "text": "The appreciation of the zip code area 68137 is 1.075488405781845 percent.\n"
                }
            ],
            "source": "z0 = df_68137['$/SQUARE FEET'].pct_change().mean()*100\nprint('The appreciation of the zip code area 68137 is ' + str(z0/3) + ' percent.')"
        },
        {
            "cell_type": "code",
            "execution_count": 35,
            "metadata": {},
            "outputs": [
                {
                    "name": "stdout",
                    "output_type": "stream",
                    "text": "The appreciation of the zip code area 68104 is 4.675041599036148 percent.\n"
                }
            ],
            "source": "z1 = df_68104['$/SQUARE FEET'].pct_change().mean()*100\nprint('The appreciation of the zip code area 68104 is ' + str(z1/3) + ' percent.')"
        },
        {
            "cell_type": "code",
            "execution_count": 36,
            "metadata": {},
            "outputs": [
                {
                    "name": "stdout",
                    "output_type": "stream",
                    "text": "The appreciation of the zip code area 68130 is 1.4981319296773863 percent.\n"
                }
            ],
            "source": "z2 = df_68130['$/SQUARE FEET'].pct_change().mean()*100\nprint('The appreciation of the zip code area 68130 is ' + str(z2/3) + ' percent.')"
        },
        {
            "cell_type": "code",
            "execution_count": 37,
            "metadata": {},
            "outputs": [
                {
                    "name": "stdout",
                    "output_type": "stream",
                    "text": "The appreciation of the zip code area 68111 is 10.435022164294574 percent.\n"
                }
            ],
            "source": "z3 = df_68111['$/SQUARE FEET'].pct_change().mean()*100\nprint('The appreciation of the zip code area 68111 is ' + str(z3/3) + ' percent.')"
        },
        {
            "cell_type": "code",
            "execution_count": 38,
            "metadata": {},
            "outputs": [
                {
                    "name": "stdout",
                    "output_type": "stream",
                    "text": "The appreciation of the zip code area 68112 is 3.99361178383081 percent.\n"
                }
            ],
            "source": "z4 = df_68112['$/SQUARE FEET'].pct_change().mean()*100\nprint('The appreciation of the zip code area 68112 is ' + str(z4/3) + ' percent.')"
        },
        {
            "cell_type": "code",
            "execution_count": 39,
            "metadata": {},
            "outputs": [
                {
                    "name": "stdout",
                    "output_type": "stream",
                    "text": "The appreciation of the zip code area 68102 is nan percent.\n"
                }
            ],
            "source": "z5 = df_68102['$/SQUARE FEET'].pct_change().mean()*100\nprint('The appreciation of the zip code area 68102 is ' + str(z5/3) + ' percent.')"
        },
        {
            "cell_type": "code",
            "execution_count": 40,
            "metadata": {},
            "outputs": [
                {
                    "name": "stdout",
                    "output_type": "stream",
                    "text": "The appreciation of the zip code area 68136 is 0.5567871864417346 percent.\n"
                }
            ],
            "source": "z6 = df_68136['$/SQUARE FEET'].pct_change().mean()*100\nprint('The appreciation of the zip code area 68136 is ' + str(z6/3) + ' percent.')"
        },
        {
            "cell_type": "code",
            "execution_count": 41,
            "metadata": {},
            "outputs": [
                {
                    "name": "stdout",
                    "output_type": "stream",
                    "text": "The appreciation of the zip code area 68106 is 1.3089261379202628 percent.\n"
                }
            ],
            "source": "z7 = df_68106['$/SQUARE FEET'].pct_change().mean()*100\nprint('The appreciation of the zip code area 68106 is ' + str(z7/3) + ' percent.')"
        },
        {
            "cell_type": "code",
            "execution_count": 42,
            "metadata": {},
            "outputs": [
                {
                    "name": "stdout",
                    "output_type": "stream",
                    "text": "The appreciation of the zip code area 68105 is 4.546291715883259 percent.\n"
                }
            ],
            "source": "z8 = df_68105['$/SQUARE FEET'].pct_change().mean()*100\nprint('The appreciation of the zip code area 68105 is ' + str(z8/3) + ' percent.')"
        },
        {
            "cell_type": "code",
            "execution_count": 43,
            "metadata": {},
            "outputs": [
                {
                    "name": "stdout",
                    "output_type": "stream",
                    "text": "The appreciation of the zip code area 68144 is 0.7999578667805652 percent.\n"
                }
            ],
            "source": "z9 = df_68144['$/SQUARE FEET'].pct_change().mean()*100\nprint('The appreciation of the zip code area 68144 is ' + str(z9/3) + ' percent.')"
        },
        {
            "cell_type": "code",
            "execution_count": 44,
            "metadata": {},
            "outputs": [
                {
                    "name": "stdout",
                    "output_type": "stream",
                    "text": "The appreciation of the zip code area 68166 is nan percent.\n"
                }
            ],
            "source": "z10 = df_68166['$/SQUARE FEET'].pct_change().mean()*100\nprint('The appreciation of the zip code area 68166 is ' + str(z10/3) + ' percent.')"
        },
        {
            "cell_type": "code",
            "execution_count": 45,
            "metadata": {},
            "outputs": [
                {
                    "name": "stdout",
                    "output_type": "stream",
                    "text": "The appreciation of the zip code area 68135 is 0.9760496592021787 percent.\n"
                }
            ],
            "source": "z11 = df_68135['$/SQUARE FEET'].pct_change().mean()*100\nprint('The appreciation of the zip code area 68135 is ' + str(z11/3) + ' percent.')"
        },
        {
            "cell_type": "code",
            "execution_count": 46,
            "metadata": {},
            "outputs": [
                {
                    "name": "stdout",
                    "output_type": "stream",
                    "text": "The appreciation of the zip code area 68138 is 0.3173031405790024 percent.\n"
                }
            ],
            "source": "z12 = df_68138['$/SQUARE FEET'].pct_change().mean()*100\nprint('The appreciation of the zip code area 68138 is ' + str(z12/3) + ' percent.')"
        },
        {
            "cell_type": "code",
            "execution_count": 47,
            "metadata": {},
            "outputs": [
                {
                    "name": "stdout",
                    "output_type": "stream",
                    "text": "The appreciation of the zip code area 68134 is 1.0097414899143669 percent.\n"
                }
            ],
            "source": "z13 = df_68134['$/SQUARE FEET'].pct_change().mean()*100\nprint('The appreciation of the zip code area 68134 is ' + str(z13/3) + ' percent.')"
        },
        {
            "cell_type": "code",
            "execution_count": 48,
            "metadata": {},
            "outputs": [
                {
                    "name": "stdout",
                    "output_type": "stream",
                    "text": "The appreciation of the zip code area 68108 is 6.240009806525254 percent.\n"
                }
            ],
            "source": "z14 = df_68108['$/SQUARE FEET'].pct_change().mean()*100\nprint('The appreciation of the zip code area 68108 is ' + str(z14/3) + ' percent.')"
        },
        {
            "cell_type": "code",
            "execution_count": 49,
            "metadata": {},
            "outputs": [
                {
                    "name": "stdout",
                    "output_type": "stream",
                    "text": "The appreciation of the zip code area 68146 is nan percent.\n"
                }
            ],
            "source": "z15 = df_68146['$/SQUARE FEET'].pct_change().mean()*100\nprint('The appreciation of the zip code area 68146 is ' + str(z15/3) + ' percent.')"
        },
        {
            "cell_type": "code",
            "execution_count": 50,
            "metadata": {},
            "outputs": [
                {
                    "name": "stdout",
                    "output_type": "stream",
                    "text": "The appreciation of the zip code area 68154 is 0.9724840460352246 percent.\n"
                }
            ],
            "source": "z16 = df_68154['$/SQUARE FEET'].pct_change().mean()*100\nprint('The appreciation of the zip code area 68154 is ' + str(z16/3) + ' percent.')"
        },
        {
            "cell_type": "code",
            "execution_count": 51,
            "metadata": {},
            "outputs": [
                {
                    "name": "stdout",
                    "output_type": "stream",
                    "text": "The appreciation of the zip code area 68124 is 1.235527433294243 percent.\n"
                }
            ],
            "source": "z17 = df_68124['$/SQUARE FEET'].pct_change().mean()*100\nprint('The appreciation of the zip code area 68124 is ' + str(z17/3) + ' percent.')"
        },
        {
            "cell_type": "code",
            "execution_count": 52,
            "metadata": {},
            "outputs": [
                {
                    "name": "stdout",
                    "output_type": "stream",
                    "text": "The appreciation of the zip code area 68122 is 1.6363365136846086 percent.\n"
                }
            ],
            "source": "z18 = df_68122['$/SQUARE FEET'].pct_change().mean()*100\nprint('The appreciation of the zip code area 68122 is ' + str(z18/3) + ' percent.')"
        },
        {
            "cell_type": "code",
            "execution_count": 53,
            "metadata": {},
            "outputs": [
                {
                    "name": "stdout",
                    "output_type": "stream",
                    "text": "The appreciation of the zip code area 68131 is 8.006102113835807 percent.\n"
                }
            ],
            "source": "z19 = df_68131['$/SQUARE FEET'].pct_change().mean()*100\nprint('The appreciation of the zip code area 68131 is ' + str(z19/3) + ' percent.')"
        },
        {
            "cell_type": "code",
            "execution_count": 54,
            "metadata": {},
            "outputs": [
                {
                    "name": "stdout",
                    "output_type": "stream",
                    "text": "The appreciation of the zip code area 68016 is nan percent.\n"
                }
            ],
            "source": "z20 = df_68016['$/SQUARE FEET'].pct_change().mean()*100\nprint('The appreciation of the zip code area 68016 is ' + str(z20/3) + ' percent.')"
        },
        {
            "cell_type": "code",
            "execution_count": 55,
            "metadata": {},
            "outputs": [
                {
                    "name": "stdout",
                    "output_type": "stream",
                    "text": "The appreciation of the zip code area 68164 is 0.7296055335888102 percent.\n"
                }
            ],
            "source": "z21 = df_68164['$/SQUARE FEET'].pct_change().mean()*100\nprint('The appreciation of the zip code area 68164 is ' + str(z21/3) + ' percent.')"
        },
        {
            "cell_type": "code",
            "execution_count": 56,
            "metadata": {},
            "outputs": [
                {
                    "name": "stdout",
                    "output_type": "stream",
                    "text": "The appreciation of the zip code area 68117 is 0.9574082079128909 percent.\n"
                }
            ],
            "source": "z22 = df_68117['$/SQUARE FEET'].pct_change().mean()*100\nprint('The appreciation of the zip code area 68117 is ' + str(z22/3) + ' percent.')"
        },
        {
            "cell_type": "code",
            "execution_count": 57,
            "metadata": {},
            "outputs": [
                {
                    "name": "stdout",
                    "output_type": "stream",
                    "text": "The appreciation of the zip code area 68152 is 1.7746353725390271 percent.\n"
                }
            ],
            "source": "z23 = df_68152['$/SQUARE FEET'].pct_change().mean()*100\nprint('The appreciation of the zip code area 68152 is ' + str(z23/3) + ' percent.')"
        },
        {
            "cell_type": "code",
            "execution_count": 58,
            "metadata": {},
            "outputs": [
                {
                    "name": "stdout",
                    "output_type": "stream",
                    "text": "The appreciation of the zip code area 68022 is 1.4068299651966323 percent.\n"
                }
            ],
            "source": "z24 = df_68022['$/SQUARE FEET'].pct_change().mean()*100\nprint('The appreciation of the zip code area 68022 is ' + str(z24/3) + ' percent.')"
        },
        {
            "cell_type": "code",
            "execution_count": 59,
            "metadata": {},
            "outputs": [
                {
                    "name": "stdout",
                    "output_type": "stream",
                    "text": "The appreciation of the zip code area 68101 is nan percent.\n"
                }
            ],
            "source": "z25 = df_68101['$/SQUARE FEET'].pct_change().mean()*100\nprint('The appreciation of the zip code area 68101 is ' + str(z25/3) + ' percent.')"
        },
        {
            "cell_type": "code",
            "execution_count": 60,
            "metadata": {},
            "outputs": [
                {
                    "name": "stdout",
                    "output_type": "stream",
                    "text": "The appreciation of the zip code area 68116 is 0.8727806792738769 percent.\n"
                }
            ],
            "source": "z26 = df_68116['$/SQUARE FEET'].pct_change().mean()*100\nprint('The appreciation of the zip code area 68116 is ' + str(z26/3) + ' percent.')"
        },
        {
            "cell_type": "code",
            "execution_count": 61,
            "metadata": {},
            "outputs": [
                {
                    "name": "stdout",
                    "output_type": "stream",
                    "text": "The appreciation of the zip code area 68114 is 1.7955731052527912 percent.\n"
                }
            ],
            "source": "z27 = df_68114['$/SQUARE FEET'].pct_change().mean()*100\nprint('The appreciation of the zip code area 68114 is ' + str(z27/3) + ' percent.')"
        },
        {
            "cell_type": "code",
            "execution_count": 62,
            "metadata": {},
            "outputs": [
                {
                    "name": "stdout",
                    "output_type": "stream",
                    "text": "The appreciation of the zip code area 68127 is 0.7838303380235739 percent.\n"
                }
            ],
            "source": "z28 = df_68127['$/SQUARE FEET'].pct_change().mean()*100\nprint('The appreciation of the zip code area 68127 is ' + str(z28/3) + ' percent.')"
        },
        {
            "cell_type": "code",
            "execution_count": 63,
            "metadata": {},
            "outputs": [
                {
                    "name": "stdout",
                    "output_type": "stream",
                    "text": "The appreciation of the zip code area 68110 is 19.60310208415441 percent.\n"
                }
            ],
            "source": "z29 = df_68110['$/SQUARE FEET'].pct_change().mean()*100\nprint('The appreciation of the zip code area 68110 is ' + str(z29/3) + ' percent.')"
        },
        {
            "cell_type": "code",
            "execution_count": 64,
            "metadata": {},
            "outputs": [
                {
                    "name": "stdout",
                    "output_type": "stream",
                    "text": "The appreciation of the zip code area 68109 is nan percent.\n"
                }
            ],
            "source": "z30 = df_68109['$/SQUARE FEET'].pct_change().mean()*100\nprint('The appreciation of the zip code area 68109 is ' + str(z30/3) + ' percent.')"
        },
        {
            "cell_type": "code",
            "execution_count": 65,
            "metadata": {},
            "outputs": [
                {
                    "name": "stdout",
                    "output_type": "stream",
                    "text": "The appreciation of the zip code area 68132 is 3.609987327667533 percent.\n"
                }
            ],
            "source": "z31 = df_68132['$/SQUARE FEET'].pct_change().mean()*100\nprint('The appreciation of the zip code area 68132 is ' + str(z31/3) + ' percent.')"
        },
        {
            "cell_type": "code",
            "execution_count": 66,
            "metadata": {},
            "outputs": [
                {
                    "name": "stdout",
                    "output_type": "stream",
                    "text": "The appreciation of the zip code area 68118 is 0.6823894613072389 percent.\n"
                }
            ],
            "source": "z32 = df_68118['$/SQUARE FEET'].pct_change().mean()*100\nprint('The appreciation of the zip code area 68118 is ' + str(z32/3) + ' percent.')"
        },
        {
            "cell_type": "code",
            "execution_count": 67,
            "metadata": {},
            "outputs": [
                {
                    "name": "stdout",
                    "output_type": "stream",
                    "text": "The appreciation of the zip code area 68107 is 4.208458283120204 percent.\n"
                }
            ],
            "source": "z33 = df_68107['$/SQUARE FEET'].pct_change().mean()*100\nprint('The appreciation of the zip code area 68107 is ' + str(z33/3) + ' percent.')"
        },
        {
            "cell_type": "code",
            "execution_count": 68,
            "metadata": {},
            "outputs": [
                {
                    "name": "stdout",
                    "output_type": "stream",
                    "text": "The appreciation of the zip code area 68142 is 0.7198921628755226 percent.\n"
                }
            ],
            "source": "z34 = df_68142['$/SQUARE FEET'].pct_change().mean()*100\nprint('The appreciation of the zip code area 68142 is ' + str(z34/3) + ' percent.')"
        },
        {
            "cell_type": "code",
            "execution_count": 69,
            "metadata": {},
            "outputs": [
                {
                    "name": "stdout",
                    "output_type": "stream",
                    "text": "The appreciation of the zip code area 68147 is 3.0090690112543137 percent.\n"
                }
            ],
            "source": "z35 = df_68147['$/SQUARE FEET'].pct_change().mean()*100\nprint('The appreciation of the zip code area 68147 is ' + str(z35/3) + ' percent.')"
        },
        {
            "cell_type": "markdown",
            "metadata": {},
            "source": "We can now see which zip codes perform above the others in terms of yearly appreciation rate. The top ten are as follows."
        },
        {
            "cell_type": "code",
            "execution_count": 70,
            "metadata": {},
            "outputs": [
                {
                    "data": {
                        "text/html": "<div>\n<style scoped>\n    .dataframe tbody tr th:only-of-type {\n        vertical-align: middle;\n    }\n\n    .dataframe tbody tr th {\n        vertical-align: top;\n    }\n\n    .dataframe thead th {\n        text-align: right;\n    }\n</style>\n<table border=\"1\" class=\"dataframe\">\n  <thead>\n    <tr style=\"text-align: right;\">\n      <th></th>\n      <th>Zip Code</th>\n      <th>Percent Appreciation</th>\n    </tr>\n  </thead>\n  <tbody>\n    <tr>\n      <th>20</th>\n      <td>68147</td>\n      <td>3.009069</td>\n    </tr>\n    <tr>\n      <th>21</th>\n      <td>68132</td>\n      <td>3.609987</td>\n    </tr>\n    <tr>\n      <th>22</th>\n      <td>68112</td>\n      <td>3.993612</td>\n    </tr>\n    <tr>\n      <th>23</th>\n      <td>68107</td>\n      <td>4.208458</td>\n    </tr>\n    <tr>\n      <th>24</th>\n      <td>68105</td>\n      <td>4.546292</td>\n    </tr>\n    <tr>\n      <th>25</th>\n      <td>68104</td>\n      <td>4.675042</td>\n    </tr>\n    <tr>\n      <th>26</th>\n      <td>68108</td>\n      <td>6.240010</td>\n    </tr>\n    <tr>\n      <th>27</th>\n      <td>68131</td>\n      <td>8.006102</td>\n    </tr>\n    <tr>\n      <th>28</th>\n      <td>68111</td>\n      <td>10.435022</td>\n    </tr>\n    <tr>\n      <th>29</th>\n      <td>68110</td>\n      <td>19.603102</td>\n    </tr>\n  </tbody>\n</table>\n</div>",
                        "text/plain": "   Zip Code  Percent Appreciation\n20    68147              3.009069\n21    68132              3.609987\n22    68112              3.993612\n23    68107              4.208458\n24    68105              4.546292\n25    68104              4.675042\n26    68108              6.240010\n27    68131              8.006102\n28    68111             10.435022\n29    68110             19.603102"
                    },
                    "execution_count": 70,
                    "metadata": {},
                    "output_type": "execute_result"
                }
            ],
            "source": "data_zip = [['68137', z0/3], ['68104', z1/3], ['68130', z2/3], ['68111', z3/3], ['68112', z4/3], ['68136', z6/3],\n           ['68106', z7/3], ['68105', z8/3], ['68144', z9/3], ['68135', z11/3], ['68138', z12/3], ['68134', z13/3],\n           ['68108', z14/3], ['68154', z16/3], ['68124', z17/3], ['68122', z18/3], ['68131', z19/3], ['68164', z21/3],\n           ['68117', z22/3], ['68152', z23/3], ['68022', z24/3], ['68116', z26/3], ['68114', z27/3], ['68127', z28/3],\n           ['68110', z29/3], ['68132', z31/3], ['68118', z32/3], ['68107', z33/3], ['68142', z34/3], ['68147', z35/3]]\ndf_percent = pd.DataFrame(data_zip, columns = ['Zip Code', 'Percent Appreciation'])\ndf_percent.sort_values(by=['Percent Appreciation'], inplace = True)\ndf_percent.reset_index(drop=True, inplace=True)\ndf_percent.tail(10)"
        },
        {
            "cell_type": "markdown",
            "metadata": {},
            "source": "A bar plot will be generated to help with visualization. We are interested in the zip codes that appreciate above the city average so an axis line will be included to display the city appreciation rate."
        },
        {
            "cell_type": "code",
            "execution_count": 71,
            "metadata": {},
            "outputs": [],
            "source": "import seaborn as sns"
        },
        {
            "cell_type": "code",
            "execution_count": 72,
            "metadata": {},
            "outputs": [
                {
                    "data": {
                        "text/plain": "[Text(0, 0, '68022'),\n Text(0, 0, '68104'),\n Text(0, 0, '68105'),\n Text(0, 0, '68106'),\n Text(0, 0, '68107'),\n Text(0, 0, '68108'),\n Text(0, 0, '68110'),\n Text(0, 0, '68111'),\n Text(0, 0, '68112'),\n Text(0, 0, '68114'),\n Text(0, 0, '68116'),\n Text(0, 0, '68117'),\n Text(0, 0, '68118'),\n Text(0, 0, '68122'),\n Text(0, 0, '68124'),\n Text(0, 0, '68127'),\n Text(0, 0, '68130'),\n Text(0, 0, '68131'),\n Text(0, 0, '68132'),\n Text(0, 0, '68134'),\n Text(0, 0, '68135'),\n Text(0, 0, '68136'),\n Text(0, 0, '68137'),\n Text(0, 0, '68138'),\n Text(0, 0, '68142'),\n Text(0, 0, '68144'),\n Text(0, 0, '68147'),\n Text(0, 0, '68152'),\n Text(0, 0, '68154'),\n Text(0, 0, '68164')]"
                    },
                    "execution_count": 72,
                    "metadata": {},
                    "output_type": "execute_result"
                },
                {
                    "data": {
                        "image/png": "[encoded data removed]",
                        "text/plain": "<Figure size 1440x576 with 1 Axes>"
                    },
                    "metadata": {},
                    "output_type": "display_data"
                }
            ],
            "source": "sns.set(style='white', color_codes=True)\nfig_dims = (20, 8)\nfig, ax = plt.subplots(figsize=fig_dims)\ncolors = ['b', 'r','r', 'b', 'r', 'r', 'r', 'r', 'r', 'b', 'b', 'b', 'b', 'b', 'b', 'b', 'b', 'r', 'r', 'b', 'b', 'b', 'b', 'b', 'b', 'b', 'b', 'b', 'b']\nsns.despine()\nzipcode = df_percent\nax = sns.barplot(x='Zip Code', y='Percent Appreciation', data=zipcode, palette=colors)\ncity_avg = df_percent['Percent Appreciation'].mean()\nax.axhline(city_avg)\nax.set_xticklabels(ax.get_xticklabels(), rotation=45, horizontalalignment='right')\n"
        },
        {
            "cell_type": "markdown",
            "metadata": {},
            "source": "Nine zip codes perform above average. These zip codes will be collected into a new dataframe."
        },
        {
            "cell_type": "code",
            "execution_count": 73,
            "metadata": {},
            "outputs": [
                {
                    "data": {
                        "text/html": "<div>\n<style scoped>\n    .dataframe tbody tr th:only-of-type {\n        vertical-align: middle;\n    }\n\n    .dataframe tbody tr th {\n        vertical-align: top;\n    }\n\n    .dataframe thead th {\n        text-align: right;\n    }\n</style>\n<table border=\"1\" class=\"dataframe\">\n  <thead>\n    <tr style=\"text-align: right;\">\n      <th></th>\n      <th>SOLD DATE</th>\n      <th>$/SQUARE FEET</th>\n      <th>ZIP CODE</th>\n    </tr>\n  </thead>\n  <tbody>\n    <tr>\n      <th>0</th>\n      <td>2019-08-09</td>\n      <td>116.0</td>\n      <td>68137</td>\n    </tr>\n    <tr>\n      <th>1</th>\n      <td>2019-07-26</td>\n      <td>96.0</td>\n      <td>68136</td>\n    </tr>\n    <tr>\n      <th>2</th>\n      <td>2017-09-01</td>\n      <td>127.0</td>\n      <td>68046</td>\n    </tr>\n    <tr>\n      <th>3</th>\n      <td>2020-04-01</td>\n      <td>148.0</td>\n      <td>68135</td>\n    </tr>\n    <tr>\n      <th>4</th>\n      <td>2019-08-05</td>\n      <td>140.0</td>\n      <td>68135</td>\n    </tr>\n  </tbody>\n</table>\n</div>",
                        "text/plain": "   SOLD DATE  $/SQUARE FEET ZIP CODE\n0 2019-08-09          116.0    68137\n1 2019-07-26           96.0    68136\n2 2017-09-01          127.0    68046\n3 2020-04-01          148.0    68135\n4 2019-08-05          140.0    68135"
                    },
                    "execution_count": 73,
                    "metadata": {},
                    "output_type": "execute_result"
                }
            ],
            "source": "index_names = df_omaha[(df_omaha['ZIP CODE'] == '68138') & (df_omaha['ZIP CODE'] == '68136') & (df_omaha['ZIP CODE'] == '68118') & (df_omaha['ZIP CODE'] == '68142') & (df_omaha['ZIP CODE'] == '68164') & (df_omaha['ZIP CODE'] == '68144') & (df_omaha['ZIP CODE'] == '68116') & (df_omaha['ZIP CODE'] == '68117') & (df_omaha['ZIP CODE'] == '68154') & (df_omaha['ZIP CODE'] == '68135') & (df_omaha['ZIP CODE'] == '68134') & (df_omaha['ZIP CODE'] == '68137') & (df_omaha['ZIP CODE'] == '68124') & (df_omaha['ZIP CODE'] == '68106') & (df_omaha['ZIP CODE'] == '68130') & (df_omaha['ZIP CODE'] == '68122') & (df_omaha['ZIP CODE'] == '68152') & (df_omaha['ZIP CODE'] == '68114') & (df_omaha['ZIP CODE'] == '68147') & (df_omaha['ZIP CODE'] == '68127')].index\ndf_omaha.drop(index_names, inplace=True, axis=0)\ndf_omaha.head()"
        },
        {
            "cell_type": "markdown",
            "metadata": {},
            "source": "The geospatial coordinates for each zip code are now needed. Redfin provides latitude and longitude values for each listing, so the coordinates for each zip code could be estimated by averaging these values, however a separate dataset already contianing these values will be uploaded for ease and accuracy.  "
        },
        {
            "cell_type": "code",
            "execution_count": 74,
            "metadata": {},
            "outputs": [
                {
                    "data": {
                        "text/html": "<div>\n<style scoped>\n    .dataframe tbody tr th:only-of-type {\n        vertical-align: middle;\n    }\n\n    .dataframe tbody tr th {\n        vertical-align: top;\n    }\n\n    .dataframe thead th {\n        text-align: right;\n    }\n</style>\n<table border=\"1\" class=\"dataframe\">\n  <thead>\n    <tr style=\"text-align: right;\">\n      <th></th>\n      <th>Zip</th>\n      <th>City</th>\n      <th>State</th>\n      <th>Latitude</th>\n      <th>Longitude</th>\n      <th>Timezone</th>\n      <th>Daylight savings time flag</th>\n      <th>geopoint</th>\n    </tr>\n  </thead>\n  <tbody>\n    <tr>\n      <th>0</th>\n      <td>68743</td>\n      <td>Jackson</td>\n      <td>NE</td>\n      <td>42.460155</td>\n      <td>-96.60668</td>\n      <td>-6</td>\n      <td>1</td>\n      <td>42.460155,-96.60668</td>\n    </tr>\n    <tr>\n      <th>1</th>\n      <td>68792</td>\n      <td>Wynot</td>\n      <td>NE</td>\n      <td>42.749481</td>\n      <td>-97.14372</td>\n      <td>-6</td>\n      <td>1</td>\n      <td>42.749481,-97.14372</td>\n    </tr>\n    <tr>\n      <th>2</th>\n      <td>68832</td>\n      <td>Doniphan</td>\n      <td>NE</td>\n      <td>40.763643</td>\n      <td>-98.38794</td>\n      <td>-6</td>\n      <td>1</td>\n      <td>40.763643,-98.38794</td>\n    </tr>\n    <tr>\n      <th>3</th>\n      <td>68636</td>\n      <td>Elgin</td>\n      <td>NE</td>\n      <td>42.009216</td>\n      <td>-98.13311</td>\n      <td>-6</td>\n      <td>1</td>\n      <td>42.009216,-98.13311</td>\n    </tr>\n    <tr>\n      <th>4</th>\n      <td>68118</td>\n      <td>Omaha</td>\n      <td>NE</td>\n      <td>41.263194</td>\n      <td>-96.17108</td>\n      <td>-6</td>\n      <td>1</td>\n      <td>41.263194,-96.17108</td>\n    </tr>\n  </tbody>\n</table>\n</div>",
                        "text/plain": "     Zip      City State   Latitude  Longitude  Timezone  \\\n0  68743   Jackson    NE  42.460155  -96.60668        -6   \n1  68792     Wynot    NE  42.749481  -97.14372        -6   \n2  68832  Doniphan    NE  40.763643  -98.38794        -6   \n3  68636     Elgin    NE  42.009216  -98.13311        -6   \n4  68118     Omaha    NE  41.263194  -96.17108        -6   \n\n   Daylight savings time flag             geopoint  \n0                           1  42.460155,-96.60668  \n1                           1  42.749481,-97.14372  \n2                           1  40.763643,-98.38794  \n3                           1  42.009216,-98.13311  \n4                           1  41.263194,-96.17108  "
                    },
                    "execution_count": 74,
                    "metadata": {},
                    "output_type": "execute_result"
                }
            ],
            "source": "#https://public.opendatasoft.com/explore/dataset/us-zip-code-latitude-and-longitude/export/?refine.state=NE\ndf_omahazip = pd.read_csv('https://public.opendatasoft.com/explore/dataset/us-zip-code-latitude-and-longitude/download/?format=csv&refine.state=NE&timezone=America/Chicago&lang=en&use_labels_for_header=true&csv_separator=%3B', sep=';')\ndf_omahazip.head()"
        },
        {
            "cell_type": "markdown",
            "metadata": {},
            "source": "This data represents the entire state of Nebraksa and contains unnecessary information. It will be cleaned to only contain the data needed."
        },
        {
            "cell_type": "code",
            "execution_count": 75,
            "metadata": {},
            "outputs": [
                {
                    "data": {
                        "text/html": "<div>\n<style scoped>\n    .dataframe tbody tr th:only-of-type {\n        vertical-align: middle;\n    }\n\n    .dataframe tbody tr th {\n        vertical-align: top;\n    }\n\n    .dataframe thead th {\n        text-align: right;\n    }\n</style>\n<table border=\"1\" class=\"dataframe\">\n  <thead>\n    <tr style=\"text-align: right;\">\n      <th></th>\n      <th>Zip</th>\n      <th>City</th>\n      <th>Latitude</th>\n      <th>Longitude</th>\n    </tr>\n  </thead>\n  <tbody>\n    <tr>\n      <th>0</th>\n      <td>68743</td>\n      <td>Jackson</td>\n      <td>42.460155</td>\n      <td>-96.60668</td>\n    </tr>\n    <tr>\n      <th>1</th>\n      <td>68792</td>\n      <td>Wynot</td>\n      <td>42.749481</td>\n      <td>-97.14372</td>\n    </tr>\n    <tr>\n      <th>2</th>\n      <td>68832</td>\n      <td>Doniphan</td>\n      <td>40.763643</td>\n      <td>-98.38794</td>\n    </tr>\n    <tr>\n      <th>3</th>\n      <td>68636</td>\n      <td>Elgin</td>\n      <td>42.009216</td>\n      <td>-98.13311</td>\n    </tr>\n    <tr>\n      <th>4</th>\n      <td>68118</td>\n      <td>Omaha</td>\n      <td>41.263194</td>\n      <td>-96.17108</td>\n    </tr>\n  </tbody>\n</table>\n</div>",
                        "text/plain": "     Zip      City   Latitude  Longitude\n0  68743   Jackson  42.460155  -96.60668\n1  68792     Wynot  42.749481  -97.14372\n2  68832  Doniphan  40.763643  -98.38794\n3  68636     Elgin  42.009216  -98.13311\n4  68118     Omaha  41.263194  -96.17108"
                    },
                    "execution_count": 75,
                    "metadata": {},
                    "output_type": "execute_result"
                }
            ],
            "source": "df_omahazip.drop(['State', 'Timezone', 'Daylight savings time flag', 'geopoint'], axis = 1, inplace=True)\ndf_omahazip.head()"
        },
        {
            "cell_type": "code",
            "execution_count": 76,
            "metadata": {},
            "outputs": [
                {
                    "data": {
                        "text/html": "<div>\n<style scoped>\n    .dataframe tbody tr th:only-of-type {\n        vertical-align: middle;\n    }\n\n    .dataframe tbody tr th {\n        vertical-align: top;\n    }\n\n    .dataframe thead th {\n        text-align: right;\n    }\n</style>\n<table border=\"1\" class=\"dataframe\">\n  <thead>\n    <tr style=\"text-align: right;\">\n      <th></th>\n      <th>Zip</th>\n      <th>City</th>\n      <th>Latitude</th>\n      <th>Longitude</th>\n    </tr>\n  </thead>\n  <tbody>\n    <tr>\n      <th>4</th>\n      <td>68118</td>\n      <td>Omaha</td>\n      <td>41.263194</td>\n      <td>-96.171080</td>\n    </tr>\n    <tr>\n      <th>7</th>\n      <td>68180</td>\n      <td>Omaha</td>\n      <td>41.291736</td>\n      <td>-96.171104</td>\n    </tr>\n    <tr>\n      <th>11</th>\n      <td>68278</td>\n      <td>Omaha</td>\n      <td>41.264333</td>\n      <td>-95.946368</td>\n    </tr>\n    <tr>\n      <th>44</th>\n      <td>68181</td>\n      <td>Omaha</td>\n      <td>41.291736</td>\n      <td>-96.171104</td>\n    </tr>\n    <tr>\n      <th>53</th>\n      <td>68145</td>\n      <td>Omaha</td>\n      <td>41.291736</td>\n      <td>-96.171104</td>\n    </tr>\n  </tbody>\n</table>\n</div>",
                        "text/plain": "      Zip   City   Latitude  Longitude\n4   68118  Omaha  41.263194 -96.171080\n7   68180  Omaha  41.291736 -96.171104\n11  68278  Omaha  41.264333 -95.946368\n44  68181  Omaha  41.291736 -96.171104\n53  68145  Omaha  41.291736 -96.171104"
                    },
                    "execution_count": 76,
                    "metadata": {},
                    "output_type": "execute_result"
                }
            ],
            "source": "df_omahazip = df_omahazip.loc[df_omahazip['City'] == 'Omaha']\ndf_omahazip.head()"
        },
        {
            "cell_type": "code",
            "execution_count": 77,
            "metadata": {},
            "outputs": [
                {
                    "data": {
                        "text/plain": "array([68118, 68180, 68278, 68181, 68145, 68137, 68107, 68135, 68120,\n       68157, 68105, 68110, 68104, 68114, 68164, 68155, 68117, 68122,\n       68102, 68134, 68142, 68109, 68124, 68139, 68182, 68127, 68130,\n       68112, 68131, 68154, 68106, 68176, 68101, 68111, 68179, 68132,\n       68116, 68103, 68119, 68175, 68144, 68183, 68136, 68172, 68178,\n       68138, 68108, 68198, 68152])"
                    },
                    "execution_count": 77,
                    "metadata": {},
                    "output_type": "execute_result"
                }
            ],
            "source": "df_omahazip['Zip'].unique()"
        },
        {
            "cell_type": "code",
            "execution_count": 78,
            "metadata": {},
            "outputs": [
                {
                    "data": {
                        "text/plain": "Zip            int64\nCity          object\nLatitude     float64\nLongitude    float64\ndtype: object"
                    },
                    "execution_count": 78,
                    "metadata": {},
                    "output_type": "execute_result"
                }
            ],
            "source": "df_omahazip.dtypes"
        },
        {
            "cell_type": "code",
            "execution_count": 79,
            "metadata": {},
            "outputs": [
                {
                    "data": {
                        "text/html": "<div>\n<style scoped>\n    .dataframe tbody tr th:only-of-type {\n        vertical-align: middle;\n    }\n\n    .dataframe tbody tr th {\n        vertical-align: top;\n    }\n\n    .dataframe thead th {\n        text-align: right;\n    }\n</style>\n<table border=\"1\" class=\"dataframe\">\n  <thead>\n    <tr style=\"text-align: right;\">\n      <th></th>\n      <th>Zip</th>\n      <th>City</th>\n      <th>Latitude</th>\n      <th>Longitude</th>\n    </tr>\n  </thead>\n  <tbody>\n    <tr>\n      <th>60</th>\n      <td>68107</td>\n      <td>Omaha</td>\n      <td>41.205198</td>\n      <td>-95.95539</td>\n    </tr>\n    <tr>\n      <th>133</th>\n      <td>68105</td>\n      <td>Omaha</td>\n      <td>41.240854</td>\n      <td>-95.96383</td>\n    </tr>\n    <tr>\n      <th>147</th>\n      <td>68110</td>\n      <td>Omaha</td>\n      <td>41.292321</td>\n      <td>-95.93427</td>\n    </tr>\n    <tr>\n      <th>150</th>\n      <td>68104</td>\n      <td>Omaha</td>\n      <td>41.292445</td>\n      <td>-96.00060</td>\n    </tr>\n    <tr>\n      <th>313</th>\n      <td>68112</td>\n      <td>Omaha</td>\n      <td>41.334947</td>\n      <td>-95.95924</td>\n    </tr>\n    <tr>\n      <th>326</th>\n      <td>68131</td>\n      <td>Omaha</td>\n      <td>41.264418</td>\n      <td>-95.96383</td>\n    </tr>\n    <tr>\n      <th>414</th>\n      <td>68111</td>\n      <td>Omaha</td>\n      <td>41.294547</td>\n      <td>-95.96434</td>\n    </tr>\n    <tr>\n      <th>459</th>\n      <td>68132</td>\n      <td>Omaha</td>\n      <td>41.265650</td>\n      <td>-95.99741</td>\n    </tr>\n    <tr>\n      <th>628</th>\n      <td>68108</td>\n      <td>Omaha</td>\n      <td>41.240562</td>\n      <td>-95.93353</td>\n    </tr>\n  </tbody>\n</table>\n</div>",
                        "text/plain": "       Zip   City   Latitude  Longitude\n60   68107  Omaha  41.205198  -95.95539\n133  68105  Omaha  41.240854  -95.96383\n147  68110  Omaha  41.292321  -95.93427\n150  68104  Omaha  41.292445  -96.00060\n313  68112  Omaha  41.334947  -95.95924\n326  68131  Omaha  41.264418  -95.96383\n414  68111  Omaha  41.294547  -95.96434\n459  68132  Omaha  41.265650  -95.99741\n628  68108  Omaha  41.240562  -95.93353"
                    },
                    "execution_count": 79,
                    "metadata": {},
                    "output_type": "execute_result"
                }
            ],
            "source": "df = df_omahazip[(df_omahazip['Zip'] == 68022) | (df_omahazip['Zip'] == 68132)\n                | (df_omahazip['Zip'] == 68112) | (df_omahazip['Zip'] == 68105)\n                | (df_omahazip['Zip'] == 68107) | (df_omahazip['Zip'] == 68104)\n                | (df_omahazip['Zip'] == 68108) | (df_omahazip['Zip'] == 68131)\n                | (df_omahazip['Zip'] == 68111) | (df_omahazip['Zip'] == 68110)]\ndf"
        },
        {
            "cell_type": "code",
            "execution_count": 80,
            "metadata": {},
            "outputs": [
                {
                    "data": {
                        "text/html": "<div>\n<style scoped>\n    .dataframe tbody tr th:only-of-type {\n        vertical-align: middle;\n    }\n\n    .dataframe tbody tr th {\n        vertical-align: top;\n    }\n\n    .dataframe thead th {\n        text-align: right;\n    }\n</style>\n<table border=\"1\" class=\"dataframe\">\n  <thead>\n    <tr style=\"text-align: right;\">\n      <th></th>\n      <th>Zip</th>\n      <th>City</th>\n      <th>Latitude</th>\n      <th>Longitude</th>\n    </tr>\n  </thead>\n  <tbody>\n    <tr>\n      <th>60</th>\n      <td>68107</td>\n      <td>Omaha</td>\n      <td>41.205198</td>\n      <td>-95.95539</td>\n    </tr>\n    <tr>\n      <th>133</th>\n      <td>68105</td>\n      <td>Omaha</td>\n      <td>41.240854</td>\n      <td>-95.96383</td>\n    </tr>\n    <tr>\n      <th>147</th>\n      <td>68110</td>\n      <td>Omaha</td>\n      <td>41.292321</td>\n      <td>-95.93427</td>\n    </tr>\n    <tr>\n      <th>150</th>\n      <td>68104</td>\n      <td>Omaha</td>\n      <td>41.292445</td>\n      <td>-96.00060</td>\n    </tr>\n    <tr>\n      <th>313</th>\n      <td>68112</td>\n      <td>Omaha</td>\n      <td>41.334947</td>\n      <td>-95.95924</td>\n    </tr>\n    <tr>\n      <th>326</th>\n      <td>68131</td>\n      <td>Omaha</td>\n      <td>41.264418</td>\n      <td>-95.96383</td>\n    </tr>\n    <tr>\n      <th>414</th>\n      <td>68111</td>\n      <td>Omaha</td>\n      <td>41.294547</td>\n      <td>-95.96434</td>\n    </tr>\n    <tr>\n      <th>459</th>\n      <td>68132</td>\n      <td>Omaha</td>\n      <td>41.265650</td>\n      <td>-95.99741</td>\n    </tr>\n    <tr>\n      <th>628</th>\n      <td>68108</td>\n      <td>Omaha</td>\n      <td>41.240562</td>\n      <td>-95.93353</td>\n    </tr>\n    <tr>\n      <th>0</th>\n      <td>68022</td>\n      <td>Omaha</td>\n      <td>41.289100</td>\n      <td>-96.24820</td>\n    </tr>\n  </tbody>\n</table>\n</div>",
                        "text/plain": "       Zip   City   Latitude  Longitude\n60   68107  Omaha  41.205198  -95.95539\n133  68105  Omaha  41.240854  -95.96383\n147  68110  Omaha  41.292321  -95.93427\n150  68104  Omaha  41.292445  -96.00060\n313  68112  Omaha  41.334947  -95.95924\n326  68131  Omaha  41.264418  -95.96383\n414  68111  Omaha  41.294547  -95.96434\n459  68132  Omaha  41.265650  -95.99741\n628  68108  Omaha  41.240562  -95.93353\n0    68022  Omaha  41.289100  -96.24820"
                    },
                    "execution_count": 80,
                    "metadata": {},
                    "output_type": "execute_result"
                }
            ],
            "source": "coord_68022 = pd.DataFrame([[68022, 'Omaha', 41.2891, -96.2482]], columns=('Zip', 'City', 'Latitude', 'Longitude'))\ndf_coord = pd.concat([df, coord_68022], axis=0)\ndf_coord['Zip'] = df_coord['Zip'].astype(str)\ndf_coord"
        },
        {
            "cell_type": "markdown",
            "metadata": {},
            "source": "With this dataframe containing the highest appreciating zip codes and the coordinates associated, a map of the city can be generated using folium with blue dots representing each area of examination."
        },
        {
            "cell_type": "code",
            "execution_count": 81,
            "metadata": {},
            "outputs": [
                {
                    "name": "stdout",
                    "output_type": "stream",
                    "text": "Solving environment: done\n\n## Package Plan ##\n\n  environment location: /opt/conda/envs/Python36\n\n  added / updated specs: \n    - geopy\n\n\nThe following packages will be downloaded:\n\n    package                    |            build\n    ---------------------------|-----------------\n    openssl-1.1.1g             |       h516909a_0         2.1 MB  conda-forge\n    python_abi-3.6             |          1_cp36m           4 KB  conda-forge\n    certifi-2020.4.5.1         |   py36h9f0ad1d_0         151 KB  conda-forge\n    ca-certificates-2020.4.5.1 |       hecc5488_0         146 KB  conda-forge\n    geopy-1.21.0               |             py_0          58 KB  conda-forge\n    geographiclib-1.50         |             py_0          34 KB  conda-forge\n    ------------------------------------------------------------\n                                           Total:         2.5 MB\n\nThe following NEW packages will be INSTALLED:\n\n    geographiclib:   1.50-py_0         conda-forge\n    geopy:           1.21.0-py_0       conda-forge\n    python_abi:      3.6-1_cp36m       conda-forge\n\nThe following packages will be UPDATED:\n\n    ca-certificates: 2020.1.1-0                    --> 2020.4.5.1-hecc5488_0     conda-forge\n    certifi:         2020.4.5.1-py36_0             --> 2020.4.5.1-py36h9f0ad1d_0 conda-forge\n    openssl:         1.1.1g-h7b6447c_0             --> 1.1.1g-h516909a_0         conda-forge\n\n\nDownloading and Extracting Packages\nopenssl-1.1.1g       | 2.1 MB    | ##################################### | 100% \npython_abi-3.6       | 4 KB      | ##################################### | 100% \ncertifi-2020.4.5.1   | 151 KB    | ##################################### | 100% \nca-certificates-2020 | 146 KB    | ##################################### | 100% \ngeopy-1.21.0         | 58 KB     | ##################################### | 100% \ngeographiclib-1.50   | 34 KB     | ##################################### | 100% \nPreparing transaction: done\nVerifying transaction: done\nExecuting transaction: done\nSolving environment: done\n\n## Package Plan ##\n\n  environment location: /opt/conda/envs/Python36\n\n  added / updated specs: \n    - folium=0.5.0\n\n\nThe following packages will be downloaded:\n\n    package                    |            build\n    ---------------------------|-----------------\n    vincent-0.4.4              |             py_1          28 KB  conda-forge\n    altair-4.1.0               |             py_1         614 KB  conda-forge\n    branca-0.4.0               |             py_0          26 KB  conda-forge\n    folium-0.5.0               |             py_0          45 KB  conda-forge\n    ------------------------------------------------------------\n                                           Total:         713 KB\n\nThe following NEW packages will be INSTALLED:\n\n    altair:  4.1.0-py_1 conda-forge\n    branca:  0.4.0-py_0 conda-forge\n    folium:  0.5.0-py_0 conda-forge\n    vincent: 0.4.4-py_1 conda-forge\n\n\nDownloading and Extracting Packages\nvincent-0.4.4        | 28 KB     | ##################################### | 100% \naltair-4.1.0         | 614 KB    | ##################################### | 100% \nbranca-0.4.0         | 26 KB     | ##################################### | 100% \nfolium-0.5.0         | 45 KB     | ##################################### | 100% \nPreparing transaction: done\nVerifying transaction: done\nExecuting transaction: done\nLibraries imported.\n"
                }
            ],
            "source": "!conda install -c conda-forge geopy --yes\nimport matplotlib.cm as cm\nimport matplotlib.colors as colors\nfrom sklearn.cluster import KMeans\n!conda install -c conda-forge folium=0.5.0 --yes\nimport folium\nfrom geopy.geocoders import Nominatim\nprint('Libraries imported.')"
        },
        {
            "cell_type": "code",
            "execution_count": 82,
            "metadata": {},
            "outputs": [
                {
                    "name": "stdout",
                    "output_type": "stream",
                    "text": "The geographical coordinates of Omaha, Nebraska are 41.2587459, -95.9383758.\n"
                }
            ],
            "source": "address = 'Omaha, NE'\n\ngeolocator = Nominatim(user_agent='ne_explorer')\nlocation = geolocator.geocode(address)\nlatitude = location.latitude\nlongitude = location.longitude\nprint('The geographical coordinates of Omaha, Nebraska are {}, {}.'.format(latitude, longitude))"
        },
        {
            "cell_type": "code",
            "execution_count": 83,
            "metadata": {},
            "outputs": [
                {
                    "data": {
                        "text/html": "<div style=\"width:100%;\"><div style=\"position:relative;width:100%;height:0;padding-bottom:60%;\"><iframe src=\"about:blank\" style=\"position:absolute;width:100%;height:100%;left:0;top:0;border:none !important;\" data-html=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 onload=\"this.contentDocument.open();this.contentDocument.write(atob(this.getAttribute('data-html')));this.contentDocument.close();\" allowfullscreen webkitallowfullscreen mozallowfullscreen></iframe></div></div>",
                        "text/plain": "<folium.folium.Map at 0x7f63c4d78780>"
                    },
                    "execution_count": 83,
                    "metadata": {},
                    "output_type": "execute_result"
                }
            ],
            "source": "map_omaha = folium.Map(location=[latitude, longitude], zoom_start=10)\n\nfor lat, lng, zipcode in zip(df_coord['Latitude'], df_coord['Longitude'], df_coord['Zip']):\n    label = '{}'.format(zipcode)\n    label = folium.Popup(label, parse_html=True)\n    folium.CircleMarker(\n        [lat, lng],\n        radius=5,\n        popup=label,\n        color='blue',\n        fill=True,\n        fill_color='#3186cc',\n        fill_opacity=0.7,\n        parse_html=False).add_to(map_omaha)\n    \nmap_omaha"
        },
        {
            "cell_type": "markdown",
            "metadata": {},
            "source": "Now that a visualization of the city of Omaha with the zip codes marked that have the highest yearly appreciation rates has been generated we can begin the final stage of the project. Foursquare API will be harnessed to obtain the most popular venues of each of the top nine zip codes. These zip codes will then be clustered into groups using machine learning."
        },
        {
            "cell_type": "code",
            "execution_count": 84,
            "metadata": {},
            "outputs": [],
            "source": "# The code was removed by Watson Studio for sharing."
        },
        {
            "cell_type": "code",
            "execution_count": 85,
            "metadata": {},
            "outputs": [],
            "source": "import requests"
        },
        {
            "cell_type": "markdown",
            "metadata": {},
            "source": "A loop to generate a list of nearby venues for each zip code."
        },
        {
            "cell_type": "code",
            "execution_count": 86,
            "metadata": {},
            "outputs": [],
            "source": "def getNearbyVenues(names, latitudes, longitudes, radius=1000):\n    venues_list=[]\n    for name, lat, lng in zip(names, latitudes, longitudes):\n        print(name)\n        \n        url = 'https://api.foursquare.com/v2/venues/explore?&client_id={}&client_secret={}&v={}&ll={},{}&radius={}&limit={}'.format(\n            CLIENT_ID,\n            CLIENT_SECRET,\n            VERSION,\n            lat,\n            lng,\n            radius,\n            LIMIT)\n        \n        results = requests.get(url).json()['response']['groups'][0]['items']\n        venues_list.append([(\n            name,\n            lat,\n            lng,\n            v['venue']['name'],\n            v['venue']['location']['lat'],\n            v['venue']['location']['lng'],\n            v['venue']['categories'][0]['name']) for v in results])\n        \n    nearby_venues = pd.DataFrame([item for venue_list in venues_list for item in venue_list])\n    nearby_venues.columns = ['Zip',\n                            'Zip Latitude',\n                            'Zip Longitude',\n                            'Venue',\n                            'Venue Latitude',\n                            'Venue Longitude',\n                            'Venue Category']\n    \n    return(nearby_venues)"
        },
        {
            "cell_type": "code",
            "execution_count": 87,
            "metadata": {},
            "outputs": [
                {
                    "name": "stdout",
                    "output_type": "stream",
                    "text": "68107\n68105\n68110\n68104\n68112\n68131\n68111\n68132\n68108\n68022\n"
                }
            ],
            "source": "omaha_venues = getNearbyVenues(names=df_coord['Zip'],\n                              latitudes=df_coord['Latitude'],\n                              longitudes=df_coord['Longitude'])"
        },
        {
            "cell_type": "code",
            "execution_count": 88,
            "metadata": {},
            "outputs": [
                {
                    "data": {
                        "text/plain": "(266, 7)"
                    },
                    "execution_count": 88,
                    "metadata": {},
                    "output_type": "execute_result"
                }
            ],
            "source": "omaha_venues.shape"
        },
        {
            "cell_type": "code",
            "execution_count": 89,
            "metadata": {},
            "outputs": [
                {
                    "data": {
                        "text/html": "<div>\n<style scoped>\n    .dataframe tbody tr th:only-of-type {\n        vertical-align: middle;\n    }\n\n    .dataframe tbody tr th {\n        vertical-align: top;\n    }\n\n    .dataframe thead th {\n        text-align: right;\n    }\n</style>\n<table border=\"1\" class=\"dataframe\">\n  <thead>\n    <tr style=\"text-align: right;\">\n      <th></th>\n      <th>Zip</th>\n      <th>Zip Latitude</th>\n      <th>Zip Longitude</th>\n      <th>Venue</th>\n      <th>Venue Latitude</th>\n      <th>Venue Longitude</th>\n      <th>Venue Category</th>\n    </tr>\n  </thead>\n  <tbody>\n    <tr>\n      <th>0</th>\n      <td>68107</td>\n      <td>41.205198</td>\n      <td>-95.95539</td>\n      <td>International Bakery</td>\n      <td>41.206830</td>\n      <td>-95.947211</td>\n      <td>Bakery</td>\n    </tr>\n    <tr>\n      <th>1</th>\n      <td>68107</td>\n      <td>41.205198</td>\n      <td>-95.95539</td>\n      <td>Johnny's Cafe</td>\n      <td>41.211973</td>\n      <td>-95.951769</td>\n      <td>Steakhouse</td>\n    </tr>\n    <tr>\n      <th>2</th>\n      <td>68107</td>\n      <td>41.205198</td>\n      <td>-95.95539</td>\n      <td>Taqueria El Rey</td>\n      <td>41.205269</td>\n      <td>-95.946791</td>\n      <td>Mexican Restaurant</td>\n    </tr>\n    <tr>\n      <th>3</th>\n      <td>68107</td>\n      <td>41.205198</td>\n      <td>-95.95539</td>\n      <td>Donohue's Pub</td>\n      <td>41.212523</td>\n      <td>-95.962223</td>\n      <td>Dive Bar</td>\n    </tr>\n    <tr>\n      <th>4</th>\n      <td>68107</td>\n      <td>41.205198</td>\n      <td>-95.95539</td>\n      <td>El Dorado</td>\n      <td>41.205810</td>\n      <td>-95.947081</td>\n      <td>Mexican Restaurant</td>\n    </tr>\n    <tr>\n      <th>5</th>\n      <td>68107</td>\n      <td>41.205198</td>\n      <td>-95.95539</td>\n      <td>Abelardo's Mexican Fresh</td>\n      <td>41.205289</td>\n      <td>-95.960874</td>\n      <td>Mexican Restaurant</td>\n    </tr>\n    <tr>\n      <th>6</th>\n      <td>68107</td>\n      <td>41.205198</td>\n      <td>-95.95539</td>\n      <td>QuikTrip</td>\n      <td>41.210956</td>\n      <td>-95.961295</td>\n      <td>Convenience Store</td>\n    </tr>\n    <tr>\n      <th>7</th>\n      <td>68107</td>\n      <td>41.205198</td>\n      <td>-95.95539</td>\n      <td>The Salvation Army Kroc Center</td>\n      <td>41.197334</td>\n      <td>-95.956183</td>\n      <td>Gym / Fitness Center</td>\n    </tr>\n    <tr>\n      <th>8</th>\n      <td>68107</td>\n      <td>41.205198</td>\n      <td>-95.95539</td>\n      <td>Taqueria Tijuana</td>\n      <td>41.205700</td>\n      <td>-95.946877</td>\n      <td>Taco Place</td>\n    </tr>\n    <tr>\n      <th>9</th>\n      <td>68107</td>\n      <td>41.205198</td>\n      <td>-95.95539</td>\n      <td>La Esmeralda</td>\n      <td>41.205192</td>\n      <td>-95.962106</td>\n      <td>Mexican Restaurant</td>\n    </tr>\n  </tbody>\n</table>\n</div>",
                        "text/plain": "     Zip  Zip Latitude  Zip Longitude                           Venue  \\\n0  68107     41.205198      -95.95539            International Bakery   \n1  68107     41.205198      -95.95539                   Johnny's Cafe   \n2  68107     41.205198      -95.95539                 Taqueria El Rey   \n3  68107     41.205198      -95.95539                   Donohue's Pub   \n4  68107     41.205198      -95.95539                       El Dorado   \n5  68107     41.205198      -95.95539        Abelardo's Mexican Fresh   \n6  68107     41.205198      -95.95539                        QuikTrip   \n7  68107     41.205198      -95.95539  The Salvation Army Kroc Center   \n8  68107     41.205198      -95.95539                Taqueria Tijuana   \n9  68107     41.205198      -95.95539                    La Esmeralda   \n\n   Venue Latitude  Venue Longitude        Venue Category  \n0       41.206830       -95.947211                Bakery  \n1       41.211973       -95.951769            Steakhouse  \n2       41.205269       -95.946791    Mexican Restaurant  \n3       41.212523       -95.962223              Dive Bar  \n4       41.205810       -95.947081    Mexican Restaurant  \n5       41.205289       -95.960874    Mexican Restaurant  \n6       41.210956       -95.961295     Convenience Store  \n7       41.197334       -95.956183  Gym / Fitness Center  \n8       41.205700       -95.946877            Taco Place  \n9       41.205192       -95.962106    Mexican Restaurant  "
                    },
                    "execution_count": 89,
                    "metadata": {},
                    "output_type": "execute_result"
                }
            ],
            "source": "omaha_venues.head(10)"
        },
        {
            "cell_type": "markdown",
            "metadata": {},
            "source": "Now that a dataframe of nearby venues has been generated, we need to group them by zip code."
        },
        {
            "cell_type": "code",
            "execution_count": 90,
            "metadata": {},
            "outputs": [
                {
                    "data": {
                        "text/html": "<div>\n<style scoped>\n    .dataframe tbody tr th:only-of-type {\n        vertical-align: middle;\n    }\n\n    .dataframe tbody tr th {\n        vertical-align: top;\n    }\n\n    .dataframe thead th {\n        text-align: right;\n    }\n</style>\n<table border=\"1\" class=\"dataframe\">\n  <thead>\n    <tr style=\"text-align: right;\">\n      <th></th>\n      <th>Zip Latitude</th>\n      <th>Zip Longitude</th>\n      <th>Venue</th>\n      <th>Venue Latitude</th>\n      <th>Venue Longitude</th>\n      <th>Venue Category</th>\n    </tr>\n    <tr>\n      <th>Zip</th>\n      <th></th>\n      <th></th>\n      <th></th>\n      <th></th>\n      <th></th>\n      <th></th>\n    </tr>\n  </thead>\n  <tbody>\n    <tr>\n      <th>68022</th>\n      <td>6</td>\n      <td>6</td>\n      <td>6</td>\n      <td>6</td>\n      <td>6</td>\n      <td>6</td>\n    </tr>\n    <tr>\n      <th>68104</th>\n      <td>42</td>\n      <td>42</td>\n      <td>42</td>\n      <td>42</td>\n      <td>42</td>\n      <td>42</td>\n    </tr>\n    <tr>\n      <th>68105</th>\n      <td>18</td>\n      <td>18</td>\n      <td>18</td>\n      <td>18</td>\n      <td>18</td>\n      <td>18</td>\n    </tr>\n    <tr>\n      <th>68107</th>\n      <td>32</td>\n      <td>32</td>\n      <td>32</td>\n      <td>32</td>\n      <td>32</td>\n      <td>32</td>\n    </tr>\n    <tr>\n      <th>68108</th>\n      <td>32</td>\n      <td>32</td>\n      <td>32</td>\n      <td>32</td>\n      <td>32</td>\n      <td>32</td>\n    </tr>\n    <tr>\n      <th>68110</th>\n      <td>11</td>\n      <td>11</td>\n      <td>11</td>\n      <td>11</td>\n      <td>11</td>\n      <td>11</td>\n    </tr>\n    <tr>\n      <th>68111</th>\n      <td>19</td>\n      <td>19</td>\n      <td>19</td>\n      <td>19</td>\n      <td>19</td>\n      <td>19</td>\n    </tr>\n    <tr>\n      <th>68112</th>\n      <td>21</td>\n      <td>21</td>\n      <td>21</td>\n      <td>21</td>\n      <td>21</td>\n      <td>21</td>\n    </tr>\n    <tr>\n      <th>68131</th>\n      <td>56</td>\n      <td>56</td>\n      <td>56</td>\n      <td>56</td>\n      <td>56</td>\n      <td>56</td>\n    </tr>\n    <tr>\n      <th>68132</th>\n      <td>29</td>\n      <td>29</td>\n      <td>29</td>\n      <td>29</td>\n      <td>29</td>\n      <td>29</td>\n    </tr>\n  </tbody>\n</table>\n</div>",
                        "text/plain": "       Zip Latitude  Zip Longitude  Venue  Venue Latitude  Venue Longitude  \\\nZip                                                                          \n68022             6              6      6               6                6   \n68104            42             42     42              42               42   \n68105            18             18     18              18               18   \n68107            32             32     32              32               32   \n68108            32             32     32              32               32   \n68110            11             11     11              11               11   \n68111            19             19     19              19               19   \n68112            21             21     21              21               21   \n68131            56             56     56              56               56   \n68132            29             29     29              29               29   \n\n       Venue Category  \nZip                    \n68022               6  \n68104              42  \n68105              18  \n68107              32  \n68108              32  \n68110              11  \n68111              19  \n68112              21  \n68131              56  \n68132              29  "
                    },
                    "execution_count": 90,
                    "metadata": {},
                    "output_type": "execute_result"
                }
            ],
            "source": "omaha_venues.groupby('Zip').count()"
        },
        {
            "cell_type": "markdown",
            "metadata": {},
            "source": "Onehot encoding will be used for the purposes of k-means clustering."
        },
        {
            "cell_type": "code",
            "execution_count": 91,
            "metadata": {},
            "outputs": [
                {
                    "data": {
                        "text/html": "<div>\n<style scoped>\n    .dataframe tbody tr th:only-of-type {\n        vertical-align: middle;\n    }\n\n    .dataframe tbody tr th {\n        vertical-align: top;\n    }\n\n    .dataframe thead th {\n        text-align: right;\n    }\n</style>\n<table border=\"1\" class=\"dataframe\">\n  <thead>\n    <tr style=\"text-align: right;\">\n      <th></th>\n      <th>Zip</th>\n      <th>ATM</th>\n      <th>American Restaurant</th>\n      <th>Antique Shop</th>\n      <th>Art Gallery</th>\n      <th>Arts &amp; Crafts Store</th>\n      <th>Asian Restaurant</th>\n      <th>Auditorium</th>\n      <th>Auto Workshop</th>\n      <th>Automotive Shop</th>\n      <th>...</th>\n      <th>Thrift / Vintage Store</th>\n      <th>Tourist Information Center</th>\n      <th>Trail</th>\n      <th>Used Auto Dealership</th>\n      <th>Vegetarian / Vegan Restaurant</th>\n      <th>Video Store</th>\n      <th>Whisky Bar</th>\n      <th>Wine Shop</th>\n      <th>Wings Joint</th>\n      <th>Yoga Studio</th>\n    </tr>\n  </thead>\n  <tbody>\n    <tr>\n      <th>0</th>\n      <td>68107</td>\n      <td>0</td>\n      <td>0</td>\n      <td>0</td>\n      <td>0</td>\n      <td>0</td>\n      <td>0</td>\n      <td>0</td>\n      <td>0</td>\n      <td>0</td>\n      <td>...</td>\n      <td>0</td>\n      <td>0</td>\n      <td>0</td>\n      <td>0</td>\n      <td>0</td>\n      <td>0</td>\n      <td>0</td>\n      <td>0</td>\n      <td>0</td>\n      <td>0</td>\n    </tr>\n    <tr>\n      <th>1</th>\n      <td>68107</td>\n      <td>0</td>\n      <td>0</td>\n      <td>0</td>\n      <td>0</td>\n      <td>0</td>\n      <td>0</td>\n      <td>0</td>\n      <td>0</td>\n      <td>0</td>\n      <td>...</td>\n      <td>0</td>\n      <td>0</td>\n      <td>0</td>\n      <td>0</td>\n      <td>0</td>\n      <td>0</td>\n      <td>0</td>\n      <td>0</td>\n      <td>0</td>\n      <td>0</td>\n    </tr>\n    <tr>\n      <th>2</th>\n      <td>68107</td>\n      <td>0</td>\n      <td>0</td>\n      <td>0</td>\n      <td>0</td>\n      <td>0</td>\n      <td>0</td>\n      <td>0</td>\n      <td>0</td>\n      <td>0</td>\n      <td>...</td>\n      <td>0</td>\n      <td>0</td>\n      <td>0</td>\n      <td>0</td>\n      <td>0</td>\n      <td>0</td>\n      <td>0</td>\n      <td>0</td>\n      <td>0</td>\n      <td>0</td>\n    </tr>\n    <tr>\n      <th>3</th>\n      <td>68107</td>\n      <td>0</td>\n      <td>0</td>\n      <td>0</td>\n      <td>0</td>\n      <td>0</td>\n      <td>0</td>\n      <td>0</td>\n      <td>0</td>\n      <td>0</td>\n      <td>...</td>\n      <td>0</td>\n      <td>0</td>\n      <td>0</td>\n      <td>0</td>\n      <td>0</td>\n      <td>0</td>\n      <td>0</td>\n      <td>0</td>\n      <td>0</td>\n      <td>0</td>\n    </tr>\n    <tr>\n      <th>4</th>\n      <td>68107</td>\n      <td>0</td>\n      <td>0</td>\n      <td>0</td>\n      <td>0</td>\n      <td>0</td>\n      <td>0</td>\n      <td>0</td>\n      <td>0</td>\n      <td>0</td>\n      <td>...</td>\n      <td>0</td>\n      <td>0</td>\n      <td>0</td>\n      <td>0</td>\n      <td>0</td>\n      <td>0</td>\n      <td>0</td>\n      <td>0</td>\n      <td>0</td>\n      <td>0</td>\n    </tr>\n  </tbody>\n</table>\n<p>5 rows \u00d7 113 columns</p>\n</div>",
                        "text/plain": "     Zip  ATM  American Restaurant  Antique Shop  Art Gallery  \\\n0  68107    0                    0             0            0   \n1  68107    0                    0             0            0   \n2  68107    0                    0             0            0   \n3  68107    0                    0             0            0   \n4  68107    0                    0             0            0   \n\n   Arts & Crafts Store  Asian Restaurant  Auditorium  Auto Workshop  \\\n0                    0                 0           0              0   \n1                    0                 0           0              0   \n2                    0                 0           0              0   \n3                    0                 0           0              0   \n4                    0                 0           0              0   \n\n   Automotive Shop  ...  Thrift / Vintage Store  Tourist Information Center  \\\n0                0  ...                       0                           0   \n1                0  ...                       0                           0   \n2                0  ...                       0                           0   \n3                0  ...                       0                           0   \n4                0  ...                       0                           0   \n\n   Trail  Used Auto Dealership  Vegetarian / Vegan Restaurant  Video Store  \\\n0      0                     0                              0            0   \n1      0                     0                              0            0   \n2      0                     0                              0            0   \n3      0                     0                              0            0   \n4      0                     0                              0            0   \n\n   Whisky Bar  Wine Shop  Wings Joint  Yoga Studio  \n0           0          0            0            0  \n1           0          0            0            0  \n2           0          0            0            0  \n3           0          0            0            0  \n4           0          0            0            0  \n\n[5 rows x 113 columns]"
                    },
                    "execution_count": 91,
                    "metadata": {},
                    "output_type": "execute_result"
                }
            ],
            "source": "omaha_onehot = pd.get_dummies(omaha_venues[['Venue Category']], prefix='', prefix_sep='')\nomaha_onehot['Zip'] = omaha_venues['Zip']\nfixed_columns = [omaha_onehot.columns[-1]] + list(omaha_onehot.columns[:-1])\nomaha_onehot = omaha_onehot[fixed_columns]\nomaha_onehot.head()"
        },
        {
            "cell_type": "code",
            "execution_count": 92,
            "metadata": {},
            "outputs": [
                {
                    "data": {
                        "text/plain": "(266, 113)"
                    },
                    "execution_count": 92,
                    "metadata": {},
                    "output_type": "execute_result"
                }
            ],
            "source": "omaha_onehot.shape"
        },
        {
            "cell_type": "code",
            "execution_count": 93,
            "metadata": {},
            "outputs": [
                {
                    "data": {
                        "text/html": "<div>\n<style scoped>\n    .dataframe tbody tr th:only-of-type {\n        vertical-align: middle;\n    }\n\n    .dataframe tbody tr th {\n        vertical-align: top;\n    }\n\n    .dataframe thead th {\n        text-align: right;\n    }\n</style>\n<table border=\"1\" class=\"dataframe\">\n  <thead>\n    <tr style=\"text-align: right;\">\n      <th></th>\n      <th>Zip</th>\n      <th>ATM</th>\n      <th>American Restaurant</th>\n      <th>Antique Shop</th>\n      <th>Art Gallery</th>\n      <th>Arts &amp; Crafts Store</th>\n      <th>Asian Restaurant</th>\n      <th>Auditorium</th>\n      <th>Auto Workshop</th>\n      <th>Automotive Shop</th>\n      <th>...</th>\n      <th>Thrift / Vintage Store</th>\n      <th>Tourist Information Center</th>\n      <th>Trail</th>\n      <th>Used Auto Dealership</th>\n      <th>Vegetarian / Vegan Restaurant</th>\n      <th>Video Store</th>\n      <th>Whisky Bar</th>\n      <th>Wine Shop</th>\n      <th>Wings Joint</th>\n      <th>Yoga Studio</th>\n    </tr>\n  </thead>\n  <tbody>\n    <tr>\n      <th>0</th>\n      <td>68022</td>\n      <td>0.000000</td>\n      <td>0.000000</td>\n      <td>0.000000</td>\n      <td>0.00000</td>\n      <td>0.00000</td>\n      <td>0.000000</td>\n      <td>0.00000</td>\n      <td>0.000000</td>\n      <td>0.00000</td>\n      <td>...</td>\n      <td>0.000000</td>\n      <td>0.000000</td>\n      <td>0.000000</td>\n      <td>0.000000</td>\n      <td>0.000000</td>\n      <td>0.000000</td>\n      <td>0.000000</td>\n      <td>0.000000</td>\n      <td>0.000000</td>\n      <td>0.000000</td>\n    </tr>\n    <tr>\n      <th>1</th>\n      <td>68104</td>\n      <td>0.000000</td>\n      <td>0.000000</td>\n      <td>0.000000</td>\n      <td>0.02381</td>\n      <td>0.02381</td>\n      <td>0.000000</td>\n      <td>0.02381</td>\n      <td>0.000000</td>\n      <td>0.02381</td>\n      <td>...</td>\n      <td>0.023810</td>\n      <td>0.000000</td>\n      <td>0.000000</td>\n      <td>0.000000</td>\n      <td>0.000000</td>\n      <td>0.000000</td>\n      <td>0.000000</td>\n      <td>0.000000</td>\n      <td>0.000000</td>\n      <td>0.000000</td>\n    </tr>\n    <tr>\n      <th>2</th>\n      <td>68105</td>\n      <td>0.000000</td>\n      <td>0.000000</td>\n      <td>0.000000</td>\n      <td>0.00000</td>\n      <td>0.00000</td>\n      <td>0.000000</td>\n      <td>0.00000</td>\n      <td>0.000000</td>\n      <td>0.00000</td>\n      <td>...</td>\n      <td>0.000000</td>\n      <td>0.000000</td>\n      <td>0.055556</td>\n      <td>0.000000</td>\n      <td>0.000000</td>\n      <td>0.000000</td>\n      <td>0.000000</td>\n      <td>0.000000</td>\n      <td>0.000000</td>\n      <td>0.000000</td>\n    </tr>\n    <tr>\n      <th>3</th>\n      <td>68107</td>\n      <td>0.000000</td>\n      <td>0.000000</td>\n      <td>0.000000</td>\n      <td>0.00000</td>\n      <td>0.00000</td>\n      <td>0.000000</td>\n      <td>0.00000</td>\n      <td>0.000000</td>\n      <td>0.00000</td>\n      <td>...</td>\n      <td>0.031250</td>\n      <td>0.000000</td>\n      <td>0.000000</td>\n      <td>0.000000</td>\n      <td>0.000000</td>\n      <td>0.000000</td>\n      <td>0.000000</td>\n      <td>0.000000</td>\n      <td>0.000000</td>\n      <td>0.000000</td>\n    </tr>\n    <tr>\n      <th>4</th>\n      <td>68108</td>\n      <td>0.000000</td>\n      <td>0.000000</td>\n      <td>0.000000</td>\n      <td>0.06250</td>\n      <td>0.00000</td>\n      <td>0.000000</td>\n      <td>0.00000</td>\n      <td>0.000000</td>\n      <td>0.03125</td>\n      <td>...</td>\n      <td>0.031250</td>\n      <td>0.000000</td>\n      <td>0.000000</td>\n      <td>0.000000</td>\n      <td>0.000000</td>\n      <td>0.000000</td>\n      <td>0.000000</td>\n      <td>0.000000</td>\n      <td>0.000000</td>\n      <td>0.000000</td>\n    </tr>\n    <tr>\n      <th>5</th>\n      <td>68110</td>\n      <td>0.000000</td>\n      <td>0.000000</td>\n      <td>0.000000</td>\n      <td>0.00000</td>\n      <td>0.00000</td>\n      <td>0.000000</td>\n      <td>0.00000</td>\n      <td>0.090909</td>\n      <td>0.00000</td>\n      <td>...</td>\n      <td>0.090909</td>\n      <td>0.000000</td>\n      <td>0.000000</td>\n      <td>0.000000</td>\n      <td>0.000000</td>\n      <td>0.000000</td>\n      <td>0.000000</td>\n      <td>0.000000</td>\n      <td>0.000000</td>\n      <td>0.000000</td>\n    </tr>\n    <tr>\n      <th>6</th>\n      <td>68111</td>\n      <td>0.000000</td>\n      <td>0.000000</td>\n      <td>0.000000</td>\n      <td>0.00000</td>\n      <td>0.00000</td>\n      <td>0.052632</td>\n      <td>0.00000</td>\n      <td>0.000000</td>\n      <td>0.00000</td>\n      <td>...</td>\n      <td>0.000000</td>\n      <td>0.000000</td>\n      <td>0.000000</td>\n      <td>0.000000</td>\n      <td>0.000000</td>\n      <td>0.000000</td>\n      <td>0.000000</td>\n      <td>0.000000</td>\n      <td>0.000000</td>\n      <td>0.000000</td>\n    </tr>\n    <tr>\n      <th>7</th>\n      <td>68112</td>\n      <td>0.047619</td>\n      <td>0.047619</td>\n      <td>0.000000</td>\n      <td>0.00000</td>\n      <td>0.00000</td>\n      <td>0.000000</td>\n      <td>0.00000</td>\n      <td>0.000000</td>\n      <td>0.00000</td>\n      <td>...</td>\n      <td>0.000000</td>\n      <td>0.047619</td>\n      <td>0.000000</td>\n      <td>0.000000</td>\n      <td>0.000000</td>\n      <td>0.000000</td>\n      <td>0.000000</td>\n      <td>0.047619</td>\n      <td>0.000000</td>\n      <td>0.000000</td>\n    </tr>\n    <tr>\n      <th>8</th>\n      <td>68131</td>\n      <td>0.000000</td>\n      <td>0.035714</td>\n      <td>0.017857</td>\n      <td>0.00000</td>\n      <td>0.00000</td>\n      <td>0.000000</td>\n      <td>0.00000</td>\n      <td>0.000000</td>\n      <td>0.00000</td>\n      <td>...</td>\n      <td>0.000000</td>\n      <td>0.000000</td>\n      <td>0.000000</td>\n      <td>0.017857</td>\n      <td>0.017857</td>\n      <td>0.017857</td>\n      <td>0.017857</td>\n      <td>0.000000</td>\n      <td>0.017857</td>\n      <td>0.000000</td>\n    </tr>\n    <tr>\n      <th>9</th>\n      <td>68132</td>\n      <td>0.000000</td>\n      <td>0.068966</td>\n      <td>0.000000</td>\n      <td>0.00000</td>\n      <td>0.00000</td>\n      <td>0.000000</td>\n      <td>0.00000</td>\n      <td>0.000000</td>\n      <td>0.00000</td>\n      <td>...</td>\n      <td>0.000000</td>\n      <td>0.000000</td>\n      <td>0.034483</td>\n      <td>0.000000</td>\n      <td>0.000000</td>\n      <td>0.000000</td>\n      <td>0.000000</td>\n      <td>0.000000</td>\n      <td>0.000000</td>\n      <td>0.034483</td>\n    </tr>\n  </tbody>\n</table>\n<p>10 rows \u00d7 113 columns</p>\n</div>",
                        "text/plain": "     Zip       ATM  American Restaurant  Antique Shop  Art Gallery  \\\n0  68022  0.000000             0.000000      0.000000      0.00000   \n1  68104  0.000000             0.000000      0.000000      0.02381   \n2  68105  0.000000             0.000000      0.000000      0.00000   \n3  68107  0.000000             0.000000      0.000000      0.00000   \n4  68108  0.000000             0.000000      0.000000      0.06250   \n5  68110  0.000000             0.000000      0.000000      0.00000   \n6  68111  0.000000             0.000000      0.000000      0.00000   \n7  68112  0.047619             0.047619      0.000000      0.00000   \n8  68131  0.000000             0.035714      0.017857      0.00000   \n9  68132  0.000000             0.068966      0.000000      0.00000   \n\n   Arts & Crafts Store  Asian Restaurant  Auditorium  Auto Workshop  \\\n0              0.00000          0.000000     0.00000       0.000000   \n1              0.02381          0.000000     0.02381       0.000000   \n2              0.00000          0.000000     0.00000       0.000000   \n3              0.00000          0.000000     0.00000       0.000000   \n4              0.00000          0.000000     0.00000       0.000000   \n5              0.00000          0.000000     0.00000       0.090909   \n6              0.00000          0.052632     0.00000       0.000000   \n7              0.00000          0.000000     0.00000       0.000000   \n8              0.00000          0.000000     0.00000       0.000000   \n9              0.00000          0.000000     0.00000       0.000000   \n\n   Automotive Shop  ...  Thrift / Vintage Store  Tourist Information Center  \\\n0          0.00000  ...                0.000000                    0.000000   \n1          0.02381  ...                0.023810                    0.000000   \n2          0.00000  ...                0.000000                    0.000000   \n3          0.00000  ...                0.031250                    0.000000   \n4          0.03125  ...                0.031250                    0.000000   \n5          0.00000  ...                0.090909                    0.000000   \n6          0.00000  ...                0.000000                    0.000000   \n7          0.00000  ...                0.000000                    0.047619   \n8          0.00000  ...                0.000000                    0.000000   \n9          0.00000  ...                0.000000                    0.000000   \n\n      Trail  Used Auto Dealership  Vegetarian / Vegan Restaurant  Video Store  \\\n0  0.000000              0.000000                       0.000000     0.000000   \n1  0.000000              0.000000                       0.000000     0.000000   \n2  0.055556              0.000000                       0.000000     0.000000   \n3  0.000000              0.000000                       0.000000     0.000000   \n4  0.000000              0.000000                       0.000000     0.000000   \n5  0.000000              0.000000                       0.000000     0.000000   \n6  0.000000              0.000000                       0.000000     0.000000   \n7  0.000000              0.000000                       0.000000     0.000000   \n8  0.000000              0.017857                       0.017857     0.017857   \n9  0.034483              0.000000                       0.000000     0.000000   \n\n   Whisky Bar  Wine Shop  Wings Joint  Yoga Studio  \n0    0.000000   0.000000     0.000000     0.000000  \n1    0.000000   0.000000     0.000000     0.000000  \n2    0.000000   0.000000     0.000000     0.000000  \n3    0.000000   0.000000     0.000000     0.000000  \n4    0.000000   0.000000     0.000000     0.000000  \n5    0.000000   0.000000     0.000000     0.000000  \n6    0.000000   0.000000     0.000000     0.000000  \n7    0.000000   0.047619     0.000000     0.000000  \n8    0.017857   0.000000     0.017857     0.000000  \n9    0.000000   0.000000     0.000000     0.034483  \n\n[10 rows x 113 columns]"
                    },
                    "execution_count": 93,
                    "metadata": {},
                    "output_type": "execute_result"
                }
            ],
            "source": "omaha_grouped = omaha_onehot.groupby('Zip').mean().reset_index()\nomaha_grouped"
        },
        {
            "cell_type": "code",
            "execution_count": 94,
            "metadata": {},
            "outputs": [
                {
                    "data": {
                        "text/plain": "Zip                               object\nATM                              float64\nAmerican Restaurant              float64\nAntique Shop                     float64\nArt Gallery                      float64\nArts & Crafts Store              float64\nAsian Restaurant                 float64\nAuditorium                       float64\nAuto Workshop                    float64\nAutomotive Shop                  float64\nBBQ Joint                        float64\nBakery                           float64\nBar                              float64\nBaseball Field                   float64\nBeer Store                       float64\nBookstore                        float64\nBoutique                         float64\nBowling Alley                    float64\nBreakfast Spot                   float64\nBrewery                          float64\nBubble Tea Shop                  float64\nBurger Joint                     float64\nBus Station                      float64\nBusiness Service                 float64\nCastle                           float64\nClothing Store                   float64\nCocktail Bar                     float64\nCoffee Shop                      float64\nConstruction & Landscaping       float64\nConvenience Store                float64\n                                  ...   \nPlayground                       float64\nPool                             float64\nPub                              float64\nRestaurant                       float64\nSalon / Barbershop               float64\nSalsa Club                       float64\nSandwich Place                   float64\nSeafood Restaurant               float64\nShipping Store                   float64\nShoe Repair                      float64\nShoe Store                       float64\nShopping Plaza                   float64\nSmoke Shop                       float64\nSocial Club                      float64\nSteakhouse                       float64\nSupermarket                      float64\nSushi Restaurant                 float64\nTaco Place                       float64\nTennis Court                     float64\nTheater                          float64\nThrift / Vintage Store           float64\nTourist Information Center       float64\nTrail                            float64\nUsed Auto Dealership             float64\nVegetarian / Vegan Restaurant    float64\nVideo Store                      float64\nWhisky Bar                       float64\nWine Shop                        float64\nWings Joint                      float64\nYoga Studio                      float64\nLength: 113, dtype: object"
                    },
                    "execution_count": 94,
                    "metadata": {},
                    "output_type": "execute_result"
                }
            ],
            "source": "omaha_grouped.dtypes"
        },
        {
            "cell_type": "code",
            "execution_count": 95,
            "metadata": {},
            "outputs": [
                {
                    "data": {
                        "text/plain": "(10, 113)"
                    },
                    "execution_count": 95,
                    "metadata": {},
                    "output_type": "execute_result"
                }
            ],
            "source": "omaha_grouped.shape"
        },
        {
            "cell_type": "code",
            "execution_count": 96,
            "metadata": {},
            "outputs": [
                {
                    "name": "stdout",
                    "output_type": "stream",
                    "text": "----68022----\n                        venue  freq\n0                        Park  0.33\n1              Baseball Field  0.33\n2                Home Service  0.17\n3  Construction & Landscaping  0.17\n4          Mexican Restaurant  0.00\n5                  Playground  0.00\n6                 Planetarium  0.00\n7                 Pizza Place  0.00\n8                    Pharmacy  0.00\n9       Performing Arts Venue  0.00\n\n\n----68104----\n                  venue  freq\n0                   Bar  0.10\n1           Gas Station  0.05\n2            Restaurant  0.02\n3                 Diner  0.02\n4        Discount Store  0.02\n5        Lingerie Store  0.02\n6            Shoe Store  0.02\n7  Fast Food Restaurant  0.02\n8        Sandwich Place  0.02\n9            Food Truck  0.02\n\n\n----68105----\n                venue  freq\n0                Park  0.11\n1  Mexican Restaurant  0.11\n2    Dentist's Office  0.06\n3        Tennis Court  0.06\n4   Convenience Store  0.06\n5        Burger Joint  0.06\n6         Social Club  0.06\n7             Brewery  0.06\n8             Dog Run  0.06\n9            Boutique  0.06\n\n\n----68107----\n                        venue  freq\n0          Mexican Restaurant  0.28\n1           Convenience Store  0.06\n2              Discount Store  0.06\n3        Gym / Fitness Center  0.06\n4                  Restaurant  0.03\n5                  Food Truck  0.03\n6                  Salsa Club  0.03\n7  Construction & Landscaping  0.03\n8           Electronics Store  0.03\n9                  Steakhouse  0.03\n\n\n----68108----\n                   venue  freq\n0            Art Gallery  0.06\n1         Sandwich Place  0.06\n2               Dive Bar  0.06\n3     Mexican Restaurant  0.06\n4     Italian Restaurant  0.03\n5      Convenience Store  0.03\n6            Social Club  0.03\n7             Smoke Shop  0.03\n8  Performing Arts Venue  0.03\n9               Pharmacy  0.03\n\n\n----68110----\n                        venue  freq\n0                 Golf Course  0.18\n1              Discount Store  0.09\n2               Auto Workshop  0.09\n3              Shipping Store  0.09\n4              Baseball Field  0.09\n5      Thrift / Vintage Store  0.09\n6               Grocery Store  0.09\n7  Construction & Landscaping  0.09\n8           Convenience Store  0.09\n9          Italian Restaurant  0.09\n\n\n----68111----\n                        venue  freq\n0              Discount Store  0.11\n1        Fast Food Restaurant  0.11\n2        Gym / Fitness Center  0.11\n3               Historic Site  0.05\n4                 Bus Station  0.05\n5                        Park  0.05\n6                 Gas Station  0.05\n7                 Coffee Shop  0.05\n8  Construction & Landscaping  0.05\n9               Grocery Store  0.05\n\n\n----68112----\n                  venue  freq\n0           Pizza Place  0.10\n1              Pharmacy  0.10\n2                   ATM  0.05\n3        Ice Cream Shop  0.05\n4        Discount Store  0.05\n5        Farmers Market  0.05\n6  Fast Food Restaurant  0.05\n7   Fried Chicken Joint  0.05\n8         Historic Site  0.05\n9   American Restaurant  0.05\n\n\n----68131----\n                  venue  freq\n0                   Bar  0.09\n1           Coffee Shop  0.05\n2                  Park  0.05\n3        Sandwich Place  0.05\n4   American Restaurant  0.04\n5    Mexican Restaurant  0.04\n6  Fast Food Restaurant  0.04\n7             Gastropub  0.04\n8                Lounge  0.02\n9          Liquor Store  0.02\n\n\n----68132----\n                 venue  freq\n0                  Bar  0.10\n1          Coffee Shop  0.07\n2  American Restaurant  0.07\n3          Gas Station  0.07\n4          Pizza Place  0.07\n5                 Park  0.03\n6  Indie Movie Theater  0.03\n7             Dive Bar  0.03\n8           Playground  0.03\n9   Falafel Restaurant  0.03\n\n\n"
                }
            ],
            "source": "num_top_venues = 10\nfor code in omaha_grouped['Zip']:\n    print('----'+code+'----')\n    temp = omaha_grouped[omaha_grouped['Zip'] == code].T.reset_index()\n    temp.columns = ['venue', 'freq']\n    temp = temp.iloc[1:]\n    temp['freq'] = temp['freq'].astype(float)\n    temp = temp.round({'freq': 2})\n    print(temp.sort_values('freq', ascending=False).reset_index(drop=True).head(num_top_venues))\n    print('\\n')"
        },
        {
            "cell_type": "markdown",
            "metadata": {},
            "source": "Now that we have a list of the nearby venues for each of the zip codes in question we can generate a dataframe containing only the most popular in order to get an idea of which businesses each area is the most likely to support."
        },
        {
            "cell_type": "code",
            "execution_count": 97,
            "metadata": {},
            "outputs": [],
            "source": "def return_most_common_venues(row, num_top_venues):\n    row_categories = row.iloc[1:]\n    row_categories_sorted = row_categories.sort_values(ascending=False)\n    \n    return row_categories_sorted.index.values[0:num_top_venues]"
        },
        {
            "cell_type": "code",
            "execution_count": 98,
            "metadata": {},
            "outputs": [
                {
                    "data": {
                        "text/html": "<div>\n<style scoped>\n    .dataframe tbody tr th:only-of-type {\n        vertical-align: middle;\n    }\n\n    .dataframe tbody tr th {\n        vertical-align: top;\n    }\n\n    .dataframe thead th {\n        text-align: right;\n    }\n</style>\n<table border=\"1\" class=\"dataframe\">\n  <thead>\n    <tr style=\"text-align: right;\">\n      <th></th>\n      <th>Zip</th>\n      <th>1st Most Common Venue</th>\n      <th>2nd Most Common Venue</th>\n      <th>3rd Most Common Venue</th>\n      <th>4th Most Common Venue</th>\n      <th>5th Most Common Venue</th>\n      <th>6th Most Common Venue</th>\n      <th>7th Most Common Venue</th>\n      <th>8th Most Common Venue</th>\n      <th>9th Most Common Venue</th>\n      <th>10th Most Common Venue</th>\n    </tr>\n  </thead>\n  <tbody>\n    <tr>\n      <th>0</th>\n      <td>68022</td>\n      <td>Park</td>\n      <td>Baseball Field</td>\n      <td>Construction &amp; Landscaping</td>\n      <td>Home Service</td>\n      <td>Food Service</td>\n      <td>Dentist's Office</td>\n      <td>Diner</td>\n      <td>Discount Store</td>\n      <td>Dive Bar</td>\n      <td>Dog Run</td>\n    </tr>\n    <tr>\n      <th>1</th>\n      <td>68104</td>\n      <td>Bar</td>\n      <td>Gas Station</td>\n      <td>Brewery</td>\n      <td>Restaurant</td>\n      <td>Pub</td>\n      <td>Pool</td>\n      <td>Burger Joint</td>\n      <td>Pizza Place</td>\n      <td>Business Service</td>\n      <td>Music Venue</td>\n    </tr>\n    <tr>\n      <th>2</th>\n      <td>68105</td>\n      <td>Mexican Restaurant</td>\n      <td>Park</td>\n      <td>Historic Site</td>\n      <td>Intersection</td>\n      <td>Dentist's Office</td>\n      <td>Greek Restaurant</td>\n      <td>Pool</td>\n      <td>Burger Joint</td>\n      <td>Dog Run</td>\n      <td>Brewery</td>\n    </tr>\n    <tr>\n      <th>3</th>\n      <td>68107</td>\n      <td>Mexican Restaurant</td>\n      <td>Convenience Store</td>\n      <td>Discount Store</td>\n      <td>Gym / Fitness Center</td>\n      <td>Pizza Place</td>\n      <td>Supermarket</td>\n      <td>Dive Bar</td>\n      <td>Restaurant</td>\n      <td>Salsa Club</td>\n      <td>Seafood Restaurant</td>\n    </tr>\n    <tr>\n      <th>4</th>\n      <td>68108</td>\n      <td>Dive Bar</td>\n      <td>Art Gallery</td>\n      <td>Sandwich Place</td>\n      <td>Mexican Restaurant</td>\n      <td>Discount Store</td>\n      <td>Performing Arts Venue</td>\n      <td>Pharmacy</td>\n      <td>Lawyer</td>\n      <td>Smoke Shop</td>\n      <td>Italian Restaurant</td>\n    </tr>\n    <tr>\n      <th>5</th>\n      <td>68110</td>\n      <td>Golf Course</td>\n      <td>Grocery Store</td>\n      <td>Thrift / Vintage Store</td>\n      <td>Discount Store</td>\n      <td>Shipping Store</td>\n      <td>Convenience Store</td>\n      <td>Baseball Field</td>\n      <td>Italian Restaurant</td>\n      <td>Construction &amp; Landscaping</td>\n      <td>Auto Workshop</td>\n    </tr>\n    <tr>\n      <th>6</th>\n      <td>68111</td>\n      <td>Gym / Fitness Center</td>\n      <td>Fast Food Restaurant</td>\n      <td>Discount Store</td>\n      <td>Bus Station</td>\n      <td>Grocery Store</td>\n      <td>IT Services</td>\n      <td>Gas Station</td>\n      <td>Fried Chicken Joint</td>\n      <td>Park</td>\n      <td>Cosmetics Shop</td>\n    </tr>\n    <tr>\n      <th>7</th>\n      <td>68112</td>\n      <td>Pharmacy</td>\n      <td>Pizza Place</td>\n      <td>Historic Site</td>\n      <td>Sandwich Place</td>\n      <td>American Restaurant</td>\n      <td>Clothing Store</td>\n      <td>Convenience Store</td>\n      <td>Discount Store</td>\n      <td>Farmers Market</td>\n      <td>Fast Food Restaurant</td>\n    </tr>\n    <tr>\n      <th>8</th>\n      <td>68131</td>\n      <td>Bar</td>\n      <td>Park</td>\n      <td>Sandwich Place</td>\n      <td>Coffee Shop</td>\n      <td>Mexican Restaurant</td>\n      <td>Fast Food Restaurant</td>\n      <td>Gastropub</td>\n      <td>American Restaurant</td>\n      <td>Lounge</td>\n      <td>Cocktail Bar</td>\n    </tr>\n    <tr>\n      <th>9</th>\n      <td>68132</td>\n      <td>Bar</td>\n      <td>Coffee Shop</td>\n      <td>American Restaurant</td>\n      <td>Gas Station</td>\n      <td>Pizza Place</td>\n      <td>Massage Studio</td>\n      <td>Playground</td>\n      <td>Park</td>\n      <td>New American Restaurant</td>\n      <td>Dive Bar</td>\n    </tr>\n  </tbody>\n</table>\n</div>",
                        "text/plain": "     Zip 1st Most Common Venue 2nd Most Common Venue  \\\n0  68022                  Park        Baseball Field   \n1  68104                   Bar           Gas Station   \n2  68105    Mexican Restaurant                  Park   \n3  68107    Mexican Restaurant     Convenience Store   \n4  68108              Dive Bar           Art Gallery   \n5  68110           Golf Course         Grocery Store   \n6  68111  Gym / Fitness Center  Fast Food Restaurant   \n7  68112              Pharmacy           Pizza Place   \n8  68131                   Bar                  Park   \n9  68132                   Bar           Coffee Shop   \n\n        3rd Most Common Venue 4th Most Common Venue 5th Most Common Venue  \\\n0  Construction & Landscaping          Home Service          Food Service   \n1                     Brewery            Restaurant                   Pub   \n2               Historic Site          Intersection      Dentist's Office   \n3              Discount Store  Gym / Fitness Center           Pizza Place   \n4              Sandwich Place    Mexican Restaurant        Discount Store   \n5      Thrift / Vintage Store        Discount Store        Shipping Store   \n6              Discount Store           Bus Station         Grocery Store   \n7               Historic Site        Sandwich Place   American Restaurant   \n8              Sandwich Place           Coffee Shop    Mexican Restaurant   \n9         American Restaurant           Gas Station           Pizza Place   \n\n   6th Most Common Venue 7th Most Common Venue 8th Most Common Venue  \\\n0       Dentist's Office                 Diner        Discount Store   \n1                   Pool          Burger Joint           Pizza Place   \n2       Greek Restaurant                  Pool          Burger Joint   \n3            Supermarket              Dive Bar            Restaurant   \n4  Performing Arts Venue              Pharmacy                Lawyer   \n5      Convenience Store        Baseball Field    Italian Restaurant   \n6            IT Services           Gas Station   Fried Chicken Joint   \n7         Clothing Store     Convenience Store        Discount Store   \n8   Fast Food Restaurant             Gastropub   American Restaurant   \n9         Massage Studio            Playground                  Park   \n\n        9th Most Common Venue 10th Most Common Venue  \n0                    Dive Bar                Dog Run  \n1            Business Service            Music Venue  \n2                     Dog Run                Brewery  \n3                  Salsa Club     Seafood Restaurant  \n4                  Smoke Shop     Italian Restaurant  \n5  Construction & Landscaping          Auto Workshop  \n6                        Park         Cosmetics Shop  \n7              Farmers Market   Fast Food Restaurant  \n8                      Lounge           Cocktail Bar  \n9     New American Restaurant               Dive Bar  "
                    },
                    "execution_count": 98,
                    "metadata": {},
                    "output_type": "execute_result"
                }
            ],
            "source": "num_top_venues = 10\nindicators = ['st', 'nd', 'rd']\ncolumns = ['Zip']\nfor ind in np.arange(num_top_venues):\n    try:\n        columns.append('{}{} Most Common Venue'.format(ind+1, indicators[ind]))\n    except:\n        columns.append('{}th Most Common Venue'.format(ind+1))\n        \nzip_venues_sorted = pd.DataFrame(columns=columns)\nzip_venues_sorted['Zip'] = omaha_grouped['Zip']\n\nfor ind in np.arange(omaha_grouped.shape[0]):\n    zip_venues_sorted.iloc[ind, 1:] = return_most_common_venues(omaha_grouped.iloc[ind, :], num_top_venues)\n    \nzip_venues_sorted.head(10)"
        },
        {
            "cell_type": "markdown",
            "metadata": {},
            "source": "Lets group the zip codes into 5 clusters."
        },
        {
            "cell_type": "code",
            "execution_count": 99,
            "metadata": {},
            "outputs": [
                {
                    "data": {
                        "text/plain": "array([2, 1, 1, 3, 1, 0, 4, 1, 1, 1], dtype=int32)"
                    },
                    "execution_count": 99,
                    "metadata": {},
                    "output_type": "execute_result"
                }
            ],
            "source": "kclusters = 5\nomaha_grouped_clustering = omaha_grouped.drop('Zip', 1)\nkmeans = KMeans(n_clusters=kclusters, random_state=0).fit(omaha_grouped_clustering)\nkmeans.labels_[0:10]"
        },
        {
            "cell_type": "code",
            "execution_count": 100,
            "metadata": {},
            "outputs": [
                {
                    "data": {
                        "text/plain": "Zip                               object\nATM                              float64\nAmerican Restaurant              float64\nAntique Shop                     float64\nArt Gallery                      float64\nArts & Crafts Store              float64\nAsian Restaurant                 float64\nAuditorium                       float64\nAuto Workshop                    float64\nAutomotive Shop                  float64\nBBQ Joint                        float64\nBakery                           float64\nBar                              float64\nBaseball Field                   float64\nBeer Store                       float64\nBookstore                        float64\nBoutique                         float64\nBowling Alley                    float64\nBreakfast Spot                   float64\nBrewery                          float64\nBubble Tea Shop                  float64\nBurger Joint                     float64\nBus Station                      float64\nBusiness Service                 float64\nCastle                           float64\nClothing Store                   float64\nCocktail Bar                     float64\nCoffee Shop                      float64\nConstruction & Landscaping       float64\nConvenience Store                float64\n                                  ...   \nPlayground                       float64\nPool                             float64\nPub                              float64\nRestaurant                       float64\nSalon / Barbershop               float64\nSalsa Club                       float64\nSandwich Place                   float64\nSeafood Restaurant               float64\nShipping Store                   float64\nShoe Repair                      float64\nShoe Store                       float64\nShopping Plaza                   float64\nSmoke Shop                       float64\nSocial Club                      float64\nSteakhouse                       float64\nSupermarket                      float64\nSushi Restaurant                 float64\nTaco Place                       float64\nTennis Court                     float64\nTheater                          float64\nThrift / Vintage Store           float64\nTourist Information Center       float64\nTrail                            float64\nUsed Auto Dealership             float64\nVegetarian / Vegan Restaurant    float64\nVideo Store                      float64\nWhisky Bar                       float64\nWine Shop                        float64\nWings Joint                      float64\nYoga Studio                      float64\nLength: 113, dtype: object"
                    },
                    "execution_count": 100,
                    "metadata": {},
                    "output_type": "execute_result"
                }
            ],
            "source": "omaha_grouped.dtypes"
        },
        {
            "cell_type": "code",
            "execution_count": 101,
            "metadata": {},
            "outputs": [
                {
                    "data": {
                        "text/html": "<div>\n<style scoped>\n    .dataframe tbody tr th:only-of-type {\n        vertical-align: middle;\n    }\n\n    .dataframe tbody tr th {\n        vertical-align: top;\n    }\n\n    .dataframe thead th {\n        text-align: right;\n    }\n</style>\n<table border=\"1\" class=\"dataframe\">\n  <thead>\n    <tr style=\"text-align: right;\">\n      <th></th>\n      <th>Zip</th>\n      <th>City</th>\n      <th>Latitude</th>\n      <th>Longitude</th>\n      <th>Cluster Labels</th>\n      <th>1st Most Common Venue</th>\n      <th>2nd Most Common Venue</th>\n      <th>3rd Most Common Venue</th>\n      <th>4th Most Common Venue</th>\n      <th>5th Most Common Venue</th>\n      <th>6th Most Common Venue</th>\n      <th>7th Most Common Venue</th>\n      <th>8th Most Common Venue</th>\n      <th>9th Most Common Venue</th>\n      <th>10th Most Common Venue</th>\n    </tr>\n  </thead>\n  <tbody>\n    <tr>\n      <th>60</th>\n      <td>68107</td>\n      <td>Omaha</td>\n      <td>41.205198</td>\n      <td>-95.95539</td>\n      <td>3</td>\n      <td>Mexican Restaurant</td>\n      <td>Convenience Store</td>\n      <td>Discount Store</td>\n      <td>Gym / Fitness Center</td>\n      <td>Pizza Place</td>\n      <td>Supermarket</td>\n      <td>Dive Bar</td>\n      <td>Restaurant</td>\n      <td>Salsa Club</td>\n      <td>Seafood Restaurant</td>\n    </tr>\n    <tr>\n      <th>133</th>\n      <td>68105</td>\n      <td>Omaha</td>\n      <td>41.240854</td>\n      <td>-95.96383</td>\n      <td>1</td>\n      <td>Mexican Restaurant</td>\n      <td>Park</td>\n      <td>Historic Site</td>\n      <td>Intersection</td>\n      <td>Dentist's Office</td>\n      <td>Greek Restaurant</td>\n      <td>Pool</td>\n      <td>Burger Joint</td>\n      <td>Dog Run</td>\n      <td>Brewery</td>\n    </tr>\n    <tr>\n      <th>147</th>\n      <td>68110</td>\n      <td>Omaha</td>\n      <td>41.292321</td>\n      <td>-95.93427</td>\n      <td>0</td>\n      <td>Golf Course</td>\n      <td>Grocery Store</td>\n      <td>Thrift / Vintage Store</td>\n      <td>Discount Store</td>\n      <td>Shipping Store</td>\n      <td>Convenience Store</td>\n      <td>Baseball Field</td>\n      <td>Italian Restaurant</td>\n      <td>Construction &amp; Landscaping</td>\n      <td>Auto Workshop</td>\n    </tr>\n    <tr>\n      <th>150</th>\n      <td>68104</td>\n      <td>Omaha</td>\n      <td>41.292445</td>\n      <td>-96.00060</td>\n      <td>1</td>\n      <td>Bar</td>\n      <td>Gas Station</td>\n      <td>Brewery</td>\n      <td>Restaurant</td>\n      <td>Pub</td>\n      <td>Pool</td>\n      <td>Burger Joint</td>\n      <td>Pizza Place</td>\n      <td>Business Service</td>\n      <td>Music Venue</td>\n    </tr>\n    <tr>\n      <th>313</th>\n      <td>68112</td>\n      <td>Omaha</td>\n      <td>41.334947</td>\n      <td>-95.95924</td>\n      <td>1</td>\n      <td>Pharmacy</td>\n      <td>Pizza Place</td>\n      <td>Historic Site</td>\n      <td>Sandwich Place</td>\n      <td>American Restaurant</td>\n      <td>Clothing Store</td>\n      <td>Convenience Store</td>\n      <td>Discount Store</td>\n      <td>Farmers Market</td>\n      <td>Fast Food Restaurant</td>\n    </tr>\n    <tr>\n      <th>326</th>\n      <td>68131</td>\n      <td>Omaha</td>\n      <td>41.264418</td>\n      <td>-95.96383</td>\n      <td>1</td>\n      <td>Bar</td>\n      <td>Park</td>\n      <td>Sandwich Place</td>\n      <td>Coffee Shop</td>\n      <td>Mexican Restaurant</td>\n      <td>Fast Food Restaurant</td>\n      <td>Gastropub</td>\n      <td>American Restaurant</td>\n      <td>Lounge</td>\n      <td>Cocktail Bar</td>\n    </tr>\n    <tr>\n      <th>414</th>\n      <td>68111</td>\n      <td>Omaha</td>\n      <td>41.294547</td>\n      <td>-95.96434</td>\n      <td>4</td>\n      <td>Gym / Fitness Center</td>\n      <td>Fast Food Restaurant</td>\n      <td>Discount Store</td>\n      <td>Bus Station</td>\n      <td>Grocery Store</td>\n      <td>IT Services</td>\n      <td>Gas Station</td>\n      <td>Fried Chicken Joint</td>\n      <td>Park</td>\n      <td>Cosmetics Shop</td>\n    </tr>\n    <tr>\n      <th>459</th>\n      <td>68132</td>\n      <td>Omaha</td>\n      <td>41.265650</td>\n      <td>-95.99741</td>\n      <td>1</td>\n      <td>Bar</td>\n      <td>Coffee Shop</td>\n      <td>American Restaurant</td>\n      <td>Gas Station</td>\n      <td>Pizza Place</td>\n      <td>Massage Studio</td>\n      <td>Playground</td>\n      <td>Park</td>\n      <td>New American Restaurant</td>\n      <td>Dive Bar</td>\n    </tr>\n    <tr>\n      <th>628</th>\n      <td>68108</td>\n      <td>Omaha</td>\n      <td>41.240562</td>\n      <td>-95.93353</td>\n      <td>1</td>\n      <td>Dive Bar</td>\n      <td>Art Gallery</td>\n      <td>Sandwich Place</td>\n      <td>Mexican Restaurant</td>\n      <td>Discount Store</td>\n      <td>Performing Arts Venue</td>\n      <td>Pharmacy</td>\n      <td>Lawyer</td>\n      <td>Smoke Shop</td>\n      <td>Italian Restaurant</td>\n    </tr>\n    <tr>\n      <th>0</th>\n      <td>68022</td>\n      <td>Omaha</td>\n      <td>41.289100</td>\n      <td>-96.24820</td>\n      <td>2</td>\n      <td>Park</td>\n      <td>Baseball Field</td>\n      <td>Construction &amp; Landscaping</td>\n      <td>Home Service</td>\n      <td>Food Service</td>\n      <td>Dentist's Office</td>\n      <td>Diner</td>\n      <td>Discount Store</td>\n      <td>Dive Bar</td>\n      <td>Dog Run</td>\n    </tr>\n  </tbody>\n</table>\n</div>",
                        "text/plain": "       Zip   City   Latitude  Longitude  Cluster Labels 1st Most Common Venue  \\\n60   68107  Omaha  41.205198  -95.95539               3    Mexican Restaurant   \n133  68105  Omaha  41.240854  -95.96383               1    Mexican Restaurant   \n147  68110  Omaha  41.292321  -95.93427               0           Golf Course   \n150  68104  Omaha  41.292445  -96.00060               1                   Bar   \n313  68112  Omaha  41.334947  -95.95924               1              Pharmacy   \n326  68131  Omaha  41.264418  -95.96383               1                   Bar   \n414  68111  Omaha  41.294547  -95.96434               4  Gym / Fitness Center   \n459  68132  Omaha  41.265650  -95.99741               1                   Bar   \n628  68108  Omaha  41.240562  -95.93353               1              Dive Bar   \n0    68022  Omaha  41.289100  -96.24820               2                  Park   \n\n    2nd Most Common Venue       3rd Most Common Venue 4th Most Common Venue  \\\n60      Convenience Store              Discount Store  Gym / Fitness Center   \n133                  Park               Historic Site          Intersection   \n147         Grocery Store      Thrift / Vintage Store        Discount Store   \n150           Gas Station                     Brewery            Restaurant   \n313           Pizza Place               Historic Site        Sandwich Place   \n326                  Park              Sandwich Place           Coffee Shop   \n414  Fast Food Restaurant              Discount Store           Bus Station   \n459           Coffee Shop         American Restaurant           Gas Station   \n628           Art Gallery              Sandwich Place    Mexican Restaurant   \n0          Baseball Field  Construction & Landscaping          Home Service   \n\n    5th Most Common Venue  6th Most Common Venue 7th Most Common Venue  \\\n60            Pizza Place            Supermarket              Dive Bar   \n133      Dentist's Office       Greek Restaurant                  Pool   \n147        Shipping Store      Convenience Store        Baseball Field   \n150                   Pub                   Pool          Burger Joint   \n313   American Restaurant         Clothing Store     Convenience Store   \n326    Mexican Restaurant   Fast Food Restaurant             Gastropub   \n414         Grocery Store            IT Services           Gas Station   \n459           Pizza Place         Massage Studio            Playground   \n628        Discount Store  Performing Arts Venue              Pharmacy   \n0            Food Service       Dentist's Office                 Diner   \n\n    8th Most Common Venue       9th Most Common Venue 10th Most Common Venue  \n60             Restaurant                  Salsa Club     Seafood Restaurant  \n133          Burger Joint                     Dog Run                Brewery  \n147    Italian Restaurant  Construction & Landscaping          Auto Workshop  \n150           Pizza Place            Business Service            Music Venue  \n313        Discount Store              Farmers Market   Fast Food Restaurant  \n326   American Restaurant                      Lounge           Cocktail Bar  \n414   Fried Chicken Joint                        Park         Cosmetics Shop  \n459                  Park     New American Restaurant               Dive Bar  \n628                Lawyer                  Smoke Shop     Italian Restaurant  \n0          Discount Store                    Dive Bar                Dog Run  "
                    },
                    "execution_count": 101,
                    "metadata": {},
                    "output_type": "execute_result"
                }
            ],
            "source": "zip_venues_sorted.insert(0, 'Cluster Labels', kmeans.labels_)\nomaha_grouped = df_coord\nomaha_grouped = omaha_grouped.join(zip_venues_sorted.set_index('Zip'), on='Zip')\n\nomaha_grouped.tail(10)"
        },
        {
            "cell_type": "markdown",
            "metadata": {},
            "source": "A test to find and remove any null values if neccessary."
        },
        {
            "cell_type": "code",
            "execution_count": 102,
            "metadata": {},
            "outputs": [
                {
                    "name": "stderr",
                    "output_type": "stream",
                    "text": "/opt/conda/envs/Python36/lib/python3.6/site-packages/ipykernel/__main__.py:2: UserWarning: Boolean Series key will be reindexed to match DataFrame index.\n  from ipykernel import kernelapp as app\n"
                },
                {
                    "data": {
                        "text/html": "<div>\n<style scoped>\n    .dataframe tbody tr th:only-of-type {\n        vertical-align: middle;\n    }\n\n    .dataframe tbody tr th {\n        vertical-align: top;\n    }\n\n    .dataframe thead th {\n        text-align: right;\n    }\n</style>\n<table border=\"1\" class=\"dataframe\">\n  <thead>\n    <tr style=\"text-align: right;\">\n      <th></th>\n      <th>Zip</th>\n      <th>City</th>\n      <th>Latitude</th>\n      <th>Longitude</th>\n    </tr>\n  </thead>\n  <tbody>\n  </tbody>\n</table>\n</div>",
                        "text/plain": "Empty DataFrame\nColumns: [Zip, City, Latitude, Longitude]\nIndex: []"
                    },
                    "execution_count": 102,
                    "metadata": {},
                    "output_type": "execute_result"
                }
            ],
            "source": "bool_series = pd.isnull(omaha_grouped['Cluster Labels'])\ndf[bool_series]"
        },
        {
            "cell_type": "code",
            "execution_count": 103,
            "metadata": {},
            "outputs": [],
            "source": "#omaha_grouped.drop([118, 121], inplace=True)"
        },
        {
            "cell_type": "code",
            "execution_count": 104,
            "metadata": {},
            "outputs": [
                {
                    "data": {
                        "text/html": "<div>\n<style scoped>\n    .dataframe tbody tr th:only-of-type {\n        vertical-align: middle;\n    }\n\n    .dataframe tbody tr th {\n        vertical-align: top;\n    }\n\n    .dataframe thead th {\n        text-align: right;\n    }\n</style>\n<table border=\"1\" class=\"dataframe\">\n  <thead>\n    <tr style=\"text-align: right;\">\n      <th></th>\n      <th>Zip</th>\n      <th>City</th>\n      <th>Latitude</th>\n      <th>Longitude</th>\n      <th>Cluster Labels</th>\n      <th>1st Most Common Venue</th>\n      <th>2nd Most Common Venue</th>\n      <th>3rd Most Common Venue</th>\n      <th>4th Most Common Venue</th>\n      <th>5th Most Common Venue</th>\n      <th>6th Most Common Venue</th>\n      <th>7th Most Common Venue</th>\n      <th>8th Most Common Venue</th>\n      <th>9th Most Common Venue</th>\n      <th>10th Most Common Venue</th>\n    </tr>\n  </thead>\n  <tbody>\n  </tbody>\n</table>\n</div>",
                        "text/plain": "Empty DataFrame\nColumns: [Zip, City, Latitude, Longitude, Cluster Labels, 1st Most Common Venue, 2nd Most Common Venue, 3rd Most Common Venue, 4th Most Common Venue, 5th Most Common Venue, 6th Most Common Venue, 7th Most Common Venue, 8th Most Common Venue, 9th Most Common Venue, 10th Most Common Venue]\nIndex: []"
                    },
                    "execution_count": 104,
                    "metadata": {},
                    "output_type": "execute_result"
                }
            ],
            "source": "bool_series = pd.isnull(omaha_grouped['Cluster Labels'])\nomaha_grouped[bool_series]"
        },
        {
            "cell_type": "markdown",
            "metadata": {},
            "source": "Now to visualize the cluster groups on the same map of Omaha zip codes."
        },
        {
            "cell_type": "code",
            "execution_count": 105,
            "metadata": {},
            "outputs": [
                {
                    "data": {
                        "text/html": "<div style=\"width:100%;\"><div style=\"position:relative;width:100%;height:0;padding-bottom:60%;\"><iframe src=\"about:blank\" style=\"position:absolute;width:100%;height:100%;left:0;top:0;border:none !important;\" data-html=PCFET0NUWVBFIGh0bWw+CjxoZWFkPiAgICAKICAgIDxtZXRhIGh0dHAtZXF1aXY9ImNvbnRlbnQtdHlwZSIgY29udGVudD0idGV4dC9odG1sOyBjaGFyc2V0PVVURi04IiAvPgogICAgPHNjcmlwdD5MX1BSRUZFUl9DQU5WQVMgPSBmYWxzZTsgTF9OT19UT1VDSCA9IGZhbHNlOyBMX0RJU0FCTEVfM0QgPSBmYWxzZTs8L3NjcmlwdD4KICAgIDxzY3JpcHQgc3JjPSJodHRwczovL2Nkbi5qc2RlbGl2ci5uZXQvbnBtL2xlYWZsZXRAMS4yLjAvZGlzdC9sZWFmbGV0LmpzIj48L3NjcmlwdD4KICAgIDxzY3JpcHQgc3JjPSJodHRwczovL2FqYXguZ29vZ2xlYXBpcy5jb20vYWpheC9saWJzL2pxdWVyeS8xLjExLjEvanF1ZXJ5Lm1pbi5qcyI+PC9zY3JpcHQ+CiAgICA8c2NyaXB0IHNyYz0iaHR0cHM6Ly9tYXhjZG4uYm9vdHN0cmFwY2RuLmNvbS9ib290c3RyYXAvMy4yLjAvanMvYm9vdHN0cmFwLm1pbi5qcyI+PC9zY3JpcHQ+CiAgICA8c2NyaXB0IHNyYz0iaHR0cHM6Ly9jZG5qcy5jbG91ZGZsYXJlLmNvbS9hamF4L2xpYnMvTGVhZmxldC5hd2Vzb21lLW1hcmtlcnMvMi4wLjIvbGVhZmxldC5hd2Vzb21lLW1hcmtlcnMuanMiPjwvc2NyaXB0PgogICAgPGxpbmsgcmVsPSJzdHlsZXNoZWV0IiBocmVmPSJodHRwczovL2Nkbi5qc2RlbGl2ci5uZXQvbnBtL2xlYWZsZXRAMS4yLjAvZGlzdC9sZWFmbGV0LmNzcyIvPgogICAgPGxpbmsgcmVsPSJzdHlsZXNoZWV0IiBocmVmPSJodHRwczovL21heGNkbi5ib290c3RyYXBjZG4uY29tL2Jvb3RzdHJhcC8zLjIuMC9jc3MvYm9vdHN0cmFwLm1pbi5jc3MiLz4KICAgIDxsaW5rIHJlbD0ic3R5bGVzaGVldCIgaHJlZj0iaHR0cHM6Ly9tYXhjZG4uYm9vdHN0cmFwY2RuLmNvbS9ib290c3RyYXAvMy4yLjAvY3NzL2Jvb3RzdHJhcC10aGVtZS5taW4uY3NzIi8+CiAgICA8bGluayByZWw9InN0eWxlc2hlZXQiIGhyZWY9Imh0dHBzOi8vbWF4Y2RuLmJvb3RzdHJhcGNkbi5jb20vZm9udC1hd2Vzb21lLzQuNi4zL2Nzcy9mb250LWF3ZXNvbWUubWluLmNzcyIvPgogICAgPGxpbmsgcmVsPSJzdHlsZXNoZWV0IiBocmVmPSJodHRwczovL2NkbmpzLmNsb3VkZmxhcmUuY29tL2FqYXgvbGlicy9MZWFmbGV0LmF3ZXNvbWUtbWFya2Vycy8yLjAuMi9sZWFmbGV0LmF3ZXNvbWUtbWFya2Vycy5jc3MiLz4KICAgIDxsaW5rIHJlbD0ic3R5bGVzaGVldCIgaHJlZj0iaHR0cHM6Ly9yYXdnaXQuY29tL3B5dGhvbi12aXN1YWxpemF0aW9uL2ZvbGl1bS9tYXN0ZXIvZm9saXVtL3RlbXBsYXRlcy9sZWFmbGV0LmF3ZXNvbWUucm90YXRlLmNzcyIvPgogICAgPHN0eWxlPmh0bWwsIGJvZHkge3dpZHRoOiAxMDAlO2hlaWdodDogMTAwJTttYXJnaW46IDA7cGFkZGluZzogMDt9PC9zdHlsZT4KICAgIDxzdHlsZT4jbWFwIHtwb3NpdGlvbjphYnNvbHV0ZTt0b3A6MDtib3R0b206MDtyaWdodDowO2xlZnQ6MDt9PC9zdHlsZT4KICAgIAogICAgICAgICAgICA8c3R5bGU+ICNtYXBfZGQ1NzkzNzZiMjFhNDJhN2I2OGU3OGViZjNkZmQxOWYgewogICAgICAgICAgICAgICAgcG9zaXRpb24gOiByZWxhdGl2ZTsKICAgICAgICAgICAgICAgIHdpZHRoIDogMTAwLjAlOwogICAgICAgICAgICAgICAgaGVpZ2h0OiAxMDAuMCU7CiAgICAgICAgICAgICAgICBsZWZ0OiAwLjAlOwogICAgICAgICAgICAgICAgdG9wOiAwLjAlOwogICAgICAgICAgICAgICAgfQogICAgICAgICAgICA8L3N0eWxlPgogICAgICAgIAo8L2hlYWQ+Cjxib2R5PiAgICAKICAgIAogICAgICAgICAgICA8ZGl2IGNsYXNzPSJmb2xpdW0tbWFwIiBpZD0ibWFwX2RkNTc5Mzc2YjIxYTQyYTdiNjhlNzhlYmYzZGZkMTlmIiA+PC9kaXY+CiAgICAgICAgCjwvYm9keT4KPHNjcmlwdD4gICAgCiAgICAKCiAgICAgICAgICAgIAogICAgICAgICAgICAgICAgdmFyIGJvdW5kcyA9IG51bGw7CiAgICAgICAgICAgIAoKICAgICAgICAgICAgdmFyIG1hcF9kZDU3OTM3NmIyMWE0MmE3YjY4ZTc4ZWJmM2RmZDE5ZiA9IEwubWFwKAogICAgICAgICAgICAgICAgICAgICAgICAgICAgICAgICAgJ21hcF9kZDU3OTM3NmIyMWE0MmE3YjY4ZTc4ZWJmM2RmZDE5ZicsCiAgICAgICAgICAgICAgICAgICAgICAgICAgICAgICAgICB7Y2VudGVyOiBbNDEuMjU4NzQ1OSwtOTUuOTM4Mzc1OF0sCiAgICAgICAgICAgICAgICAgICAgICAgICAgICAgICAgICB6b29tOiAxMSwKICAgICAgICAgICAgICAgICAgICAgICAgICAgICAgICAgIG1heEJvdW5kczogYm91bmRzLAogICAgICAgICAgICAgICAgICAgICAgICAgICAgICAgICAgbGF5ZXJzOiBbXSwKICAgICAgICAgICAgICAgICAgICAgICAgICAgICAgICAgIHdvcmxkQ29weUp1bXA6IGZhbHNlLAogICAgICAgICAgICAgICAgICAgICAgICAgICAgICAgICAgY3JzOiBMLkNSUy5FUFNHMzg1NwogICAgICAgICAgICAgICAgICAgICAgICAgICAgICAgICB9KTsKICAgICAgICAgICAgCiAgICAgICAgCiAgICAKICAgICAgICAgICAgdmFyIHRpbGVfbGF5ZXJfODczM2M1OGQ4MzljNDhiOWJlMWIxMWVmNTY2ZTYzNTggPSBMLnRpbGVMYXllcigKICAgICAgICAgICAgICAgICdodHRwczovL3tzfS50aWxlLm9wZW5zdHJlZXRtYXAub3JnL3t6fS97eH0ve3l9LnBuZycsCiAgICAgICAgICAgICAgICB7CiAgImF0dHJpYnV0aW9uIjogbnVsbCwKICAiZGV0ZWN0UmV0aW5hIjogZmFsc2UsCiAgIm1heFpvb20iOiAxOCwKICAibWluWm9vbSI6IDEsCiAgIm5vV3JhcCI6IGZhbHNlLAogICJzdWJkb21haW5zIjogImFiYyIKfQogICAgICAgICAgICAgICAgKS5hZGRUbyhtYXBfZGQ1NzkzNzZiMjFhNDJhN2I2OGU3OGViZjNkZmQxOWYpOwogICAgICAgIAogICAgCiAgICAgICAgICAgIHZhciBjaXJjbGVfbWFya2VyXzFiMTZkZWQ2MmZjNTRjMGVhZGMxZDdiZDQ4MmNlZTUyID0gTC5jaXJjbGVNYXJrZXIoCiAgICAgICAgICAgICAgICBbNDEuMjA1MTk3OTk5OTk5OTk2LC05NS45NTUzOTAwMDAwMDAwMV0sCiAgICAgICAgICAgICAgICB7CiAgImJ1YmJsaW5nTW91c2VFdmVudHMiOiB0cnVlLAogICJjb2xvciI6ICIjODBmZmI0IiwKICAiZGFzaEFycmF5IjogbnVsbCwKICAiZGFzaE9mZnNldCI6IG51bGwsCiAgImZpbGwiOiB0cnVlLAogICJmaWxsQ29sb3IiOiAiIzgwZmZiNCIsCiAgImZpbGxPcGFjaXR5IjogMC43LAogICJmaWxsUnVsZSI6ICJldmVub2RkIiwKICAibGluZUNhcCI6ICJyb3VuZCIsCiAgImxpbmVKb2luIjogInJvdW5kIiwKICAib3BhY2l0eSI6IDEuMCwKICAicmFkaXVzIjogNSwKICAic3Ryb2tlIjogdHJ1ZSwKICAid2VpZ2h0IjogMwp9CiAgICAgICAgICAgICAgICApLmFkZFRvKG1hcF9kZDU3OTM3NmIyMWE0MmE3YjY4ZTc4ZWJmM2RmZDE5Zik7CiAgICAgICAgICAgIAogICAgCiAgICAgICAgICAgIHZhciBwb3B1cF82MjlhM2I4MTNhNDI0NjI5YTNmNDBlODIxN2I1ZTgyZSA9IEwucG9wdXAoe21heFdpZHRoOiAnMzAwJ30pOwoKICAgICAgICAgICAgCiAgICAgICAgICAgICAgICB2YXIgaHRtbF83YTMxMTM2ZTc0OTU0YjE4OTZkYzExNWQ4MzBlYzhkYiA9ICQoJzxkaXYgaWQ9Imh0bWxfN2EzMTEzNmU3NDk1NGIxODk2ZGMxMTVkODMwZWM4ZGIiIHN0eWxlPSJ3aWR0aDogMTAwLjAlOyBoZWlnaHQ6IDEwMC4wJTsiPjY4MTA3IENsdXN0ZXIgMzwvZGl2PicpWzBdOwogICAgICAgICAgICAgICAgcG9wdXBfNjI5YTNiODEzYTQyNDYyOWEzZjQwZTgyMTdiNWU4MmUuc2V0Q29udGVudChodG1sXzdhMzExMzZlNzQ5NTRiMTg5NmRjMTE1ZDgzMGVjOGRiKTsKICAgICAgICAgICAgCgogICAgICAgICAgICBjaXJjbGVfbWFya2VyXzFiMTZkZWQ2MmZjNTRjMGVhZGMxZDdiZDQ4MmNlZTUyLmJpbmRQb3B1cChwb3B1cF82MjlhM2I4MTNhNDI0NjI5YTNmNDBlODIxN2I1ZTgyZSk7CgogICAgICAgICAgICAKICAgICAgICAKICAgIAogICAgICAgICAgICB2YXIgY2lyY2xlX21hcmtlcl8yZGNjZmMxN2NlMWU0MjBlOTRkNGI2MDYwZjYyNTU0MCA9IEwuY2lyY2xlTWFya2VyKAogICAgICAgICAgICAgICAgWzQxLjI0MDg1NCwtOTUuOTYzODNdLAogICAgICAgICAgICAgICAgewogICJidWJibGluZ01vdXNlRXZlbnRzIjogdHJ1ZSwKICAiY29sb3IiOiAiIzgwMDBmZiIsCiAgImRhc2hBcnJheSI6IG51bGwsCiAgImRhc2hPZmZzZXQiOiBudWxsLAogICJmaWxsIjogdHJ1ZSwKICAiZmlsbENvbG9yIjogIiM4MDAwZmYiLAogICJmaWxsT3BhY2l0eSI6IDAuNywKICAiZmlsbFJ1bGUiOiAiZXZlbm9kZCIsCiAgImxpbmVDYXAiOiAicm91bmQiLAogICJsaW5lSm9pbiI6ICJyb3VuZCIsCiAgIm9wYWNpdHkiOiAxLjAsCiAgInJhZGl1cyI6IDUsCiAgInN0cm9rZSI6IHRydWUsCiAgIndlaWdodCI6IDMKfQogICAgICAgICAgICAgICAgKS5hZGRUbyhtYXBfZGQ1NzkzNzZiMjFhNDJhN2I2OGU3OGViZjNkZmQxOWYpOwogICAgICAgICAgICAKICAgIAogICAgICAgICAgICB2YXIgcG9wdXBfNmY3NTc1Yzc0YTc4NDhlMjk2MzBhZjYxMjEzNzlkMTYgPSBMLnBvcHVwKHttYXhXaWR0aDogJzMwMCd9KTsKCiAgICAgICAgICAgIAogICAgICAgICAgICAgICAgdmFyIGh0bWxfNDVkNGQxYjk0ZGQ2NGEwZmI4MTY2ZTQ3OTZlMmJmNTQgPSAkKCc8ZGl2IGlkPSJodG1sXzQ1ZDRkMWI5NGRkNjRhMGZiODE2NmU0Nzk2ZTJiZjU0IiBzdHlsZT0id2lkdGg6IDEwMC4wJTsgaGVpZ2h0OiAxMDAuMCU7Ij42ODEwNSBDbHVzdGVyIDE8L2Rpdj4nKVswXTsKICAgICAgICAgICAgICAgIHBvcHVwXzZmNzU3NWM3NGE3ODQ4ZTI5NjMwYWY2MTIxMzc5ZDE2LnNldENvbnRlbnQoaHRtbF80NWQ0ZDFiOTRkZDY0YTBmYjgxNjZlNDc5NmUyYmY1NCk7CiAgICAgICAgICAgIAoKICAgICAgICAgICAgY2lyY2xlX21hcmtlcl8yZGNjZmMxN2NlMWU0MjBlOTRkNGI2MDYwZjYyNTU0MC5iaW5kUG9wdXAocG9wdXBfNmY3NTc1Yzc0YTc4NDhlMjk2MzBhZjYxMjEzNzlkMTYpOwoKICAgICAgICAgICAgCiAgICAgICAgCiAgICAKICAgICAgICAgICAgdmFyIGNpcmNsZV9tYXJrZXJfZjJjMTFlODBmOWRhNGU3NjgzNWY3ZTllMzA0ZWJjNDggPSBMLmNpcmNsZU1hcmtlcigKICAgICAgICAgICAgICAgIFs0MS4yOTIzMjEsLTk1LjkzNDI3XSwKICAgICAgICAgICAgICAgIHsKICAiYnViYmxpbmdNb3VzZUV2ZW50cyI6IHRydWUsCiAgImNvbG9yIjogIiNmZjAwMDAiLAogICJkYXNoQXJyYXkiOiBudWxsLAogICJkYXNoT2Zmc2V0IjogbnVsbCwKICAiZmlsbCI6IHRydWUsCiAgImZpbGxDb2xvciI6ICIjZmYwMDAwIiwKICAiZmlsbE9wYWNpdHkiOiAwLjcsCiAgImZpbGxSdWxlIjogImV2ZW5vZGQiLAogICJsaW5lQ2FwIjogInJvdW5kIiwKICAibGluZUpvaW4iOiAicm91bmQiLAogICJvcGFjaXR5IjogMS4wLAogICJyYWRpdXMiOiA1LAogICJzdHJva2UiOiB0cnVlLAogICJ3ZWlnaHQiOiAzCn0KICAgICAgICAgICAgICAgICkuYWRkVG8obWFwX2RkNTc5Mzc2YjIxYTQyYTdiNjhlNzhlYmYzZGZkMTlmKTsKICAgICAgICAgICAgCiAgICAKICAgICAgICAgICAgdmFyIHBvcHVwX2M0ZTc5MzljMTU1YzQxMjc5ZTVkMTcyYjM1ZGQxMjUwID0gTC5wb3B1cCh7bWF4V2lkdGg6ICczMDAnfSk7CgogICAgICAgICAgICAKICAgICAgICAgICAgICAgIHZhciBodG1sXzQxNDlmYzkzMmM2MTQ5NDFiNjIwNjdmNThiOTI3OTM4ID0gJCgnPGRpdiBpZD0iaHRtbF80MTQ5ZmM5MzJjNjE0OTQxYjYyMDY3ZjU4YjkyNzkzOCIgc3R5bGU9IndpZHRoOiAxMDAuMCU7IGhlaWdodDogMTAwLjAlOyI+NjgxMTAgQ2x1c3RlciAwPC9kaXY+JylbMF07CiAgICAgICAgICAgICAgICBwb3B1cF9jNGU3OTM5YzE1NWM0MTI3OWU1ZDE3MmIzNWRkMTI1MC5zZXRDb250ZW50KGh0bWxfNDE0OWZjOTMyYzYxNDk0MWI2MjA2N2Y1OGI5Mjc5MzgpOwogICAgICAgICAgICAKCiAgICAgICAgICAgIGNpcmNsZV9tYXJrZXJfZjJjMTFlODBmOWRhNGU3NjgzNWY3ZTllMzA0ZWJjNDguYmluZFBvcHVwKHBvcHVwX2M0ZTc5MzljMTU1YzQxMjc5ZTVkMTcyYjM1ZGQxMjUwKTsKCiAgICAgICAgICAgIAogICAgICAgIAogICAgCiAgICAgICAgICAgIHZhciBjaXJjbGVfbWFya2VyXzMyZTM4MGNmNGZlNjQ2NWZiNDI2ZjM2Nzc0MzBkNzg3ID0gTC5jaXJjbGVNYXJrZXIoCiAgICAgICAgICAgICAgICBbNDEuMjkyNDQ1LC05Ni4wMDA2XSwKICAgICAgICAgICAgICAgIHsKICAiYnViYmxpbmdNb3VzZUV2ZW50cyI6IHRydWUsCiAgImNvbG9yIjogIiM4MDAwZmYiLAogICJkYXNoQXJyYXkiOiBudWxsLAogICJkYXNoT2Zmc2V0IjogbnVsbCwKICAiZmlsbCI6IHRydWUsCiAgImZpbGxDb2xvciI6ICIjODAwMGZmIiwKICAiZmlsbE9wYWNpdHkiOiAwLjcsCiAgImZpbGxSdWxlIjogImV2ZW5vZGQiLAogICJsaW5lQ2FwIjogInJvdW5kIiwKICAibGluZUpvaW4iOiAicm91bmQiLAogICJvcGFjaXR5IjogMS4wLAogICJyYWRpdXMiOiA1LAogICJzdHJva2UiOiB0cnVlLAogICJ3ZWlnaHQiOiAzCn0KICAgICAgICAgICAgICAgICkuYWRkVG8obWFwX2RkNTc5Mzc2YjIxYTQyYTdiNjhlNzhlYmYzZGZkMTlmKTsKICAgICAgICAgICAgCiAgICAKICAgICAgICAgICAgdmFyIHBvcHVwXzRjMDY3M2Y5YzZhYzQxMDE4MGQzOTczNTc5MTg1MTBlID0gTC5wb3B1cCh7bWF4V2lkdGg6ICczMDAnfSk7CgogICAgICAgICAgICAKICAgICAgICAgICAgICAgIHZhciBodG1sX2U0YjUzNDJiZmEwMjQ5YWViMDc2MjJkM2M4MjdhYzllID0gJCgnPGRpdiBpZD0iaHRtbF9lNGI1MzQyYmZhMDI0OWFlYjA3NjIyZDNjODI3YWM5ZSIgc3R5bGU9IndpZHRoOiAxMDAuMCU7IGhlaWdodDogMTAwLjAlOyI+NjgxMDQgQ2x1c3RlciAxPC9kaXY+JylbMF07CiAgICAgICAgICAgICAgICBwb3B1cF80YzA2NzNmOWM2YWM0MTAxODBkMzk3MzU3OTE4NTEwZS5zZXRDb250ZW50KGh0bWxfZTRiNTM0MmJmYTAyNDlhZWIwNzYyMmQzYzgyN2FjOWUpOwogICAgICAgICAgICAKCiAgICAgICAgICAgIGNpcmNsZV9tYXJrZXJfMzJlMzgwY2Y0ZmU2NDY1ZmI0MjZmMzY3NzQzMGQ3ODcuYmluZFBvcHVwKHBvcHVwXzRjMDY3M2Y5YzZhYzQxMDE4MGQzOTczNTc5MTg1MTBlKTsKCiAgICAgICAgICAgIAogICAgICAgIAogICAgCiAgICAgICAgICAgIHZhciBjaXJjbGVfbWFya2VyXzJjNzRiZmE5ZDgwNDQxMjNhYjgzYTIyZmUzMDBlYmNmID0gTC5jaXJjbGVNYXJrZXIoCiAgICAgICAgICAgICAgICBbNDEuMzM0OTQ3LC05NS45NTkyNDAwMDAwMDAwMV0sCiAgICAgICAgICAgICAgICB7CiAgImJ1YmJsaW5nTW91c2VFdmVudHMiOiB0cnVlLAogICJjb2xvciI6ICIjODAwMGZmIiwKICAiZGFzaEFycmF5IjogbnVsbCwKICAiZGFzaE9mZnNldCI6IG51bGwsCiAgImZpbGwiOiB0cnVlLAogICJmaWxsQ29sb3IiOiAiIzgwMDBmZiIsCiAgImZpbGxPcGFjaXR5IjogMC43LAogICJmaWxsUnVsZSI6ICJldmVub2RkIiwKICAibGluZUNhcCI6ICJyb3VuZCIsCiAgImxpbmVKb2luIjogInJvdW5kIiwKICAib3BhY2l0eSI6IDEuMCwKICAicmFkaXVzIjogNSwKICAic3Ryb2tlIjogdHJ1ZSwKICAid2VpZ2h0IjogMwp9CiAgICAgICAgICAgICAgICApLmFkZFRvKG1hcF9kZDU3OTM3NmIyMWE0MmE3YjY4ZTc4ZWJmM2RmZDE5Zik7CiAgICAgICAgICAgIAogICAgCiAgICAgICAgICAgIHZhciBwb3B1cF84YzM2YmY5M2IyMWM0NThlOTFhMWNjOWFlMmU4MGMxYyA9IEwucG9wdXAoe21heFdpZHRoOiAnMzAwJ30pOwoKICAgICAgICAgICAgCiAgICAgICAgICAgICAgICB2YXIgaHRtbF9lMTQ5YTAzOTJjNmE0MDQzYTlmNjVkNzI3ODA2OWM5NCA9ICQoJzxkaXYgaWQ9Imh0bWxfZTE0OWEwMzkyYzZhNDA0M2E5ZjY1ZDcyNzgwNjljOTQiIHN0eWxlPSJ3aWR0aDogMTAwLjAlOyBoZWlnaHQ6IDEwMC4wJTsiPjY4MTEyIENsdXN0ZXIgMTwvZGl2PicpWzBdOwogICAgICAgICAgICAgICAgcG9wdXBfOGMzNmJmOTNiMjFjNDU4ZTkxYTFjYzlhZTJlODBjMWMuc2V0Q29udGVudChodG1sX2UxNDlhMDM5MmM2YTQwNDNhOWY2NWQ3Mjc4MDY5Yzk0KTsKICAgICAgICAgICAgCgogICAgICAgICAgICBjaXJjbGVfbWFya2VyXzJjNzRiZmE5ZDgwNDQxMjNhYjgzYTIyZmUzMDBlYmNmLmJpbmRQb3B1cChwb3B1cF84YzM2YmY5M2IyMWM0NThlOTFhMWNjOWFlMmU4MGMxYyk7CgogICAgICAgICAgICAKICAgICAgICAKICAgIAogICAgICAgICAgICB2YXIgY2lyY2xlX21hcmtlcl82OWZkODYwNTBhMTk0ZTBmOTI3NDY5N2YyMmFkZDBjNCA9IEwuY2lyY2xlTWFya2VyKAogICAgICAgICAgICAgICAgWzQxLjI2NDQxOCwtOTUuOTYzODNdLAogICAgICAgICAgICAgICAgewogICJidWJibGluZ01vdXNlRXZlbnRzIjogdHJ1ZSwKICAiY29sb3IiOiAiIzgwMDBmZiIsCiAgImRhc2hBcnJheSI6IG51bGwsCiAgImRhc2hPZmZzZXQiOiBudWxsLAogICJmaWxsIjogdHJ1ZSwKICAiZmlsbENvbG9yIjogIiM4MDAwZmYiLAogICJmaWxsT3BhY2l0eSI6IDAuNywKICAiZmlsbFJ1bGUiOiAiZXZlbm9kZCIsCiAgImxpbmVDYXAiOiAicm91bmQiLAogICJsaW5lSm9pbiI6ICJyb3VuZCIsCiAgIm9wYWNpdHkiOiAxLjAsCiAgInJhZGl1cyI6IDUsCiAgInN0cm9rZSI6IHRydWUsCiAgIndlaWdodCI6IDMKfQogICAgICAgICAgICAgICAgKS5hZGRUbyhtYXBfZGQ1NzkzNzZiMjFhNDJhN2I2OGU3OGViZjNkZmQxOWYpOwogICAgICAgICAgICAKICAgIAogICAgICAgICAgICB2YXIgcG9wdXBfNGQxYzgwNjQ4NzEzNDBhNjkzMjJlOWY2MGVkN2U0ZGMgPSBMLnBvcHVwKHttYXhXaWR0aDogJzMwMCd9KTsKCiAgICAgICAgICAgIAogICAgICAgICAgICAgICAgdmFyIGh0bWxfZDdiMDgxMmNkYjIyNDBlZDhkZWY2OWQ1YzllN2FkYWQgPSAkKCc8ZGl2IGlkPSJodG1sX2Q3YjA4MTJjZGIyMjQwZWQ4ZGVmNjlkNWM5ZTdhZGFkIiBzdHlsZT0id2lkdGg6IDEwMC4wJTsgaGVpZ2h0OiAxMDAuMCU7Ij42ODEzMSBDbHVzdGVyIDE8L2Rpdj4nKVswXTsKICAgICAgICAgICAgICAgIHBvcHVwXzRkMWM4MDY0ODcxMzQwYTY5MzIyZTlmNjBlZDdlNGRjLnNldENvbnRlbnQoaHRtbF9kN2IwODEyY2RiMjI0MGVkOGRlZjY5ZDVjOWU3YWRhZCk7CiAgICAgICAgICAgIAoKICAgICAgICAgICAgY2lyY2xlX21hcmtlcl82OWZkODYwNTBhMTk0ZTBmOTI3NDY5N2YyMmFkZDBjNC5iaW5kUG9wdXAocG9wdXBfNGQxYzgwNjQ4NzEzNDBhNjkzMjJlOWY2MGVkN2U0ZGMpOwoKICAgICAgICAgICAgCiAgICAgICAgCiAgICAKICAgICAgICAgICAgdmFyIGNpcmNsZV9tYXJrZXJfMjNlMmYwY2JhZWFlNDQ3NzhmYjMxYWM0Y2FiYzQ0MGEgPSBMLmNpcmNsZU1hcmtlcigKICAgICAgICAgICAgICAgIFs0MS4yOTQ1NDY5OTk5OTk5OTQsLTk1Ljk2NDM0XSwKICAgICAgICAgICAgICAgIHsKICAiYnViYmxpbmdNb3VzZUV2ZW50cyI6IHRydWUsCiAgImNvbG9yIjogIiNmZmIzNjAiLAogICJkYXNoQXJyYXkiOiBudWxsLAogICJkYXNoT2Zmc2V0IjogbnVsbCwKICAiZmlsbCI6IHRydWUsCiAgImZpbGxDb2xvciI6ICIjZmZiMzYwIiwKICAiZmlsbE9wYWNpdHkiOiAwLjcsCiAgImZpbGxSdWxlIjogImV2ZW5vZGQiLAogICJsaW5lQ2FwIjogInJvdW5kIiwKICAibGluZUpvaW4iOiAicm91bmQiLAogICJvcGFjaXR5IjogMS4wLAogICJyYWRpdXMiOiA1LAogICJzdHJva2UiOiB0cnVlLAogICJ3ZWlnaHQiOiAzCn0KICAgICAgICAgICAgICAgICkuYWRkVG8obWFwX2RkNTc5Mzc2YjIxYTQyYTdiNjhlNzhlYmYzZGZkMTlmKTsKICAgICAgICAgICAgCiAgICAKICAgICAgICAgICAgdmFyIHBvcHVwXzU3M2QzMGYyNzYyYTRlOWZiNGRmZmZhMjM4NmM5MTU2ID0gTC5wb3B1cCh7bWF4V2lkdGg6ICczMDAnfSk7CgogICAgICAgICAgICAKICAgICAgICAgICAgICAgIHZhciBodG1sXzA3NzI1NTllODNlNjRkOTI5OWFjNTkyYjgxZmFjODNlID0gJCgnPGRpdiBpZD0iaHRtbF8wNzcyNTU5ZTgzZTY0ZDkyOTlhYzU5MmI4MWZhYzgzZSIgc3R5bGU9IndpZHRoOiAxMDAuMCU7IGhlaWdodDogMTAwLjAlOyI+NjgxMTEgQ2x1c3RlciA0PC9kaXY+JylbMF07CiAgICAgICAgICAgICAgICBwb3B1cF81NzNkMzBmMjc2MmE0ZTlmYjRkZmZmYTIzODZjOTE1Ni5zZXRDb250ZW50KGh0bWxfMDc3MjU1OWU4M2U2NGQ5Mjk5YWM1OTJiODFmYWM4M2UpOwogICAgICAgICAgICAKCiAgICAgICAgICAgIGNpcmNsZV9tYXJrZXJfMjNlMmYwY2JhZWFlNDQ3NzhmYjMxYWM0Y2FiYzQ0MGEuYmluZFBvcHVwKHBvcHVwXzU3M2QzMGYyNzYyYTRlOWZiNGRmZmZhMjM4NmM5MTU2KTsKCiAgICAgICAgICAgIAogICAgICAgIAogICAgCiAgICAgICAgICAgIHZhciBjaXJjbGVfbWFya2VyXzFkNjU1NWNmNTc4ZjQ1OWZhOWMxNGVhYjJhNjk3MTUxID0gTC5jaXJjbGVNYXJrZXIoCiAgICAgICAgICAgICAgICBbNDEuMjY1NjUsLTk1Ljk5NzQxXSwKICAgICAgICAgICAgICAgIHsKICAiYnViYmxpbmdNb3VzZUV2ZW50cyI6IHRydWUsCiAgImNvbG9yIjogIiM4MDAwZmYiLAogICJkYXNoQXJyYXkiOiBudWxsLAogICJkYXNoT2Zmc2V0IjogbnVsbCwKICAiZmlsbCI6IHRydWUsCiAgImZpbGxDb2xvciI6ICIjODAwMGZmIiwKICAiZmlsbE9wYWNpdHkiOiAwLjcsCiAgImZpbGxSdWxlIjogImV2ZW5vZGQiLAogICJsaW5lQ2FwIjogInJvdW5kIiwKICAibGluZUpvaW4iOiAicm91bmQiLAogICJvcGFjaXR5IjogMS4wLAogICJyYWRpdXMiOiA1LAogICJzdHJva2UiOiB0cnVlLAogICJ3ZWlnaHQiOiAzCn0KICAgICAgICAgICAgICAgICkuYWRkVG8obWFwX2RkNTc5Mzc2YjIxYTQyYTdiNjhlNzhlYmYzZGZkMTlmKTsKICAgICAgICAgICAgCiAgICAKICAgICAgICAgICAgdmFyIHBvcHVwX2ZmZWVlZDkwNDE5MDQyM2VhOTA0NTlhZDMzYWI1Y2NhID0gTC5wb3B1cCh7bWF4V2lkdGg6ICczMDAnfSk7CgogICAgICAgICAgICAKICAgICAgICAgICAgICAgIHZhciBodG1sX2Q4NjZmNjFkYzFkYTRhNjlhYjlkM2M4NjdjNjc4YTU4ID0gJCgnPGRpdiBpZD0iaHRtbF9kODY2ZjYxZGMxZGE0YTY5YWI5ZDNjODY3YzY3OGE1OCIgc3R5bGU9IndpZHRoOiAxMDAuMCU7IGhlaWdodDogMTAwLjAlOyI+NjgxMzIgQ2x1c3RlciAxPC9kaXY+JylbMF07CiAgICAgICAgICAgICAgICBwb3B1cF9mZmVlZWQ5MDQxOTA0MjNlYTkwNDU5YWQzM2FiNWNjYS5zZXRDb250ZW50KGh0bWxfZDg2NmY2MWRjMWRhNGE2OWFiOWQzYzg2N2M2NzhhNTgpOwogICAgICAgICAgICAKCiAgICAgICAgICAgIGNpcmNsZV9tYXJrZXJfMWQ2NTU1Y2Y1NzhmNDU5ZmE5YzE0ZWFiMmE2OTcxNTEuYmluZFBvcHVwKHBvcHVwX2ZmZWVlZDkwNDE5MDQyM2VhOTA0NTlhZDMzYWI1Y2NhKTsKCiAgICAgICAgICAgIAogICAgICAgIAogICAgCiAgICAgICAgICAgIHZhciBjaXJjbGVfbWFya2VyX2U3ZDI2MjU1YzdjOTRiN2Y4ODlmMjAxNTA0NDdjNGQ4ID0gTC5jaXJjbGVNYXJrZXIoCiAgICAgICAgICAgICAgICBbNDEuMjQwNTYyLC05NS45MzM1M10sCiAgICAgICAgICAgICAgICB7CiAgImJ1YmJsaW5nTW91c2VFdmVudHMiOiB0cnVlLAogICJjb2xvciI6ICIjODAwMGZmIiwKICAiZGFzaEFycmF5IjogbnVsbCwKICAiZGFzaE9mZnNldCI6IG51bGwsCiAgImZpbGwiOiB0cnVlLAogICJmaWxsQ29sb3IiOiAiIzgwMDBmZiIsCiAgImZpbGxPcGFjaXR5IjogMC43LAogICJmaWxsUnVsZSI6ICJldmVub2RkIiwKICAibGluZUNhcCI6ICJyb3VuZCIsCiAgImxpbmVKb2luIjogInJvdW5kIiwKICAib3BhY2l0eSI6IDEuMCwKICAicmFkaXVzIjogNSwKICAic3Ryb2tlIjogdHJ1ZSwKICAid2VpZ2h0IjogMwp9CiAgICAgICAgICAgICAgICApLmFkZFRvKG1hcF9kZDU3OTM3NmIyMWE0MmE3YjY4ZTc4ZWJmM2RmZDE5Zik7CiAgICAgICAgICAgIAogICAgCiAgICAgICAgICAgIHZhciBwb3B1cF8wZDViOTc0OTNmZTk0MDcwYjNmYWI2NjdkYmM1NDE3OSA9IEwucG9wdXAoe21heFdpZHRoOiAnMzAwJ30pOwoKICAgICAgICAgICAgCiAgICAgICAgICAgICAgICB2YXIgaHRtbF83NGQ0YTUwNTE3NmQ0ZjI4YTE2ZjExYzMwMjQ3Y2ExYyA9ICQoJzxkaXYgaWQ9Imh0bWxfNzRkNGE1MDUxNzZkNGYyOGExNmYxMWMzMDI0N2NhMWMiIHN0eWxlPSJ3aWR0aDogMTAwLjAlOyBoZWlnaHQ6IDEwMC4wJTsiPjY4MTA4IENsdXN0ZXIgMTwvZGl2PicpWzBdOwogICAgICAgICAgICAgICAgcG9wdXBfMGQ1Yjk3NDkzZmU5NDA3MGIzZmFiNjY3ZGJjNTQxNzkuc2V0Q29udGVudChodG1sXzc0ZDRhNTA1MTc2ZDRmMjhhMTZmMTFjMzAyNDdjYTFjKTsKICAgICAgICAgICAgCgogICAgICAgICAgICBjaXJjbGVfbWFya2VyX2U3ZDI2MjU1YzdjOTRiN2Y4ODlmMjAxNTA0NDdjNGQ4LmJpbmRQb3B1cChwb3B1cF8wZDViOTc0OTNmZTk0MDcwYjNmYWI2NjdkYmM1NDE3OSk7CgogICAgICAgICAgICAKICAgICAgICAKICAgIAogICAgICAgICAgICB2YXIgY2lyY2xlX21hcmtlcl8wMDYzNWRhNzYyMDk0MDZhYjRmNGM0ZmExY2IyNTdkNyA9IEwuY2lyY2xlTWFya2VyKAogICAgICAgICAgICAgICAgWzQxLjI4OTEsLTk2LjI0ODJdLAogICAgICAgICAgICAgICAgewogICJidWJibGluZ01vdXNlRXZlbnRzIjogdHJ1ZSwKICAiY29sb3IiOiAiIzAwYjVlYiIsCiAgImRhc2hBcnJheSI6IG51bGwsCiAgImRhc2hPZmZzZXQiOiBudWxsLAogICJmaWxsIjogdHJ1ZSwKICAiZmlsbENvbG9yIjogIiMwMGI1ZWIiLAogICJmaWxsT3BhY2l0eSI6IDAuNywKICAiZmlsbFJ1bGUiOiAiZXZlbm9kZCIsCiAgImxpbmVDYXAiOiAicm91bmQiLAogICJsaW5lSm9pbiI6ICJyb3VuZCIsCiAgIm9wYWNpdHkiOiAxLjAsCiAgInJhZGl1cyI6IDUsCiAgInN0cm9rZSI6IHRydWUsCiAgIndlaWdodCI6IDMKfQogICAgICAgICAgICAgICAgKS5hZGRUbyhtYXBfZGQ1NzkzNzZiMjFhNDJhN2I2OGU3OGViZjNkZmQxOWYpOwogICAgICAgICAgICAKICAgIAogICAgICAgICAgICB2YXIgcG9wdXBfY2ZjODUzZWNmOGYyNDY2ODhjODBmZjhlY2YzNjQ2OTMgPSBMLnBvcHVwKHttYXhXaWR0aDogJzMwMCd9KTsKCiAgICAgICAgICAgIAogICAgICAgICAgICAgICAgdmFyIGh0bWxfZTliNDFmNjU2NmY2NDk5Y2I1ZGViMmExYjJiMjlhMmMgPSAkKCc8ZGl2IGlkPSJodG1sX2U5YjQxZjY1NjZmNjQ5OWNiNWRlYjJhMWIyYjI5YTJjIiBzdHlsZT0id2lkdGg6IDEwMC4wJTsgaGVpZ2h0OiAxMDAuMCU7Ij42ODAyMiBDbHVzdGVyIDI8L2Rpdj4nKVswXTsKICAgICAgICAgICAgICAgIHBvcHVwX2NmYzg1M2VjZjhmMjQ2Njg4YzgwZmY4ZWNmMzY0NjkzLnNldENvbnRlbnQoaHRtbF9lOWI0MWY2NTY2ZjY0OTljYjVkZWIyYTFiMmIyOWEyYyk7CiAgICAgICAgICAgIAoKICAgICAgICAgICAgY2lyY2xlX21hcmtlcl8wMDYzNWRhNzYyMDk0MDZhYjRmNGM0ZmExY2IyNTdkNy5iaW5kUG9wdXAocG9wdXBfY2ZjODUzZWNmOGYyNDY2ODhjODBmZjhlY2YzNjQ2OTMpOwoKICAgICAgICAgICAgCiAgICAgICAgCjwvc2NyaXB0Pg== onload=\"this.contentDocument.open();this.contentDocument.write(atob(this.getAttribute('data-html')));this.contentDocument.close();\" allowfullscreen webkitallowfullscreen mozallowfullscreen></iframe></div></div>",
                        "text/plain": "<folium.folium.Map at 0x7f63e8a78978>"
                    },
                    "execution_count": 105,
                    "metadata": {},
                    "output_type": "execute_result"
                }
            ],
            "source": "map_clusters = folium.Map(location=[latitude, longitude], zoom_start=11)\nx = np.arange(kclusters)\nys = [i + x + (i*x)**2 for i in range(kclusters)]\ncolors_array = cm.rainbow(np.linspace(0, 1, len(ys)))\nrainbow = [colors.rgb2hex(i) for i in colors_array]\n\nmarkers_colors = []\nfor lat, lon, poi, cluster in zip(omaha_grouped['Latitude'], omaha_grouped['Longitude'], omaha_grouped['Zip'], omaha_grouped['Cluster Labels']):\n    label = folium.Popup(str(poi) + ' Cluster ' + str(cluster), parse_html=True)\n    folium.CircleMarker(\n        [lat, lon],\n        radius=5,\n        popup=label,\n        color=rainbow[int(cluster-1)],\n        fill=True,\n        fill_color=rainbow[int(cluster-1)],\n        fill_opacity=0.7).add_to(map_clusters)\n    \nmap_clusters"
        },
        {
            "cell_type": "markdown",
            "metadata": {},
            "source": "## Cluster One"
        },
        {
            "cell_type": "code",
            "execution_count": 106,
            "metadata": {},
            "outputs": [
                {
                    "data": {
                        "text/html": "<div>\n<style scoped>\n    .dataframe tbody tr th:only-of-type {\n        vertical-align: middle;\n    }\n\n    .dataframe tbody tr th {\n        vertical-align: top;\n    }\n\n    .dataframe thead th {\n        text-align: right;\n    }\n</style>\n<table border=\"1\" class=\"dataframe\">\n  <thead>\n    <tr style=\"text-align: right;\">\n      <th></th>\n      <th>City</th>\n      <th>1st Most Common Venue</th>\n      <th>2nd Most Common Venue</th>\n      <th>3rd Most Common Venue</th>\n      <th>4th Most Common Venue</th>\n      <th>5th Most Common Venue</th>\n      <th>6th Most Common Venue</th>\n      <th>7th Most Common Venue</th>\n      <th>8th Most Common Venue</th>\n      <th>9th Most Common Venue</th>\n      <th>10th Most Common Venue</th>\n    </tr>\n  </thead>\n  <tbody>\n    <tr>\n      <th>147</th>\n      <td>Omaha</td>\n      <td>Golf Course</td>\n      <td>Grocery Store</td>\n      <td>Thrift / Vintage Store</td>\n      <td>Discount Store</td>\n      <td>Shipping Store</td>\n      <td>Convenience Store</td>\n      <td>Baseball Field</td>\n      <td>Italian Restaurant</td>\n      <td>Construction &amp; Landscaping</td>\n      <td>Auto Workshop</td>\n    </tr>\n  </tbody>\n</table>\n</div>",
                        "text/plain": "      City 1st Most Common Venue 2nd Most Common Venue  \\\n147  Omaha           Golf Course         Grocery Store   \n\n      3rd Most Common Venue 4th Most Common Venue 5th Most Common Venue  \\\n147  Thrift / Vintage Store        Discount Store        Shipping Store   \n\n    6th Most Common Venue 7th Most Common Venue 8th Most Common Venue  \\\n147     Convenience Store        Baseball Field    Italian Restaurant   \n\n          9th Most Common Venue 10th Most Common Venue  \n147  Construction & Landscaping          Auto Workshop  "
                    },
                    "execution_count": 106,
                    "metadata": {},
                    "output_type": "execute_result"
                }
            ],
            "source": "omaha_grouped.loc[omaha_grouped['Cluster Labels'] == 0, omaha_grouped.columns[[1] + list(range(5, omaha_grouped.shape[1]))]]"
        },
        {
            "cell_type": "markdown",
            "metadata": {},
            "source": "## Cluster Two"
        },
        {
            "cell_type": "code",
            "execution_count": 107,
            "metadata": {},
            "outputs": [
                {
                    "data": {
                        "text/html": "<div>\n<style scoped>\n    .dataframe tbody tr th:only-of-type {\n        vertical-align: middle;\n    }\n\n    .dataframe tbody tr th {\n        vertical-align: top;\n    }\n\n    .dataframe thead th {\n        text-align: right;\n    }\n</style>\n<table border=\"1\" class=\"dataframe\">\n  <thead>\n    <tr style=\"text-align: right;\">\n      <th></th>\n      <th>City</th>\n      <th>1st Most Common Venue</th>\n      <th>2nd Most Common Venue</th>\n      <th>3rd Most Common Venue</th>\n      <th>4th Most Common Venue</th>\n      <th>5th Most Common Venue</th>\n      <th>6th Most Common Venue</th>\n      <th>7th Most Common Venue</th>\n      <th>8th Most Common Venue</th>\n      <th>9th Most Common Venue</th>\n      <th>10th Most Common Venue</th>\n    </tr>\n  </thead>\n  <tbody>\n    <tr>\n      <th>133</th>\n      <td>Omaha</td>\n      <td>Mexican Restaurant</td>\n      <td>Park</td>\n      <td>Historic Site</td>\n      <td>Intersection</td>\n      <td>Dentist's Office</td>\n      <td>Greek Restaurant</td>\n      <td>Pool</td>\n      <td>Burger Joint</td>\n      <td>Dog Run</td>\n      <td>Brewery</td>\n    </tr>\n    <tr>\n      <th>150</th>\n      <td>Omaha</td>\n      <td>Bar</td>\n      <td>Gas Station</td>\n      <td>Brewery</td>\n      <td>Restaurant</td>\n      <td>Pub</td>\n      <td>Pool</td>\n      <td>Burger Joint</td>\n      <td>Pizza Place</td>\n      <td>Business Service</td>\n      <td>Music Venue</td>\n    </tr>\n    <tr>\n      <th>313</th>\n      <td>Omaha</td>\n      <td>Pharmacy</td>\n      <td>Pizza Place</td>\n      <td>Historic Site</td>\n      <td>Sandwich Place</td>\n      <td>American Restaurant</td>\n      <td>Clothing Store</td>\n      <td>Convenience Store</td>\n      <td>Discount Store</td>\n      <td>Farmers Market</td>\n      <td>Fast Food Restaurant</td>\n    </tr>\n    <tr>\n      <th>326</th>\n      <td>Omaha</td>\n      <td>Bar</td>\n      <td>Park</td>\n      <td>Sandwich Place</td>\n      <td>Coffee Shop</td>\n      <td>Mexican Restaurant</td>\n      <td>Fast Food Restaurant</td>\n      <td>Gastropub</td>\n      <td>American Restaurant</td>\n      <td>Lounge</td>\n      <td>Cocktail Bar</td>\n    </tr>\n    <tr>\n      <th>459</th>\n      <td>Omaha</td>\n      <td>Bar</td>\n      <td>Coffee Shop</td>\n      <td>American Restaurant</td>\n      <td>Gas Station</td>\n      <td>Pizza Place</td>\n      <td>Massage Studio</td>\n      <td>Playground</td>\n      <td>Park</td>\n      <td>New American Restaurant</td>\n      <td>Dive Bar</td>\n    </tr>\n    <tr>\n      <th>628</th>\n      <td>Omaha</td>\n      <td>Dive Bar</td>\n      <td>Art Gallery</td>\n      <td>Sandwich Place</td>\n      <td>Mexican Restaurant</td>\n      <td>Discount Store</td>\n      <td>Performing Arts Venue</td>\n      <td>Pharmacy</td>\n      <td>Lawyer</td>\n      <td>Smoke Shop</td>\n      <td>Italian Restaurant</td>\n    </tr>\n  </tbody>\n</table>\n</div>",
                        "text/plain": "      City 1st Most Common Venue 2nd Most Common Venue 3rd Most Common Venue  \\\n133  Omaha    Mexican Restaurant                  Park         Historic Site   \n150  Omaha                   Bar           Gas Station               Brewery   \n313  Omaha              Pharmacy           Pizza Place         Historic Site   \n326  Omaha                   Bar                  Park        Sandwich Place   \n459  Omaha                   Bar           Coffee Shop   American Restaurant   \n628  Omaha              Dive Bar           Art Gallery        Sandwich Place   \n\n    4th Most Common Venue 5th Most Common Venue  6th Most Common Venue  \\\n133          Intersection      Dentist's Office       Greek Restaurant   \n150            Restaurant                   Pub                   Pool   \n313        Sandwich Place   American Restaurant         Clothing Store   \n326           Coffee Shop    Mexican Restaurant   Fast Food Restaurant   \n459           Gas Station           Pizza Place         Massage Studio   \n628    Mexican Restaurant        Discount Store  Performing Arts Venue   \n\n    7th Most Common Venue 8th Most Common Venue    9th Most Common Venue  \\\n133                  Pool          Burger Joint                  Dog Run   \n150          Burger Joint           Pizza Place         Business Service   \n313     Convenience Store        Discount Store           Farmers Market   \n326             Gastropub   American Restaurant                   Lounge   \n459            Playground                  Park  New American Restaurant   \n628              Pharmacy                Lawyer               Smoke Shop   \n\n    10th Most Common Venue  \n133                Brewery  \n150            Music Venue  \n313   Fast Food Restaurant  \n326           Cocktail Bar  \n459               Dive Bar  \n628     Italian Restaurant  "
                    },
                    "execution_count": 107,
                    "metadata": {},
                    "output_type": "execute_result"
                }
            ],
            "source": "omaha_grouped.loc[omaha_grouped['Cluster Labels'] == 1, omaha_grouped.columns[[1] + list(range(5, omaha_grouped.shape[1]))]]"
        },
        {
            "cell_type": "markdown",
            "metadata": {},
            "source": "## Cluster Three"
        },
        {
            "cell_type": "code",
            "execution_count": 108,
            "metadata": {},
            "outputs": [
                {
                    "data": {
                        "text/html": "<div>\n<style scoped>\n    .dataframe tbody tr th:only-of-type {\n        vertical-align: middle;\n    }\n\n    .dataframe tbody tr th {\n        vertical-align: top;\n    }\n\n    .dataframe thead th {\n        text-align: right;\n    }\n</style>\n<table border=\"1\" class=\"dataframe\">\n  <thead>\n    <tr style=\"text-align: right;\">\n      <th></th>\n      <th>City</th>\n      <th>1st Most Common Venue</th>\n      <th>2nd Most Common Venue</th>\n      <th>3rd Most Common Venue</th>\n      <th>4th Most Common Venue</th>\n      <th>5th Most Common Venue</th>\n      <th>6th Most Common Venue</th>\n      <th>7th Most Common Venue</th>\n      <th>8th Most Common Venue</th>\n      <th>9th Most Common Venue</th>\n      <th>10th Most Common Venue</th>\n    </tr>\n  </thead>\n  <tbody>\n    <tr>\n      <th>0</th>\n      <td>Omaha</td>\n      <td>Park</td>\n      <td>Baseball Field</td>\n      <td>Construction &amp; Landscaping</td>\n      <td>Home Service</td>\n      <td>Food Service</td>\n      <td>Dentist's Office</td>\n      <td>Diner</td>\n      <td>Discount Store</td>\n      <td>Dive Bar</td>\n      <td>Dog Run</td>\n    </tr>\n  </tbody>\n</table>\n</div>",
                        "text/plain": "    City 1st Most Common Venue 2nd Most Common Venue  \\\n0  Omaha                  Park        Baseball Field   \n\n        3rd Most Common Venue 4th Most Common Venue 5th Most Common Venue  \\\n0  Construction & Landscaping          Home Service          Food Service   \n\n  6th Most Common Venue 7th Most Common Venue 8th Most Common Venue  \\\n0      Dentist's Office                 Diner        Discount Store   \n\n  9th Most Common Venue 10th Most Common Venue  \n0              Dive Bar                Dog Run  "
                    },
                    "execution_count": 108,
                    "metadata": {},
                    "output_type": "execute_result"
                }
            ],
            "source": "omaha_grouped.loc[omaha_grouped['Cluster Labels'] == 2, omaha_grouped.columns[[1] + list(range(5, omaha_grouped.shape[1]))]]"
        },
        {
            "cell_type": "markdown",
            "metadata": {},
            "source": "## Cluster Four"
        },
        {
            "cell_type": "code",
            "execution_count": 109,
            "metadata": {},
            "outputs": [
                {
                    "data": {
                        "text/html": "<div>\n<style scoped>\n    .dataframe tbody tr th:only-of-type {\n        vertical-align: middle;\n    }\n\n    .dataframe tbody tr th {\n        vertical-align: top;\n    }\n\n    .dataframe thead th {\n        text-align: right;\n    }\n</style>\n<table border=\"1\" class=\"dataframe\">\n  <thead>\n    <tr style=\"text-align: right;\">\n      <th></th>\n      <th>City</th>\n      <th>1st Most Common Venue</th>\n      <th>2nd Most Common Venue</th>\n      <th>3rd Most Common Venue</th>\n      <th>4th Most Common Venue</th>\n      <th>5th Most Common Venue</th>\n      <th>6th Most Common Venue</th>\n      <th>7th Most Common Venue</th>\n      <th>8th Most Common Venue</th>\n      <th>9th Most Common Venue</th>\n      <th>10th Most Common Venue</th>\n    </tr>\n  </thead>\n  <tbody>\n    <tr>\n      <th>60</th>\n      <td>Omaha</td>\n      <td>Mexican Restaurant</td>\n      <td>Convenience Store</td>\n      <td>Discount Store</td>\n      <td>Gym / Fitness Center</td>\n      <td>Pizza Place</td>\n      <td>Supermarket</td>\n      <td>Dive Bar</td>\n      <td>Restaurant</td>\n      <td>Salsa Club</td>\n      <td>Seafood Restaurant</td>\n    </tr>\n  </tbody>\n</table>\n</div>",
                        "text/plain": "     City 1st Most Common Venue 2nd Most Common Venue 3rd Most Common Venue  \\\n60  Omaha    Mexican Restaurant     Convenience Store        Discount Store   \n\n   4th Most Common Venue 5th Most Common Venue 6th Most Common Venue  \\\n60  Gym / Fitness Center           Pizza Place           Supermarket   \n\n   7th Most Common Venue 8th Most Common Venue 9th Most Common Venue  \\\n60              Dive Bar            Restaurant            Salsa Club   \n\n   10th Most Common Venue  \n60     Seafood Restaurant  "
                    },
                    "execution_count": 109,
                    "metadata": {},
                    "output_type": "execute_result"
                }
            ],
            "source": "omaha_grouped.loc[omaha_grouped['Cluster Labels'] == 3, omaha_grouped.columns[[1] + list(range(5, omaha_grouped.shape[1]))]]"
        },
        {
            "cell_type": "markdown",
            "metadata": {},
            "source": "## Cluster Five"
        },
        {
            "cell_type": "code",
            "execution_count": 110,
            "metadata": {},
            "outputs": [
                {
                    "data": {
                        "text/html": "<div>\n<style scoped>\n    .dataframe tbody tr th:only-of-type {\n        vertical-align: middle;\n    }\n\n    .dataframe tbody tr th {\n        vertical-align: top;\n    }\n\n    .dataframe thead th {\n        text-align: right;\n    }\n</style>\n<table border=\"1\" class=\"dataframe\">\n  <thead>\n    <tr style=\"text-align: right;\">\n      <th></th>\n      <th>City</th>\n      <th>1st Most Common Venue</th>\n      <th>2nd Most Common Venue</th>\n      <th>3rd Most Common Venue</th>\n      <th>4th Most Common Venue</th>\n      <th>5th Most Common Venue</th>\n      <th>6th Most Common Venue</th>\n      <th>7th Most Common Venue</th>\n      <th>8th Most Common Venue</th>\n      <th>9th Most Common Venue</th>\n      <th>10th Most Common Venue</th>\n    </tr>\n  </thead>\n  <tbody>\n    <tr>\n      <th>414</th>\n      <td>Omaha</td>\n      <td>Gym / Fitness Center</td>\n      <td>Fast Food Restaurant</td>\n      <td>Discount Store</td>\n      <td>Bus Station</td>\n      <td>Grocery Store</td>\n      <td>IT Services</td>\n      <td>Gas Station</td>\n      <td>Fried Chicken Joint</td>\n      <td>Park</td>\n      <td>Cosmetics Shop</td>\n    </tr>\n  </tbody>\n</table>\n</div>",
                        "text/plain": "      City 1st Most Common Venue 2nd Most Common Venue 3rd Most Common Venue  \\\n414  Omaha  Gym / Fitness Center  Fast Food Restaurant        Discount Store   \n\n    4th Most Common Venue 5th Most Common Venue 6th Most Common Venue  \\\n414           Bus Station         Grocery Store           IT Services   \n\n    7th Most Common Venue 8th Most Common Venue 9th Most Common Venue  \\\n414           Gas Station   Fried Chicken Joint                  Park   \n\n    10th Most Common Venue  \n414         Cosmetics Shop  "
                    },
                    "execution_count": 110,
                    "metadata": {},
                    "output_type": "execute_result"
                }
            ],
            "source": "omaha_grouped.loc[omaha_grouped['Cluster Labels'] == 4, omaha_grouped.columns[[1] + list(range(5, omaha_grouped.shape[1]))]]"
        },
        {
            "cell_type": "markdown",
            "metadata": {},
            "source": "With the zip codes being clustered by popular venue, we have more information about area preferences when it comes to the types of businesses the individual populations like to support. As we can see, the residents of cluster three seek out more active activities whereas the individuals in cluster two enjoy an active nightlife of bars and restaurants."
        },
        {
            "cell_type": "code",
            "execution_count": null,
            "metadata": {},
            "outputs": [],
            "source": ""
        }
    ],
    "metadata": {
        "kernelspec": {
            "display_name": "Python 3.6",
            "language": "python",
            "name": "python3"
        },
        "language_info": {
            "codemirror_mode": {
                "name": "ipython",
                "version": 3
            },
            "file_extension": ".py",
            "mimetype": "text/x-python",
            "name": "python",
            "nbconvert_exporter": "python",
            "pygments_lexer": "ipython3",
            "version": "3.6.9"
        }
    },
    "nbformat": 4,
    "nbformat_minor": 1
}